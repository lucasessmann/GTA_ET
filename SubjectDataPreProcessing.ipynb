{
 "cells": [
  {
   "cell_type": "markdown",
   "metadata": {},
   "source": [
    "# Subject Data PreProcessing\n",
    "* find subject data\n",
    "* concatenate the inter-session data\n",
    "* concatenate the intra-session data"
   ]
  },
  {
   "cell_type": "markdown",
   "metadata": {},
   "source": [
    "## Configuration"
   ]
  },
  {
   "cell_type": "code",
   "execution_count": 1,
   "metadata": {},
   "outputs": [],
   "source": [
    "# General configuration\n",
    "import os\n",
    "\n",
    "# data_directory: str\n",
    "#     Path to a directory to store data.\n",
    "data_directory = '.'\n",
    "\n",
    "# install_missing_packages: bool\n",
    "#     A flag indicating if missing packages should be automatically installed\n",
    "install_missing_packages = True\n",
    "\n",
    "# use_conda: bool\n",
    "#     A flag indicating if conda should be used for software installation.\n",
    "#     If False, pip will be used. The default is to use conda if jupyter\n",
    "#     is run in a conda environment.\n",
    "use_conda = 'CONDA_EXE' in os.environ"
   ]
  },
  {
   "cell_type": "markdown",
   "metadata": {},
   "source": [
    "## Checking for missing packages"
   ]
  },
  {
   "cell_type": "code",
   "execution_count": 2,
   "metadata": {},
   "outputs": [],
   "source": [
    "import importlib\n",
    "\n",
    "def check_package(package, pip_pkg: str = None, conda_pkg: str = None):\n",
    "    \"\"\"Check if a given package is installed. If missing install\n",
    "    it (if global flag `install_missing_packages` is True) either with\n",
    "    pip or with conda (depending on `use_conda`).\n",
    "    \"\"\"\n",
    "    if importlib.util.find_spec(package) is not None:\n",
    "        return  # ok, package is already installed\n",
    "\n",
    "    if not install_missing_packages:\n",
    "        raise RuntimeError(f\"{package} is not installed!\")\n",
    "\n",
    "    if use_conda:\n",
    "        import conda.cli\n",
    "        conda.cli.main('conda', 'install',  '-y', conda_pkg or package)\n",
    "    else:\n",
    "        import subprocess\n",
    "        import sys            \n",
    "        subprocess.check_call([sys.executable, '-m', 'pip', 'install', pip_pkg or package])\n",
    "        \n",
    "# This is to exit cells without error tracebacks (cosmetic purpose)\n",
    "class StopExecution(Exception):\n",
    "    def _render_traceback_(self):\n",
    "        pass"
   ]
  },
  {
   "cell_type": "markdown",
   "metadata": {},
   "source": [
    "## Creating the required environment (skip if already done)\n",
    "\n",
    "Running the following cell will create a file graphs.yml that can be used to setup a conda environment containing the required packages. If you already downloaded the file from my GitHub, skip the next cell and create the env directly from it."
   ]
  },
  {
   "cell_type": "code",
   "execution_count": 4,
   "metadata": {},
   "outputs": [
    {
     "name": "stdout",
     "output_type": "stream",
     "text": [
      "Overwriting graphs.yml\n"
     ]
    }
   ],
   "source": [
    "%%writefile graphs.yml\n",
    "name: graphs\n",
    "channels:\n",
    "  - conda-forge\n",
    "  - defaults\n",
    "dependencies:\n",
    "  - python=3.6\n",
    "  - jupyter\n",
    "  - imageio\n",
    "  - imageio-ffmpeg\n",
    "  - matplotlib\n",
    "  - scikit-image\n",
    "  - opencv\n",
    "  - networkx\n",
    "  - pandas\n",
    "  - statsmodels"
   ]
  },
  {
   "cell_type": "markdown",
   "metadata": {},
   "source": [
    "### Environment Creation\n",
    "To create the environment, open the terminal, go to the directory where you stored the graphs.yml file (the directory of the notebook) and type\n",
    "conda env create -f graphs.yml\n",
    "After running this command you have to activate the environment (Linux/MacOS: conda activate graphs, Windows: activate graphs) and then reopen the notebook in that environment."
   ]
  },
  {
   "cell_type": "markdown",
   "metadata": {},
   "source": [
    "## Main Part"
   ]
  },
  {
   "cell_type": "markdown",
   "metadata": {},
   "source": [
    "### Imports and directory information"
   ]
  },
  {
   "cell_type": "code",
   "execution_count": 3,
   "metadata": {},
   "outputs": [],
   "source": [
    "import os\n",
    "import json\n",
    "import numpy as np\n",
    "import cv2 \n",
    "import matplotlib.pyplot as plt\n",
    "import pandas as pd\n",
    "import networkx as nX\n",
    "import glob\n",
    "import scipy.cluster.vq as clusters\n",
    "import warnings\n",
    "warnings.simplefilter(action='ignore', category=FutureWarning)\n",
    "\n",
    "from sklearn.preprocessing import normalize\n",
    "from pandas.plotting import autocorrelation_plot as AC_plot \n",
    "from statsmodels.graphics import tsaplots\n",
    "from statsmodels.tsa.stattools import acf\n",
    "from skimage.filters import gaussian\n",
    "from mpl_toolkits.mplot3d import Axes3D \n",
    "\n",
    "\n",
    "OG_DATA_PATH = './'\n",
    "DATA_PATH = './Data Exploration/'\n",
    "\n",
    "# Reset the Datapath since the data is not yet on Git, comment out if data is on Git \n",
    "DATA_PATH = '/Volumes/EXTENSION/Uni/Study Project/Data Exploration/'\n",
    "\n",
    "PROCESSED_DATA_PATH = './Results/'\n",
    "# Getting the Folder without hidden files in ascending order \n",
    "DATA_FOLDER = sorted([f for f in os.listdir(DATA_PATH) if not f.startswith('.')], key=str.lower)"
   ]
  },
  {
   "cell_type": "markdown",
   "metadata": {},
   "source": [
    "### Extracting all subject IDs from the data folder"
   ]
  },
  {
   "cell_type": "code",
   "execution_count": 5,
   "metadata": {
    "scrolled": true
   },
   "outputs": [
    {
     "name": "stdout",
     "output_type": "stream",
     "text": [
      "[1023]\n"
     ]
    }
   ],
   "source": [
    "subIDs = []\n",
    "for sub in DATA_FOLDER:\n",
    "    subIDs.append(int(sub[0:4]))\n",
    "subIDs = np.unique(subIDs)\n",
    "print(subIDs)"
   ]
  },
  {
   "cell_type": "markdown",
   "metadata": {},
   "source": [
    "### Combine the data\n",
    "* Loop through all subjects\n",
    "* extract the session data\n",
    "* combine the data\n",
    "* save it"
   ]
  },
  {
   "cell_type": "code",
   "execution_count": 135,
   "metadata": {
    "scrolled": true
   },
   "outputs": [
    {
     "name": "stdout",
     "output_type": "stream",
     "text": [
      "Total Sessionfiles: 4\n",
      "Session 1 started\n",
      "Session 2 started 66823/66823 - 100.00%\n",
      "Session 3 started 68007/68007 - 100.00%\n",
      "Session 4 started 66520/66520 - 100.00%\n"
     ]
    },
    {
     "ename": "JSONDecodeError",
     "evalue": "Expecting property name enclosed in double quotes: line 1 column 123011073 (char 123011072)",
     "output_type": "error",
     "traceback": [
      "\u001b[0;31m---------------------------------------------------------------------------\u001b[0m",
      "\u001b[0;31mJSONDecodeError\u001b[0m                           Traceback (most recent call last)",
      "\u001b[0;32m<ipython-input-135-19e51cec8b1b>\u001b[0m in \u001b[0;36m<module>\u001b[0;34m\u001b[0m\n\u001b[1;32m     23\u001b[0m     \u001b[0;31m# open the JSON file as dictionary\u001b[0m\u001b[0;34m\u001b[0m\u001b[0;34m\u001b[0m\u001b[0;34m\u001b[0m\u001b[0m\n\u001b[1;32m     24\u001b[0m     \u001b[0;32mwith\u001b[0m \u001b[0mopen\u001b[0m\u001b[0;34m(\u001b[0m\u001b[0mDATA_PATH\u001b[0m \u001b[0;34m+\u001b[0m \u001b[0msession\u001b[0m\u001b[0;34m)\u001b[0m \u001b[0;32mas\u001b[0m \u001b[0mf\u001b[0m\u001b[0;34m:\u001b[0m\u001b[0;34m\u001b[0m\u001b[0;34m\u001b[0m\u001b[0m\n\u001b[0;32m---> 25\u001b[0;31m         \u001b[0msubject_session\u001b[0m \u001b[0;34m=\u001b[0m \u001b[0mjson\u001b[0m\u001b[0;34m.\u001b[0m\u001b[0mloads\u001b[0m\u001b[0;34m(\u001b[0m\u001b[0mf\u001b[0m\u001b[0;34m.\u001b[0m\u001b[0mread\u001b[0m\u001b[0;34m(\u001b[0m\u001b[0;34m)\u001b[0m\u001b[0;34m)\u001b[0m\u001b[0;34m\u001b[0m\u001b[0;34m\u001b[0m\u001b[0m\n\u001b[0m\u001b[1;32m     26\u001b[0m \u001b[0;34m\u001b[0m\u001b[0m\n\u001b[1;32m     27\u001b[0m     \u001b[0mhitpoint_list\u001b[0m \u001b[0;34m=\u001b[0m \u001b[0;34m[\u001b[0m\u001b[0;34m]\u001b[0m\u001b[0;34m\u001b[0m\u001b[0;34m\u001b[0m\u001b[0m\n",
      "\u001b[0;32m/Applications/anaconda3/envs/graphs/lib/python3.6/json/__init__.py\u001b[0m in \u001b[0;36mloads\u001b[0;34m(s, encoding, cls, object_hook, parse_float, parse_int, parse_constant, object_pairs_hook, **kw)\u001b[0m\n\u001b[1;32m    352\u001b[0m             \u001b[0mparse_int\u001b[0m \u001b[0;32mis\u001b[0m \u001b[0;32mNone\u001b[0m \u001b[0;32mand\u001b[0m \u001b[0mparse_float\u001b[0m \u001b[0;32mis\u001b[0m \u001b[0;32mNone\u001b[0m \u001b[0;32mand\u001b[0m\u001b[0;34m\u001b[0m\u001b[0;34m\u001b[0m\u001b[0m\n\u001b[1;32m    353\u001b[0m             parse_constant is None and object_pairs_hook is None and not kw):\n\u001b[0;32m--> 354\u001b[0;31m         \u001b[0;32mreturn\u001b[0m \u001b[0m_default_decoder\u001b[0m\u001b[0;34m.\u001b[0m\u001b[0mdecode\u001b[0m\u001b[0;34m(\u001b[0m\u001b[0ms\u001b[0m\u001b[0;34m)\u001b[0m\u001b[0;34m\u001b[0m\u001b[0;34m\u001b[0m\u001b[0m\n\u001b[0m\u001b[1;32m    355\u001b[0m     \u001b[0;32mif\u001b[0m \u001b[0mcls\u001b[0m \u001b[0;32mis\u001b[0m \u001b[0;32mNone\u001b[0m\u001b[0;34m:\u001b[0m\u001b[0;34m\u001b[0m\u001b[0;34m\u001b[0m\u001b[0m\n\u001b[1;32m    356\u001b[0m         \u001b[0mcls\u001b[0m \u001b[0;34m=\u001b[0m \u001b[0mJSONDecoder\u001b[0m\u001b[0;34m\u001b[0m\u001b[0;34m\u001b[0m\u001b[0m\n",
      "\u001b[0;32m/Applications/anaconda3/envs/graphs/lib/python3.6/json/decoder.py\u001b[0m in \u001b[0;36mdecode\u001b[0;34m(self, s, _w)\u001b[0m\n\u001b[1;32m    337\u001b[0m \u001b[0;34m\u001b[0m\u001b[0m\n\u001b[1;32m    338\u001b[0m         \"\"\"\n\u001b[0;32m--> 339\u001b[0;31m         \u001b[0mobj\u001b[0m\u001b[0;34m,\u001b[0m \u001b[0mend\u001b[0m \u001b[0;34m=\u001b[0m \u001b[0mself\u001b[0m\u001b[0;34m.\u001b[0m\u001b[0mraw_decode\u001b[0m\u001b[0;34m(\u001b[0m\u001b[0ms\u001b[0m\u001b[0;34m,\u001b[0m \u001b[0midx\u001b[0m\u001b[0;34m=\u001b[0m\u001b[0m_w\u001b[0m\u001b[0;34m(\u001b[0m\u001b[0ms\u001b[0m\u001b[0;34m,\u001b[0m \u001b[0;36m0\u001b[0m\u001b[0;34m)\u001b[0m\u001b[0;34m.\u001b[0m\u001b[0mend\u001b[0m\u001b[0;34m(\u001b[0m\u001b[0;34m)\u001b[0m\u001b[0;34m)\u001b[0m\u001b[0;34m\u001b[0m\u001b[0;34m\u001b[0m\u001b[0m\n\u001b[0m\u001b[1;32m    340\u001b[0m         \u001b[0mend\u001b[0m \u001b[0;34m=\u001b[0m \u001b[0m_w\u001b[0m\u001b[0;34m(\u001b[0m\u001b[0ms\u001b[0m\u001b[0;34m,\u001b[0m \u001b[0mend\u001b[0m\u001b[0;34m)\u001b[0m\u001b[0;34m.\u001b[0m\u001b[0mend\u001b[0m\u001b[0;34m(\u001b[0m\u001b[0;34m)\u001b[0m\u001b[0;34m\u001b[0m\u001b[0;34m\u001b[0m\u001b[0m\n\u001b[1;32m    341\u001b[0m         \u001b[0;32mif\u001b[0m \u001b[0mend\u001b[0m \u001b[0;34m!=\u001b[0m \u001b[0mlen\u001b[0m\u001b[0;34m(\u001b[0m\u001b[0ms\u001b[0m\u001b[0;34m)\u001b[0m\u001b[0;34m:\u001b[0m\u001b[0;34m\u001b[0m\u001b[0;34m\u001b[0m\u001b[0m\n",
      "\u001b[0;32m/Applications/anaconda3/envs/graphs/lib/python3.6/json/decoder.py\u001b[0m in \u001b[0;36mraw_decode\u001b[0;34m(self, s, idx)\u001b[0m\n\u001b[1;32m    353\u001b[0m         \"\"\"\n\u001b[1;32m    354\u001b[0m         \u001b[0;32mtry\u001b[0m\u001b[0;34m:\u001b[0m\u001b[0;34m\u001b[0m\u001b[0;34m\u001b[0m\u001b[0m\n\u001b[0;32m--> 355\u001b[0;31m             \u001b[0mobj\u001b[0m\u001b[0;34m,\u001b[0m \u001b[0mend\u001b[0m \u001b[0;34m=\u001b[0m \u001b[0mself\u001b[0m\u001b[0;34m.\u001b[0m\u001b[0mscan_once\u001b[0m\u001b[0;34m(\u001b[0m\u001b[0ms\u001b[0m\u001b[0;34m,\u001b[0m \u001b[0midx\u001b[0m\u001b[0;34m)\u001b[0m\u001b[0;34m\u001b[0m\u001b[0;34m\u001b[0m\u001b[0m\n\u001b[0m\u001b[1;32m    356\u001b[0m         \u001b[0;32mexcept\u001b[0m \u001b[0mStopIteration\u001b[0m \u001b[0;32mas\u001b[0m \u001b[0merr\u001b[0m\u001b[0;34m:\u001b[0m\u001b[0;34m\u001b[0m\u001b[0;34m\u001b[0m\u001b[0m\n\u001b[1;32m    357\u001b[0m             \u001b[0;32mraise\u001b[0m \u001b[0mJSONDecodeError\u001b[0m\u001b[0;34m(\u001b[0m\u001b[0;34m\"Expecting value\"\u001b[0m\u001b[0;34m,\u001b[0m \u001b[0ms\u001b[0m\u001b[0;34m,\u001b[0m \u001b[0merr\u001b[0m\u001b[0;34m.\u001b[0m\u001b[0mvalue\u001b[0m\u001b[0;34m)\u001b[0m \u001b[0;32mfrom\u001b[0m \u001b[0;32mNone\u001b[0m\u001b[0;34m\u001b[0m\u001b[0;34m\u001b[0m\u001b[0m\n",
      "\u001b[0;31mJSONDecodeError\u001b[0m: Expecting property name enclosed in double quotes: line 1 column 123011073 (char 123011072)"
     ]
    }
   ],
   "source": [
    "#for subject in subIDs:\n",
    "subject = subIDs[0] # change with the loop\n",
    "\n",
    "# extract the exploration data\n",
    "subject_data = sorted([f for f in DATA_FOLDER if f.startswith(str(subject)+'_Expl_')], key=str.lower)\n",
    "\n",
    "\n",
    "# column name list \n",
    "col_names =  ['timeStampDataPointStart','timeStampDataPointEnd','hitObjectColliderName', 'ordinalOfHit', 'hitPointOnObject.x',\n",
    "       'hitPointOnObject.y', 'hitPointOnObject.z',\n",
    "       'hitObjectColliderBoundsCenter.x', 'hitObjectColliderBoundsCenter.y',\n",
    "       'hitObjectColliderBoundsCenter.z']\n",
    "# hitpoint dataframe \n",
    "complete_hitpoints_df = pd.DataFrame(columns = col_names)\n",
    "\n",
    "print(\"Total Sessionfiles: \" + str(len(subject_data)))\n",
    "s = 0 # session count\n",
    "\n",
    "for session in subject_data:\n",
    "    s+=1\n",
    "    print(\"Session \" + str(s) + \" started\")\n",
    "    \n",
    "    # open the JSON file as dictionary\n",
    "    with open(DATA_PATH + session) as f:\n",
    "        subject_session = json.loads(f.read())\n",
    "        \n",
    "    hitpoint_list = [] \n",
    "    #hitpoint_list.append(subject_session['trials'][0]['dataPoints'][0]['rayCastHitsCombinedEyes'])\n",
    "\n",
    "    # amount of datapoints \n",
    "    Len_subses = len(subject_session['trials'][0]['dataPoints'])\n",
    "\n",
    "\n",
    "    # for loop appending each data point rayCastHit Data\n",
    "    # afterwards adding the timestamp to the dict \n",
    "    # passing if there is (1) no raycast hit and (2) if there is only one raycast hit\n",
    "    for idx in range(Len_subses):\n",
    "        each = subject_session['trials'][0]['dataPoints'][idx]\n",
    "\n",
    "        hitpoint_list.append(each['rayCastHitsCombinedEyes'])\n",
    "\n",
    "        try:\n",
    "            hitpoint_list[idx][0]['timeStampDataPointStart'] = each['timeStampDataPointStart']\n",
    "            hitpoint_list[idx][0]['timeStampDataPointEnd'] = each['timeStampDataPointEnd']\n",
    "            hitpoint_list[idx][1]['timeStampDataPointStart'] = each['timeStampDataPointStart']\n",
    "            hitpoint_list[idx][1]['timeStampDataPointEnd'] = each['timeStampDataPointEnd']\n",
    "        except: \n",
    "            pass \n",
    "\n",
    "        \n",
    "    # create an empty dataframe\n",
    "    # with columns\n",
    "    hitpoints_df  = pd.DataFrame(columns = col_names)\n",
    "    i = 0\n",
    "\n",
    "    for each in hitpoint_list:\n",
    "        hitpoints_df = hitpoints_df.append(pd.json_normalize(each))\n",
    "        i += 1\n",
    "\n",
    "        # print status\n",
    "        status = i/len(hitpoint_list)*100\n",
    "        print(\"Normalize status: \" + str(i) + \"/\" + str(len(hitpoint_list)) + \" - \" + \"{:.2f}\".format(status) + \"%\", end=\"\\r\")\n",
    "\n",
    "\n",
    "    complete_hitpoints_df.append(hitpoints_df)\n",
    "                \n",
    "    \n",
    "# extract only the dataPoints\n",
    "#subject_session = subject_session['trials']\n",
    "#subject_pd = pd.DataFrame(list(subject_session['dataPoints']))\n",
    "    \n"
   ]
  },
  {
   "cell_type": "code",
   "execution_count": 10,
   "metadata": {},
   "outputs": [],
   "source": [
    "subject = subIDs[0] # change with the loop\n",
    "# extract the exploration data\n",
    "subject_data = sorted([f for f in DATA_FOLDER if f.startswith(str(subject)+'_Expl_')], key=str.lower)\n",
    "\n",
    "session = subject_data[0]\n",
    "# open the JSON file as dictionary\n",
    "with open(DATA_PATH + session) as f:\n",
    "    subject_session = json.loads(f.read())"
   ]
  },
  {
   "cell_type": "code",
   "execution_count": 19,
   "metadata": {},
   "outputs": [
    {
     "ename": "JSONDecodeError",
     "evalue": "Expecting property name enclosed in double quotes: line 1 column 123011073 (char 123011072)",
     "output_type": "error",
     "traceback": [
      "\u001b[0;31m---------------------------------------------------------------------------\u001b[0m",
      "\u001b[0;31mJSONDecodeError\u001b[0m                           Traceback (most recent call last)",
      "\u001b[0;32m<ipython-input-19-08457f34ed6d>\u001b[0m in \u001b[0;36m<module>\u001b[0;34m\u001b[0m\n\u001b[1;32m      6\u001b[0m     \u001b[0ms\u001b[0m \u001b[0;34m=\u001b[0m \u001b[0ms\u001b[0m\u001b[0;34m.\u001b[0m\u001b[0mreplace\u001b[0m\u001b[0;34m(\u001b[0m\u001b[0;34m',}'\u001b[0m\u001b[0;34m,\u001b[0m\u001b[0;34m'}'\u001b[0m\u001b[0;34m)\u001b[0m\u001b[0;34m\u001b[0m\u001b[0;34m\u001b[0m\u001b[0m\n\u001b[1;32m      7\u001b[0m     \u001b[0ms\u001b[0m \u001b[0;34m=\u001b[0m \u001b[0ms\u001b[0m\u001b[0;34m.\u001b[0m\u001b[0mreplace\u001b[0m\u001b[0;34m(\u001b[0m\u001b[0;34m',]'\u001b[0m\u001b[0;34m,\u001b[0m\u001b[0;34m']'\u001b[0m\u001b[0;34m)\u001b[0m\u001b[0;34m\u001b[0m\u001b[0;34m\u001b[0m\u001b[0m\n\u001b[0;32m----> 8\u001b[0;31m     \u001b[0mdata\u001b[0m \u001b[0;34m=\u001b[0m \u001b[0mjson\u001b[0m\u001b[0;34m.\u001b[0m\u001b[0mloads\u001b[0m\u001b[0;34m(\u001b[0m\u001b[0ms\u001b[0m\u001b[0;34m)\u001b[0m\u001b[0;34m\u001b[0m\u001b[0;34m\u001b[0m\u001b[0m\n\u001b[0m\u001b[1;32m      9\u001b[0m     \u001b[0mdata\u001b[0m\u001b[0;34m\u001b[0m\u001b[0;34m\u001b[0m\u001b[0m\n\u001b[1;32m     10\u001b[0m \u001b[0;34m\u001b[0m\u001b[0m\n",
      "\u001b[0;32m/Applications/anaconda3/envs/graphs/lib/python3.6/json/__init__.py\u001b[0m in \u001b[0;36mloads\u001b[0;34m(s, encoding, cls, object_hook, parse_float, parse_int, parse_constant, object_pairs_hook, **kw)\u001b[0m\n\u001b[1;32m    352\u001b[0m             \u001b[0mparse_int\u001b[0m \u001b[0;32mis\u001b[0m \u001b[0;32mNone\u001b[0m \u001b[0;32mand\u001b[0m \u001b[0mparse_float\u001b[0m \u001b[0;32mis\u001b[0m \u001b[0;32mNone\u001b[0m \u001b[0;32mand\u001b[0m\u001b[0;34m\u001b[0m\u001b[0;34m\u001b[0m\u001b[0m\n\u001b[1;32m    353\u001b[0m             parse_constant is None and object_pairs_hook is None and not kw):\n\u001b[0;32m--> 354\u001b[0;31m         \u001b[0;32mreturn\u001b[0m \u001b[0m_default_decoder\u001b[0m\u001b[0;34m.\u001b[0m\u001b[0mdecode\u001b[0m\u001b[0;34m(\u001b[0m\u001b[0ms\u001b[0m\u001b[0;34m)\u001b[0m\u001b[0;34m\u001b[0m\u001b[0;34m\u001b[0m\u001b[0m\n\u001b[0m\u001b[1;32m    355\u001b[0m     \u001b[0;32mif\u001b[0m \u001b[0mcls\u001b[0m \u001b[0;32mis\u001b[0m \u001b[0;32mNone\u001b[0m\u001b[0;34m:\u001b[0m\u001b[0;34m\u001b[0m\u001b[0;34m\u001b[0m\u001b[0m\n\u001b[1;32m    356\u001b[0m         \u001b[0mcls\u001b[0m \u001b[0;34m=\u001b[0m \u001b[0mJSONDecoder\u001b[0m\u001b[0;34m\u001b[0m\u001b[0;34m\u001b[0m\u001b[0m\n",
      "\u001b[0;32m/Applications/anaconda3/envs/graphs/lib/python3.6/json/decoder.py\u001b[0m in \u001b[0;36mdecode\u001b[0;34m(self, s, _w)\u001b[0m\n\u001b[1;32m    337\u001b[0m \u001b[0;34m\u001b[0m\u001b[0m\n\u001b[1;32m    338\u001b[0m         \"\"\"\n\u001b[0;32m--> 339\u001b[0;31m         \u001b[0mobj\u001b[0m\u001b[0;34m,\u001b[0m \u001b[0mend\u001b[0m \u001b[0;34m=\u001b[0m \u001b[0mself\u001b[0m\u001b[0;34m.\u001b[0m\u001b[0mraw_decode\u001b[0m\u001b[0;34m(\u001b[0m\u001b[0ms\u001b[0m\u001b[0;34m,\u001b[0m \u001b[0midx\u001b[0m\u001b[0;34m=\u001b[0m\u001b[0m_w\u001b[0m\u001b[0;34m(\u001b[0m\u001b[0ms\u001b[0m\u001b[0;34m,\u001b[0m \u001b[0;36m0\u001b[0m\u001b[0;34m)\u001b[0m\u001b[0;34m.\u001b[0m\u001b[0mend\u001b[0m\u001b[0;34m(\u001b[0m\u001b[0;34m)\u001b[0m\u001b[0;34m)\u001b[0m\u001b[0;34m\u001b[0m\u001b[0;34m\u001b[0m\u001b[0m\n\u001b[0m\u001b[1;32m    340\u001b[0m         \u001b[0mend\u001b[0m \u001b[0;34m=\u001b[0m \u001b[0m_w\u001b[0m\u001b[0;34m(\u001b[0m\u001b[0ms\u001b[0m\u001b[0;34m,\u001b[0m \u001b[0mend\u001b[0m\u001b[0;34m)\u001b[0m\u001b[0;34m.\u001b[0m\u001b[0mend\u001b[0m\u001b[0;34m(\u001b[0m\u001b[0;34m)\u001b[0m\u001b[0;34m\u001b[0m\u001b[0;34m\u001b[0m\u001b[0m\n\u001b[1;32m    341\u001b[0m         \u001b[0;32mif\u001b[0m \u001b[0mend\u001b[0m \u001b[0;34m!=\u001b[0m \u001b[0mlen\u001b[0m\u001b[0;34m(\u001b[0m\u001b[0ms\u001b[0m\u001b[0;34m)\u001b[0m\u001b[0;34m:\u001b[0m\u001b[0;34m\u001b[0m\u001b[0;34m\u001b[0m\u001b[0m\n",
      "\u001b[0;32m/Applications/anaconda3/envs/graphs/lib/python3.6/json/decoder.py\u001b[0m in \u001b[0;36mraw_decode\u001b[0;34m(self, s, idx)\u001b[0m\n\u001b[1;32m    353\u001b[0m         \"\"\"\n\u001b[1;32m    354\u001b[0m         \u001b[0;32mtry\u001b[0m\u001b[0;34m:\u001b[0m\u001b[0;34m\u001b[0m\u001b[0;34m\u001b[0m\u001b[0m\n\u001b[0;32m--> 355\u001b[0;31m             \u001b[0mobj\u001b[0m\u001b[0;34m,\u001b[0m \u001b[0mend\u001b[0m \u001b[0;34m=\u001b[0m \u001b[0mself\u001b[0m\u001b[0;34m.\u001b[0m\u001b[0mscan_once\u001b[0m\u001b[0;34m(\u001b[0m\u001b[0ms\u001b[0m\u001b[0;34m,\u001b[0m \u001b[0midx\u001b[0m\u001b[0;34m)\u001b[0m\u001b[0;34m\u001b[0m\u001b[0;34m\u001b[0m\u001b[0m\n\u001b[0m\u001b[1;32m    356\u001b[0m         \u001b[0;32mexcept\u001b[0m \u001b[0mStopIteration\u001b[0m \u001b[0;32mas\u001b[0m \u001b[0merr\u001b[0m\u001b[0;34m:\u001b[0m\u001b[0;34m\u001b[0m\u001b[0;34m\u001b[0m\u001b[0m\n\u001b[1;32m    357\u001b[0m             \u001b[0;32mraise\u001b[0m \u001b[0mJSONDecodeError\u001b[0m\u001b[0;34m(\u001b[0m\u001b[0;34m\"Expecting value\"\u001b[0m\u001b[0;34m,\u001b[0m \u001b[0ms\u001b[0m\u001b[0;34m,\u001b[0m \u001b[0merr\u001b[0m\u001b[0;34m.\u001b[0m\u001b[0mvalue\u001b[0m\u001b[0;34m)\u001b[0m \u001b[0;32mfrom\u001b[0m \u001b[0;32mNone\u001b[0m\u001b[0;34m\u001b[0m\u001b[0;34m\u001b[0m\u001b[0m\n",
      "\u001b[0;31mJSONDecodeError\u001b[0m: Expecting property name enclosed in double quotes: line 1 column 123011073 (char 123011072)"
     ]
    }
   ],
   "source": [
    "with open(DATA_PATH + subject_data[3]) as f:\n",
    "    s = f.read()\n",
    "    s = s.replace(\"\\'\", \"\\\"\")\n",
    "    s = s.replace('\\t','')\n",
    "    s = s.replace('\\n','')\n",
    "    s = s.replace(',}','}')\n",
    "    s = s.replace(',]',']')\n",
    "    data = json.loads(s)\n",
    "    data\n",
    "    \n",
    "    \n"
   ]
  },
  {
   "cell_type": "code",
   "execution_count": 7,
   "metadata": {
    "scrolled": true
   },
   "outputs": [
    {
     "ename": "NameError",
     "evalue": "name 'subject_session' is not defined",
     "output_type": "error",
     "traceback": [
      "\u001b[0;31m---------------------------------------------------------------------------\u001b[0m",
      "\u001b[0;31mNameError\u001b[0m                                 Traceback (most recent call last)",
      "\u001b[0;32m<ipython-input-7-51966604d1f1>\u001b[0m in \u001b[0;36m<module>\u001b[0;34m\u001b[0m\n\u001b[1;32m      3\u001b[0m \u001b[0mtimestamp_end_list\u001b[0m \u001b[0;34m=\u001b[0m \u001b[0;34m[\u001b[0m\u001b[0;34m]\u001b[0m\u001b[0;34m\u001b[0m\u001b[0;34m\u001b[0m\u001b[0m\n\u001b[1;32m      4\u001b[0m \u001b[0;34m\u001b[0m\u001b[0m\n\u001b[0;32m----> 5\u001b[0;31m \u001b[0;32mfor\u001b[0m \u001b[0meach\u001b[0m \u001b[0;32min\u001b[0m \u001b[0msubject_session\u001b[0m\u001b[0;34m[\u001b[0m\u001b[0;34m'trials'\u001b[0m\u001b[0;34m]\u001b[0m\u001b[0;34m[\u001b[0m\u001b[0;36m0\u001b[0m\u001b[0;34m]\u001b[0m\u001b[0;34m[\u001b[0m\u001b[0;34m'dataPoints'\u001b[0m\u001b[0;34m]\u001b[0m\u001b[0;34m:\u001b[0m\u001b[0;34m\u001b[0m\u001b[0;34m\u001b[0m\u001b[0m\n\u001b[0m\u001b[1;32m      6\u001b[0m     \u001b[0mhitpoint_list\u001b[0m\u001b[0;34m.\u001b[0m\u001b[0mappend\u001b[0m\u001b[0;34m(\u001b[0m\u001b[0meach\u001b[0m\u001b[0;34m[\u001b[0m\u001b[0;34m'rayCastHitsCombinedEyes'\u001b[0m\u001b[0;34m]\u001b[0m\u001b[0;34m)\u001b[0m\u001b[0;34m\u001b[0m\u001b[0;34m\u001b[0m\u001b[0m\n\u001b[1;32m      7\u001b[0m     \u001b[0mtimestamp_start_list\u001b[0m\u001b[0;34m.\u001b[0m\u001b[0mappend\u001b[0m\u001b[0;34m(\u001b[0m\u001b[0meach\u001b[0m\u001b[0;34m[\u001b[0m\u001b[0;34m'timeStampDataPointStart'\u001b[0m\u001b[0;34m]\u001b[0m\u001b[0;34m)\u001b[0m\u001b[0;34m\u001b[0m\u001b[0;34m\u001b[0m\u001b[0m\n",
      "\u001b[0;31mNameError\u001b[0m: name 'subject_session' is not defined"
     ]
    }
   ],
   "source": [
    "hitpoint_list = []\n",
    "timestamp_start_list = []\n",
    "timestamp_end_list = []\n",
    "\n",
    "for each in subject_session['trials'][0]['dataPoints']:\n",
    "    hitpoint_list.append(each['rayCastHitsCombinedEyes'])\n",
    "    timestamp_start_list.append(each['timeStampDataPointStart'])\n",
    "    timestamp_end_list.append(each['timeStampDataPointEnd'])\n",
    "    \n",
    "for index in range(len(hitpoint_list)):\n",
    "    hitpoint_list[index].append({'timeStampDataPointStart':timestamp_start_list[index]})\n",
    "    hitpoint_list[index].append({'timeStampDataPointEnd':timestamp_end_list[index]})\n",
    "    \n",
    "                                        \n",
    "print('hitpoint_list: ' + str(len(hitpoint_list))) \n",
    "print('timestamp_start_list: ' + str(len(timestamp_start_list))) \n",
    "print('timestamp_end_list: ' + str(len(timestamp_end_list)))"
   ]
  },
  {
   "cell_type": "code",
   "execution_count": 118,
   "metadata": {},
   "outputs": [],
   "source": [
    "hitpoint_list = [] \n",
    "#hitpoint_list.append(subject_session['trials'][0]['dataPoints'][0]['rayCastHitsCombinedEyes'])\n",
    "\n",
    "# amount of datapoints \n",
    "Len_subses = len(subject_session['trials'][0]['dataPoints'])\n",
    "\n",
    "\n",
    "# for loop appending each data point rayCastHit Data\n",
    "# afterwards adding the timestamp to the dict \n",
    "# passing if there is (1) no raycast hit and (2) if there is only one raycast hit\n",
    "for idx in range(Len_subses):\n",
    "    each = subject_session['trials'][0]['dataPoints'][idx]\n",
    "\n",
    "    hitpoint_list.append(each['rayCastHitsCombinedEyes'])\n",
    "    \n",
    "    try:\n",
    "        hitpoint_list[idx][0]['timeStampDataPointStart'] = each['timeStampDataPointStart']\n",
    "        hitpoint_list[idx][0]['timeStampDataPointEnd'] = each['timeStampDataPointEnd']\n",
    "        hitpoint_list[idx][1]['timeStampDataPointStart'] = each['timeStampDataPointStart']\n",
    "        hitpoint_list[idx][1]['timeStampDataPointEnd'] = each['timeStampDataPointEnd']\n",
    "    except: \n",
    "        pass \n",
    "\n"
   ]
  },
  {
   "cell_type": "code",
   "execution_count": 119,
   "metadata": {},
   "outputs": [
    {
     "name": "stdout",
     "output_type": "stream",
     "text": [
      "Status: 66823/66823 - 100.00%\r"
     ]
    }
   ],
   "source": [
    "hitpoints = pd.DataFrame()\n",
    "# column name list \n",
    "col_names =  ['timeStampDataPointStart','timeStampDataPointEnd','hitObjectColliderName', 'ordinalOfHit', 'hitPointOnObject.x',\n",
    "       'hitPointOnObject.y', 'hitPointOnObject.z',\n",
    "       'hitObjectColliderBoundsCenter.x', 'hitObjectColliderBoundsCenter.y',\n",
    "       'hitObjectColliderBoundsCenter.z']\n",
    "# create an empty dataframe\n",
    "# with columns\n",
    "hitpoints_df  = pd.DataFrame(columns = col_names)\n",
    "i = 0\n",
    "\n",
    "for each in hitpoint_list:\n",
    "    hitpoints_df = hitpoints_df.append(pd.json_normalize(each))\n",
    "    i += 1\n",
    "\n",
    "    # print status\n",
    "    status = i/len(hitpoint_list)*100\n",
    "    print(\"Status: \" + str(i) + \"/\" + str(len(hitpoint_list)) + \" - \" + \"{:.2f}\".format(status) + \"%\", end=\"\\r\")\n",
    "    "
   ]
  },
  {
   "cell_type": "code",
   "execution_count": 120,
   "metadata": {
    "scrolled": false
   },
   "outputs": [
    {
     "data": {
      "text/html": [
       "<div>\n",
       "<style scoped>\n",
       "    .dataframe tbody tr th:only-of-type {\n",
       "        vertical-align: middle;\n",
       "    }\n",
       "\n",
       "    .dataframe tbody tr th {\n",
       "        vertical-align: top;\n",
       "    }\n",
       "\n",
       "    .dataframe thead th {\n",
       "        text-align: right;\n",
       "    }\n",
       "</style>\n",
       "<table border=\"1\" class=\"dataframe\">\n",
       "  <thead>\n",
       "    <tr style=\"text-align: right;\">\n",
       "      <th></th>\n",
       "      <th>timeStampDataPointStart</th>\n",
       "      <th>timeStampDataPointEnd</th>\n",
       "      <th>hitObjectColliderName</th>\n",
       "      <th>ordinalOfHit</th>\n",
       "      <th>hitPointOnObject.x</th>\n",
       "      <th>hitPointOnObject.y</th>\n",
       "      <th>hitPointOnObject.z</th>\n",
       "      <th>hitObjectColliderBoundsCenter.x</th>\n",
       "      <th>hitObjectColliderBoundsCenter.y</th>\n",
       "      <th>hitObjectColliderBoundsCenter.z</th>\n",
       "    </tr>\n",
       "  </thead>\n",
       "  <tbody>\n",
       "    <tr>\n",
       "      <th>0</th>\n",
       "      <td>1.619691e+09</td>\n",
       "      <td>1.619691e+09</td>\n",
       "      <td>pavement_O.002</td>\n",
       "      <td>1</td>\n",
       "      <td>-64.191063</td>\n",
       "      <td>1.429070</td>\n",
       "      <td>71.214470</td>\n",
       "      <td>-165.163147</td>\n",
       "      <td>1.451688</td>\n",
       "      <td>-15.555870</td>\n",
       "    </tr>\n",
       "    <tr>\n",
       "      <th>1</th>\n",
       "      <td>1.619691e+09</td>\n",
       "      <td>1.619691e+09</td>\n",
       "      <td>terrain_S.001</td>\n",
       "      <td>2</td>\n",
       "      <td>-65.567734</td>\n",
       "      <td>1.163447</td>\n",
       "      <td>81.047607</td>\n",
       "      <td>-60.390293</td>\n",
       "      <td>1.153675</td>\n",
       "      <td>100.804741</td>\n",
       "    </tr>\n",
       "    <tr>\n",
       "      <th>0</th>\n",
       "      <td>1.619691e+09</td>\n",
       "      <td>1.619691e+09</td>\n",
       "      <td>pavement_O.002</td>\n",
       "      <td>1</td>\n",
       "      <td>-64.191063</td>\n",
       "      <td>1.429070</td>\n",
       "      <td>71.214470</td>\n",
       "      <td>-165.163147</td>\n",
       "      <td>1.451688</td>\n",
       "      <td>-15.555870</td>\n",
       "    </tr>\n",
       "    <tr>\n",
       "      <th>1</th>\n",
       "      <td>1.619691e+09</td>\n",
       "      <td>1.619691e+09</td>\n",
       "      <td>terrain_S.001</td>\n",
       "      <td>2</td>\n",
       "      <td>-65.567734</td>\n",
       "      <td>1.163447</td>\n",
       "      <td>81.047607</td>\n",
       "      <td>-60.390293</td>\n",
       "      <td>1.153675</td>\n",
       "      <td>100.804741</td>\n",
       "    </tr>\n",
       "    <tr>\n",
       "      <th>0</th>\n",
       "      <td>1.619691e+09</td>\n",
       "      <td>1.619691e+09</td>\n",
       "      <td>pavement_O.002</td>\n",
       "      <td>1</td>\n",
       "      <td>-64.027878</td>\n",
       "      <td>1.426832</td>\n",
       "      <td>70.591492</td>\n",
       "      <td>-165.163147</td>\n",
       "      <td>1.451688</td>\n",
       "      <td>-15.555870</td>\n",
       "    </tr>\n",
       "    <tr>\n",
       "      <th>...</th>\n",
       "      <td>...</td>\n",
       "      <td>...</td>\n",
       "      <td>...</td>\n",
       "      <td>...</td>\n",
       "      <td>...</td>\n",
       "      <td>...</td>\n",
       "      <td>...</td>\n",
       "      <td>...</td>\n",
       "      <td>...</td>\n",
       "      <td>...</td>\n",
       "    </tr>\n",
       "    <tr>\n",
       "      <th>1</th>\n",
       "      <td>1.619691e+09</td>\n",
       "      <td>1.619691e+09</td>\n",
       "      <td>Complete_fence.001</td>\n",
       "      <td>2</td>\n",
       "      <td>101.454781</td>\n",
       "      <td>1.826926</td>\n",
       "      <td>114.975967</td>\n",
       "      <td>94.570259</td>\n",
       "      <td>0.774545</td>\n",
       "      <td>103.104149</td>\n",
       "    </tr>\n",
       "    <tr>\n",
       "      <th>0</th>\n",
       "      <td>1.619691e+09</td>\n",
       "      <td>1.619691e+09</td>\n",
       "      <td>TaskBuilding_23</td>\n",
       "      <td>1</td>\n",
       "      <td>112.184250</td>\n",
       "      <td>2.332473</td>\n",
       "      <td>99.835579</td>\n",
       "      <td>110.384514</td>\n",
       "      <td>5.985386</td>\n",
       "      <td>107.857498</td>\n",
       "    </tr>\n",
       "    <tr>\n",
       "      <th>1</th>\n",
       "      <td>1.619691e+09</td>\n",
       "      <td>1.619691e+09</td>\n",
       "      <td>CollisionObject1</td>\n",
       "      <td>2</td>\n",
       "      <td>66.650650</td>\n",
       "      <td>3.081521</td>\n",
       "      <td>150.635010</td>\n",
       "      <td>68.307739</td>\n",
       "      <td>5.894994</td>\n",
       "      <td>153.469009</td>\n",
       "    </tr>\n",
       "    <tr>\n",
       "      <th>0</th>\n",
       "      <td>1.619691e+09</td>\n",
       "      <td>1.619691e+09</td>\n",
       "      <td>TaskBuilding_23</td>\n",
       "      <td>1</td>\n",
       "      <td>112.184250</td>\n",
       "      <td>2.332473</td>\n",
       "      <td>99.835579</td>\n",
       "      <td>110.384514</td>\n",
       "      <td>5.985386</td>\n",
       "      <td>107.857498</td>\n",
       "    </tr>\n",
       "    <tr>\n",
       "      <th>1</th>\n",
       "      <td>1.619691e+09</td>\n",
       "      <td>1.619691e+09</td>\n",
       "      <td>CollisionObject1</td>\n",
       "      <td>2</td>\n",
       "      <td>66.650650</td>\n",
       "      <td>3.081521</td>\n",
       "      <td>150.635010</td>\n",
       "      <td>68.307739</td>\n",
       "      <td>5.894994</td>\n",
       "      <td>153.469009</td>\n",
       "    </tr>\n",
       "  </tbody>\n",
       "</table>\n",
       "<p>123295 rows × 10 columns</p>\n",
       "</div>"
      ],
      "text/plain": [
       "    timeStampDataPointStart  timeStampDataPointEnd hitObjectColliderName  \\\n",
       "0              1.619691e+09           1.619691e+09        pavement_O.002   \n",
       "1              1.619691e+09           1.619691e+09         terrain_S.001   \n",
       "0              1.619691e+09           1.619691e+09        pavement_O.002   \n",
       "1              1.619691e+09           1.619691e+09         terrain_S.001   \n",
       "0              1.619691e+09           1.619691e+09        pavement_O.002   \n",
       "..                      ...                    ...                   ...   \n",
       "1              1.619691e+09           1.619691e+09    Complete_fence.001   \n",
       "0              1.619691e+09           1.619691e+09       TaskBuilding_23   \n",
       "1              1.619691e+09           1.619691e+09      CollisionObject1   \n",
       "0              1.619691e+09           1.619691e+09       TaskBuilding_23   \n",
       "1              1.619691e+09           1.619691e+09      CollisionObject1   \n",
       "\n",
       "   ordinalOfHit  hitPointOnObject.x  hitPointOnObject.y  hitPointOnObject.z  \\\n",
       "0             1          -64.191063            1.429070           71.214470   \n",
       "1             2          -65.567734            1.163447           81.047607   \n",
       "0             1          -64.191063            1.429070           71.214470   \n",
       "1             2          -65.567734            1.163447           81.047607   \n",
       "0             1          -64.027878            1.426832           70.591492   \n",
       "..          ...                 ...                 ...                 ...   \n",
       "1             2          101.454781            1.826926          114.975967   \n",
       "0             1          112.184250            2.332473           99.835579   \n",
       "1             2           66.650650            3.081521          150.635010   \n",
       "0             1          112.184250            2.332473           99.835579   \n",
       "1             2           66.650650            3.081521          150.635010   \n",
       "\n",
       "    hitObjectColliderBoundsCenter.x  hitObjectColliderBoundsCenter.y  \\\n",
       "0                       -165.163147                         1.451688   \n",
       "1                        -60.390293                         1.153675   \n",
       "0                       -165.163147                         1.451688   \n",
       "1                        -60.390293                         1.153675   \n",
       "0                       -165.163147                         1.451688   \n",
       "..                              ...                              ...   \n",
       "1                         94.570259                         0.774545   \n",
       "0                        110.384514                         5.985386   \n",
       "1                         68.307739                         5.894994   \n",
       "0                        110.384514                         5.985386   \n",
       "1                         68.307739                         5.894994   \n",
       "\n",
       "    hitObjectColliderBoundsCenter.z  \n",
       "0                        -15.555870  \n",
       "1                        100.804741  \n",
       "0                        -15.555870  \n",
       "1                        100.804741  \n",
       "0                        -15.555870  \n",
       "..                              ...  \n",
       "1                        103.104149  \n",
       "0                        107.857498  \n",
       "1                        153.469009  \n",
       "0                        107.857498  \n",
       "1                        153.469009  \n",
       "\n",
       "[123295 rows x 10 columns]"
      ]
     },
     "execution_count": 120,
     "metadata": {},
     "output_type": "execute_result"
    }
   ],
   "source": [
    "hitpoints_df"
   ]
  },
  {
   "cell_type": "code",
   "execution_count": 125,
   "metadata": {},
   "outputs": [
    {
     "data": {
      "text/plain": [
       "[{'hitPointOnObject': {'x': -64.1910629272461,\n",
       "   'y': 1.429070234298706,\n",
       "   'z': 71.21446990966797},\n",
       "  'hitObjectColliderName': 'pavement_O.002',\n",
       "  'hitObjectColliderBoundsCenter': {'x': -165.16314697265625,\n",
       "   'y': 1.4516879320144653,\n",
       "   'z': -15.555870056152344},\n",
       "  'ordinalOfHit': 1,\n",
       "  'timeStampDataPointStart': 1619690540.055303,\n",
       "  'timeStampDataPointEnd': 1619690540.0617511},\n",
       " {'hitPointOnObject': {'x': -65.56773376464844,\n",
       "   'y': 1.1634469032287598,\n",
       "   'z': 81.047607421875},\n",
       "  'hitObjectColliderName': 'terrain_S.001',\n",
       "  'hitObjectColliderBoundsCenter': {'x': -60.39029312133789,\n",
       "   'y': 1.153674840927124,\n",
       "   'z': 100.80474090576172},\n",
       "  'ordinalOfHit': 2,\n",
       "  'timeStampDataPointStart': 1619690540.055303,\n",
       "  'timeStampDataPointEnd': 1619690540.0617511}]"
      ]
     },
     "execution_count": 125,
     "metadata": {},
     "output_type": "execute_result"
    }
   ],
   "source": [
    "hitpoint_list[0]"
   ]
  },
  {
   "cell_type": "code",
   "execution_count": 130,
   "metadata": {},
   "outputs": [
    {
     "data": {
      "text/plain": [
       "<matplotlib.collections.PathCollection at 0x7ffb605b0438>"
      ]
     },
     "execution_count": 130,
     "metadata": {},
     "output_type": "execute_result"
    },
    {
     "data": {
      "image/png": "[encoded data removed]",
      "text/plain": [
       "<Figure size 1080x720 with 2 Axes>"
      ]
     },
     "metadata": {
      "needs_background": "light"
     },
     "output_type": "display_data"
    }
   ],
   "source": [
    "plt.figure(figsize = (15,10))\n",
    "plt.subplot(1,2,1)\n",
    "plt.scatter(hitpoints_df[\"hitObjectColliderBoundsCenter.x\"], hitpoints_df[\"hitObjectColliderBoundsCenter.y\"])\n",
    "plt.subplot(1,2,2)\n",
    "plt.scatter(hitpoints_df[\"timeStampDataPointStart\"], range(0,len(hitpoints_df)))"
   ]
  },
  {
   "cell_type": "code",
   "execution_count": 28,
   "metadata": {},
   "outputs": [
    {
     "name": "stdout",
     "output_type": "stream",
     "text": [
      "{'hitPointOnObject': {'x': -65.56773376464844, 'y': 1.1634469032287598, 'z': 81.047607421875}, 'hitObjectColliderName': 'terrain_S.001', 'hitObjectColliderBoundsCenter': {'x': -60.39029312133789, 'y': 1.153674840927124, 'z': 100.80474090576172}, 'ordinalOfHit': 2}\n"
     ]
    }
   ],
   "source": [
    "print(hitpoint_list[0][1])\n",
    "#print(pd.json_normalize(hitpoint_list[0]))"
   ]
  },
  {
   "cell_type": "code",
   "execution_count": 142,
   "metadata": {},
   "outputs": [
    {
     "data": {
      "text/plain": [
       "0    [{'hitPointOnObject': {'x': -64.1910629272461, 'y': 1.429070234298706, 'z': 71.21446990966797}, 'hitObjectColliderName': 'pavement_O.002', 'hitObjectColliderBoundsCenter': {'x': -165.16314697265625, 'y': 1.4516879320144653, 'z': -15.555870056152344}, 'ordinalOfHit': 1}, {'hitPointOnObject': {'x': -65.56773376464844, 'y': 1.1634469032287598, 'z': 81.047607421875}, 'hitObjectColliderName': 'terrain_S.001', 'hitObjectColliderBoundsCenter': {'x': -60.39029312133789, 'y': 1.153674840927124, 'z': 100.80474090576172}, 'ordinalOfHit': 2}]          \n",
       "1    [{'hitPointOnObject': {'x': -64.1910629272461, 'y': 1.429070234298706, 'z': 71.21446990966797}, 'hitObjectColliderName': 'pavement_O.002', 'hitObjectColliderBoundsCenter': {'x': -165.16314697265625, 'y': 1.4516879320144653, 'z': -15.555870056152344}, 'ordinalOfHit': 1}, {'hitPointOnObject': {'x': -65.56773376464844, 'y': 1.1634469032287598, 'z': 81.047607421875}, 'hitObjectColliderName': 'terrain_S.001', 'hitObjectColliderBoundsCenter': {'x': -60.39029312133789, 'y': 1.153674840927124, 'z': 100.80474090576172}, 'ordinalOfHit': 2}]          \n",
       "2    [{'hitPointOnObject': {'x': -64.02787780761719, 'y': 1.4268324375152588, 'z': 70.59149169921875}, 'hitObjectColliderName': 'pavement_O.002', 'hitObjectColliderBoundsCenter': {'x': -165.16314697265625, 'y': 1.4516879320144653, 'z': -15.555870056152344}, 'ordinalOfHit': 1}, {'hitPointOnObject': {'x': -65.05705261230469, 'y': 1.2211716175079346, 'z': 78.05730438232422}, 'hitObjectColliderName': 'road_base_network.004', 'hitObjectColliderBoundsCenter': {'x': 39.25787353515625, 'y': -4.40830135345459, 'z': 51.76885986328125}, 'ordinalOfHit': 2}]\n",
       "3    [{'hitPointOnObject': {'x': -65.71144104003906, 'y': 1.1859946250915527, 'z': 83.1647720336914}, 'hitObjectColliderName': 'terrain_S.001', 'hitObjectColliderBoundsCenter': {'x': -60.39029312133789, 'y': 1.153674840927124, 'z': 100.80474090576172}, 'ordinalOfHit': 1}]                                                                                                                                                                                                                                                                                       \n",
       "4    [{'hitPointOnObject': {'x': -66.22702026367188, 'y': 1.2061573266983032, 'z': 87.3279800415039}, 'hitObjectColliderName': 'terrain_S.001', 'hitObjectColliderBoundsCenter': {'x': -60.39029312133789, 'y': 1.153674840927124, 'z': 100.80474090576172}, 'ordinalOfHit': 1}]                                                                                                                                                                                                                                                                                       \n",
       "Name: rayCastHitsCombinedEyes, dtype: object"
      ]
     },
     "execution_count": 142,
     "metadata": {},
     "output_type": "execute_result"
    }
   ],
   "source": [
    "subject_pd['rayCastHitsCombinedEyes'].head()"
   ]
  }
 ],
 "metadata": {
  "kernelspec": {
   "display_name": "Python 3",
   "language": "python",
   "name": "python3"
  },
  "language_info": {
   "codemirror_mode": {
    "name": "ipython",
    "version": 3
   },
   "file_extension": ".py",
   "mimetype": "text/x-python",
   "name": "python",
   "nbconvert_exporter": "python",
   "pygments_lexer": "ipython3",
   "version": "3.6.11"
  }
 },
 "nbformat": 4,
 "nbformat_minor": 4
}
