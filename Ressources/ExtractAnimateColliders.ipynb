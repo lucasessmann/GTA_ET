{
 "cells": [
  {
   "cell_type": "code",
   "execution_count": 3,
   "id": "fc7c096d",
   "metadata": {},
   "outputs": [],
   "source": [
    "import pandas as pd\n",
    "import pickle \n",
    "import json\n",
    "import cv2\n",
    "import glob\n",
    "import matplotlib.pyplot as plt\n",
    "import TransformHelper"
   ]
  },
  {
   "cell_type": "code",
   "execution_count": 4,
   "id": "c472063f",
   "metadata": {},
   "outputs": [],
   "source": [
    "def save_to_disk(data, filepath):\n",
    "    with open(filepath, 'wb') as file:\n",
    "        pickle.dump(data, file)\n",
    "def load_from_disk(filepath):\n",
    "    with open(filepath, 'rb') as file:\n",
    "        data = pickle.load(file)\n",
    "        return data\n",
    "def read_normalized_json_to_df(filepath):\n",
    "    full_file_df = \"\"\n",
    "    with open(filepath, 'r', encoding=\"utf-8\") as json_file:\n",
    "        json_full = json.load(json_file)\n",
    "    full_file_df = pd.json_normalize(json_full)\n",
    "    return full_file_df"
   ]
  },
  {
   "cell_type": "code",
   "execution_count": 5,
   "id": "d4d41997",
   "metadata": {},
   "outputs": [],
   "source": [
    "# Load transformation info \n",
    "transform_infos = load_from_disk(\"./map_image_transform_infos.pickle\")\n",
    "transform_matrix = transform_infos[\"perspective_transform_matrix\"]\n",
    "image_size = transform_infos[\"image_size\"]\n",
    "\n",
    "# Directories\n",
    "single_data_path = \"./pre/local_data/Single/\"\n",
    "dyadic_leader_data_path = \"./pre/local_data/Dyadic_Leader/\"\n",
    "dyadic_follower_data_path = \"./pre/local_data/Dyadic_Follower/\"\n",
    "single_files = glob.glob(single_data_path + \"*_EyeTrackingData_*.json\")\n",
    "dyadic_leader_files = glob.glob(dyadic_leader_data_path + \"*_EyeTrackingData_*.json\")\n",
    "dyadic_follower_files = glob.glob(dyadic_follower_data_path + \"*_EyeTrackingData_*.json\")\n",
    "\n",
    "# Collider names of exploration sessions \n",
    "exploration_collider_names = \"./pre/all_unique_colliders_names_1023_exploration.csv\"\n"
   ]
  },
  {
   "cell_type": "markdown",
   "id": "1cf3ce52",
   "metadata": {},
   "source": [
    "## Extract raw collider hits\n",
    "From single & dyadic condition to get non-static collider names."
   ]
  },
  {
   "cell_type": "code",
   "execution_count": 6,
   "id": "022af921",
   "metadata": {
    "scrolled": true
   },
   "outputs": [],
   "source": [
    "def extract_all_collider_hits(file_list):\n",
    "    '''\n",
    "    Extract all collider hits (by unique name and collider bounds center) from \n",
    "    a provided list of eye tracking formatted files. \n",
    "    '''\n",
    "\n",
    "    full_df = pd.DataFrame()\n",
    "    \n",
    "    print(\"Processing files...\")\n",
    "    \n",
    "    # Go through all files \n",
    "    for idx, one_file in enumerate(file_list):\n",
    "        \n",
    "        print(str(idx+1) + \" of \" + str(len(file_list)))\n",
    "\n",
    "        with open(one_file, 'r', encoding=\"utf-8\") as json_file:\n",
    "            \n",
    "            # load relevant parts, collider hits\n",
    "            json_full = json.load(json_file)\n",
    "            df = pd.json_normalize(json_full[\"trials\"][0][\"dataPoints\"])\n",
    "            \n",
    "            # unpack collider hits further \n",
    "            df = df[['rayCastHitsCombinedEyes']]\n",
    "            df = pd.concat([pd.json_normalize(row[\"rayCastHitsCombinedEyes\"]) for index, row in df.iterrows()]).reset_index(drop=True)\n",
    "\n",
    "            # extract subject id\n",
    "            df[\"participantId\"] = int(json_full[\"trials\"][0][\"participantId\"])\n",
    "\n",
    "            if full_df.empty:\n",
    "                full_df = df.copy(deep=True)\n",
    "            else:\n",
    "                full_df = full_df.append(df)\n",
    "        \n",
    "    \n",
    "    # drop some duplicates \n",
    "    full_df.reset_index(drop=True, inplace=True)\n",
    "    full_df.drop_duplicates([\"hitObjectColliderName\",\"hitObjectColliderBoundsCenter.x\",\"hitObjectColliderBoundsCenter.y\",\"hitObjectColliderBoundsCenter.z\"],inplace=True)\n",
    "    full_df.drop(columns=[\"hitPointOnObject.x\",\"hitPointOnObject.y\",\"hitPointOnObject.z\"],inplace=True)\n",
    "    full_df.reset_index(drop=True, inplace=True)\n",
    "    \n",
    "    return full_df\n",
    "    \n"
   ]
  },
  {
   "cell_type": "code",
   "execution_count": 7,
   "id": "9b501e1d",
   "metadata": {},
   "outputs": [],
   "source": [
    "# Extract from raw files or load preprocessed files\n",
    "read_raw = False\n",
    "\n",
    "if read_raw:\n",
    "    # Extract from raw eye tracking files \n",
    "    single_full_df = extract_all_collider_hits(single_files)\n",
    "    single_full_df[\"session_type\"] = \"single\"\n",
    "    dyadic_leader_full_df = extract_all_collider_hits(dyadic_leader_files)\n",
    "    dyadic_leader_full_df[\"session_type\"] = \"dyadic_leader\"\n",
    "    dyadic_follower_full_df = extract_all_collider_hits(dyadic_follower_files)\n",
    "    dyadic_follower_full_df[\"session_type\"] = \"dyadic_follower\"\n",
    "else:\n",
    "    # Load already processed files \n",
    "    single_full_df = pd.read_csv(\"./pre/hits_for_animate_colliders_from_single.csv\")\n",
    "    dyadic_leader_full_df = pd.read_csv(\"./pre/hits_for_animate_colliders_from_dyadic_leader.csv\")\n",
    "    dyadic_follower_full_df = pd.read_csv(\"./pre/hits_for_animate_colliders_from_dyadic_follower.csv\")\n",
    "    "
   ]
  },
  {
   "cell_type": "code",
   "execution_count": 8,
   "id": "ac7bba66",
   "metadata": {},
   "outputs": [],
   "source": [
    "# Save preprocessed files\n",
    "if False:\n",
    "    single_full_df.to_csv(\"./pre/hits_for_animate_colliders_from_single.csv\",index=False)\n",
    "    dyadic_leader_full_df.to_csv(\"./pre/hits_for_animate_colliders_from_dyadic_leader.csv\",index=False)\n",
    "    dyadic_follower_full_df.to_csv(\"./pre/hits_for_animate_colliders_from_dyadic_follower.csv\",index=False)"
   ]
  },
  {
   "cell_type": "markdown",
   "id": "da133e5c",
   "metadata": {},
   "source": [
    "## Compare exploration colliders to mixed session type colliders"
   ]
  },
  {
   "cell_type": "code",
   "execution_count": 9,
   "id": "695d1e5e",
   "metadata": {},
   "outputs": [],
   "source": [
    "# Generate dataframe with mixed session colliders \n",
    "full_df = single_full_df.copy(deep=True)\n",
    "full_df = full_df.append(dyadic_leader_full_df)\n",
    "full_df = full_df.append(dyadic_follower_full_df)\n",
    "full_df.sort_values(\"hitObjectColliderName\",inplace=True)\n",
    "full_df.reset_index(drop=True, inplace=True)\n",
    "\n",
    "# Save individual collider names \n",
    "full_df.drop_duplicates([\"hitObjectColliderName\"]).sort_values(\"hitObjectColliderName\").to_csv(\"./pre/all_unique_colliders_names_different_sessions.csv\",index=False)\n"
   ]
  },
  {
   "cell_type": "code",
   "execution_count": 10,
   "id": "2b41506b",
   "metadata": {},
   "outputs": [],
   "source": [
    "# Load exploration colliders \n",
    "exploration_colliders_df = pd.read_csv(exploration_collider_names)"
   ]
  },
  {
   "cell_type": "code",
   "execution_count": 11,
   "id": "6a68da05",
   "metadata": {},
   "outputs": [
    {
     "name": "stdout",
     "output_type": "stream",
     "text": [
      "Exploration colliders not in mixed sessions: ['Concrete_fence_v1_s2 (6)', 'SmallWall_9', 'Concrete_fence_v1_s2 (4)', 'terrain_B.003', 'Concrete_fence_v1_s2 (8)', 'Lamppost_v1 (32)', 'SmallWall_15', 'road_dense_housing.013', 'Broadleaf_Mobile (206)', 'Trash_v2 (1)', 'Signboard_menu_v2', 'Broadleaf_Mobile (189)', 'Graffity_02', 'Lamppost_v1 (67)', 'Broadleaf_Mobile (53)', 'Concrete_fence_v1_s2 (2)', 'Broadleaf_Mobile (12)', 'Graffity_38', 'Concrete_fence_v1_s2 (1)', 'SmallWall_3', 'Lamppost_v1 (45)', 'SmallWall_40', 'SmallWall_2', 'Broadleaf_Mobile (223)']\n",
      "\n",
      "Mixed session colliders not in exploration sessions: ['finger_pinky_1_r', 'Lamppost_v1 (197)', 'DestinationZoneA0', 'Fence_17', 'Lamppost_v1 (85)', 'StartZoneA6', 'StartZoneB2', 'DestinationZoneB5', 'Broadleaf_Mobile (140)', 'GrayRoom2', 'Concrete_fence_v1_s2 (32)', 'DestinationTriggerZoneA6', 'DestinationZoneB9', 'Broadleaf_Mobile (132)', 'Concrete_fence_v1_s2 (11)', 'DestinationTriggerZoneB2', 'Broadleaf_Mobile (161)', 'StartZoneA9', 'prefab_unity_grass_grass_bush_01', 'Building_191', 'DestinationTriggerZoneA4', 'Concrete_fence_v1_s2 (14)', 'thumb_distal', 'Broadleaf_Mobile (126)', 'Lamppost_v1 (131)', 'prefab_unity_grass_forest_heather_01 (2)', 'DestinationTriggerZoneA9', 'DestinationZoneA1', 'DestinationTriggerZoneA5', 'StartZoneB7', 'Broadleaf_Mobile (181)', 'Broadleaf_Mobile (183)', 'Broadleaf_Mobile (226)', 'Broadleaf_Mobile (130)', 'StartZoneB6', 'Road_block_v1 (2)', 'DestinationZoneA9', 'StartZoneA3', 'Oil_tank_v2', 'Lamppost_v1 (43)', 'finger_index_2_r', 'Concrete_fence_v1_s2 (12)', 'Lamppost_v1 (198)', 'StartZoneB0', 'Broadleaf_Mobile (207)', 'DestinationZoneA8', 'DestinationZoneA4', 'SmallWall_43', 'Lamppost_v1 (180)', 'Concrete_fence_v1_s2 (13)', 'Broadleaf_Mobile (125)', 'StartZoneB3', 'StartZoneA5', 'DestinationZoneB7', 'StartZoneA2', 'DestinationZoneA7', 'Tree_Planters_v1_4LS (5)', 'Concrete_fence_v1_s2 (17)', 'DestinationZoneB8', 'StartZoneB1', 'Arabic_v1_ceiling', 'finger_middle_0_r', 'DestinationTriggerZoneB5', 'Bench_v1 (10)', 'Broadleaf_Mobile (187)', 'DestinationTriggerZoneA2', 'DestinationTriggerZoneA7', 'finger_middle_2_r', 'finger_ring_2_r', 'GayRoom', 'DestinationZoneB4', 'Broadleaf_Mobile (197)', 'Lamppost_v1 (164)', 'DestinationZoneB0', 'DestinationTriggerZoneB0', 'DestinationTriggerZoneB8', 'Dumpster_v2_1', 'finger_index_1_r', 'Dumpsters_v1_garbadge', 'Broadleaf_Mobile (142)', 'DestinationZoneA5', 'finger_pinky_2_r', 'DestinationTriggerZoneB7', 'Sphere', 'DestinationZoneA6', 'Male_074_NoHands', 'finger_ring_1_r', 'Broadleaf_Mobile (16)', 'Lamppost_v1 (113)', 'DestinationTriggerZoneB1', 'Broadleaf_Mobile (17)', 'Concrete_fence_v1_s2 (21)', 'Broadleaf_Mobile (58)', 'StartZoneA1', 'DestinationTriggerZoneB4', 'Sphere (1)', 'DestinationZoneB1', 'DestinationTriggerZoneB3', 'finger_index_0_r', 'Concrete_fence_v1_L2 (1)', 'DestinationTriggerZoneA0', 'Lamppost_v1 (107)', 'Lamppost_v1 (14)', 'Lamppost_v1 (186)', 'Concrete_fence_v1_s2 (9)', 'road.011', 'Lamppost_v1 (157)', 'DestinationTriggerZoneA3', 'Broadleaf_Mobile (35)', 'Lamppost_v1 (185)', 'Tree_Planters_v1_4LS (1)', 'Broadleaf_Mobile (201)', 'Lamppost_v1 (155)', 'DestinationZoneB3', 'Sphere (3)', 'Broadleaf_Mobile (40)', 'StartZoneA4', 'Broadleaf_Mobile (227)', 'Broadleaf_Mobile (205)', 'Broadleaf_Mobile (210)', 'Broadleaf_Mobile (33)', 'Museum_v1_3_concrete', 'Concrete_fence_v1_s1 (3)', 'Lamppost_v1 (190)', 'DestinationZoneA2', 'Lamppost_v1 (163)', 'Broadleaf_Mobile (139)', 'Broadleaf_Mobile (11)', 'Concrete_fence_v2_end', 'Broadleaf_Mobile (174)', 'StartZoneA0', 'DestinationZoneB6', 'Broadleaf_Mobile (177)', 'Lamppost_v1 (38)', 'Broadleaf_Mobile (114)', 'Sphere (2)', 'Concrete_fence_v1_s2 (33)', 'DestinationTriggerZoneA8', 'Female_063_NoHands', 'Broadleaf_Mobile (229)', 'StartZoneA7', 'DestinationZoneA3', 'DestinationTriggerZoneB9', 'finger_middle_1_r', 'PhoneCollider', 'Broadleaf_Mobile (122)', 'raods_S_fix.007', 'Lamppost_v1 (68)', 'DestinationTriggerZoneA1', 'StartZoneA8', 'Lamppost_v1 (30)', 'Tree_Planters_v1_4LS (3)', 'Broadleaf_Mobile (123)', 'Lamppost_v1 (108)', 'DestinationZoneB2', 'DestinationTriggerZoneB6']\n"
     ]
    }
   ],
   "source": [
    "# Compare different session colliders vs exploration colliders\n",
    "\n",
    "print(\"Exploration colliders not in mixed sessions: \" + str(list(set(exploration_colliders_df[\"hitObjectColliderName\"]) - set(full_df[\"hitObjectColliderName\"]))))\n",
    "print()\n",
    "print(\"Mixed session colliders not in exploration sessions: \" + str(list(set(full_df[\"hitObjectColliderName\"]) - set(exploration_colliders_df[\"hitObjectColliderName\"]))))\n",
    "colliders_not_in_exp = list(set(full_df[\"hitObjectColliderName\"]) - set(exploration_colliders_df[\"hitObjectColliderName\"]))\n"
   ]
  },
  {
   "cell_type": "markdown",
   "id": "a1023177",
   "metadata": {},
   "source": [
    "## Manually select collider names of hand, phone, avatar"
   ]
  },
  {
   "cell_type": "code",
   "execution_count": 12,
   "id": "46049b7a",
   "metadata": {},
   "outputs": [],
   "source": [
    "# Generate list of non stationary colliders\n",
    "exclude_names = [\"lamppost\",\"broadleaf_mobile\",\"destinationtriggerzone\",\"destinationzone\",\"startzone\",\"concrete_fence\", \\\n",
    "                \"tree_planters\",\"smallwall\",\"gayroom\",\"grayroom\",\"road_block\",\"fence\", \\\n",
    "                \"dumpster\",\"arabic_v1_ceiling\",\"road.011\",\"bench_v1\",\"prefab_unity_grass\",\"raods_s_fix\", \\\n",
    "                \"museum_v1\",\"oil_tank\",\"building_191\"]\n",
    "animate_colliders = [x for x in colliders_not_in_exp if not any([name in x.lower() for name in exclude_names])]\n",
    "animate_colliders.sort()"
   ]
  },
  {
   "cell_type": "code",
   "execution_count": 13,
   "id": "f65d469f",
   "metadata": {},
   "outputs": [
    {
     "name": "stdout",
     "output_type": "stream",
     "text": [
      "Original collider name: Female_063_NoHands Target name: female_avatar\n",
      "Original collider name: Male_074_NoHands Target name: male_avatar\n",
      "Original collider name: PhoneCollider Target name: phone\n",
      "Original collider name: Sphere Target name: hand\n",
      "Original collider name: Sphere (1) Target name: hand\n",
      "Original collider name: Sphere (2) Target name: hand\n",
      "Original collider name: Sphere (3) Target name: hand\n",
      "Original collider name: finger_index_0_r Target name: hand\n",
      "Original collider name: finger_index_1_r Target name: hand\n",
      "Original collider name: finger_index_2_r Target name: hand\n",
      "Original collider name: finger_middle_0_r Target name: hand\n",
      "Original collider name: finger_middle_1_r Target name: hand\n",
      "Original collider name: finger_middle_2_r Target name: hand\n",
      "Original collider name: finger_pinky_1_r Target name: hand\n",
      "Original collider name: finger_pinky_2_r Target name: hand\n",
      "Original collider name: finger_ring_1_r Target name: hand\n",
      "Original collider name: finger_ring_2_r Target name: hand\n",
      "Original collider name: thumb_distal Target name: hand\n"
     ]
    }
   ],
   "source": [
    "# Generate target names\n",
    "animate_colliders_targets = [\"female_avatar\",\"male_avatar\",\"phone\",\"hand\",\"hand\",\"hand\",\"hand\",\"hand\",\"hand\",\"hand\",\"hand\",\"hand\",\"hand\",\"hand\",\"hand\",\"hand\",\"hand\",\"hand\"]\n",
    "for idx, _ in enumerate(animate_colliders):\n",
    "    print(\"Original collider name: \" + animate_colliders[idx] + \" Target name: \" + animate_colliders_targets[idx])"
   ]
  },
  {
   "cell_type": "code",
   "execution_count": 14,
   "id": "b371903e",
   "metadata": {},
   "outputs": [
    {
     "data": {
      "text/html": [
       "<div>\n",
       "<style scoped>\n",
       "    .dataframe tbody tr th:only-of-type {\n",
       "        vertical-align: middle;\n",
       "    }\n",
       "\n",
       "    .dataframe tbody tr th {\n",
       "        vertical-align: top;\n",
       "    }\n",
       "\n",
       "    .dataframe thead th {\n",
       "        text-align: right;\n",
       "    }\n",
       "</style>\n",
       "<table border=\"1\" class=\"dataframe\">\n",
       "  <thead>\n",
       "    <tr style=\"text-align: right;\">\n",
       "      <th></th>\n",
       "      <th>source_collider_name</th>\n",
       "      <th>target_collider_name</th>\n",
       "    </tr>\n",
       "  </thead>\n",
       "  <tbody>\n",
       "    <tr>\n",
       "      <th>0</th>\n",
       "      <td>Female_063_NoHands</td>\n",
       "      <td>female_avatar</td>\n",
       "    </tr>\n",
       "    <tr>\n",
       "      <th>1</th>\n",
       "      <td>Male_074_NoHands</td>\n",
       "      <td>male_avatar</td>\n",
       "    </tr>\n",
       "    <tr>\n",
       "      <th>2</th>\n",
       "      <td>PhoneCollider</td>\n",
       "      <td>phone</td>\n",
       "    </tr>\n",
       "    <tr>\n",
       "      <th>3</th>\n",
       "      <td>Sphere</td>\n",
       "      <td>hand</td>\n",
       "    </tr>\n",
       "    <tr>\n",
       "      <th>4</th>\n",
       "      <td>Sphere (1)</td>\n",
       "      <td>hand</td>\n",
       "    </tr>\n",
       "    <tr>\n",
       "      <th>5</th>\n",
       "      <td>Sphere (2)</td>\n",
       "      <td>hand</td>\n",
       "    </tr>\n",
       "    <tr>\n",
       "      <th>6</th>\n",
       "      <td>Sphere (3)</td>\n",
       "      <td>hand</td>\n",
       "    </tr>\n",
       "    <tr>\n",
       "      <th>7</th>\n",
       "      <td>finger_index_0_r</td>\n",
       "      <td>hand</td>\n",
       "    </tr>\n",
       "    <tr>\n",
       "      <th>8</th>\n",
       "      <td>finger_index_1_r</td>\n",
       "      <td>hand</td>\n",
       "    </tr>\n",
       "    <tr>\n",
       "      <th>9</th>\n",
       "      <td>finger_index_2_r</td>\n",
       "      <td>hand</td>\n",
       "    </tr>\n",
       "    <tr>\n",
       "      <th>10</th>\n",
       "      <td>finger_middle_0_r</td>\n",
       "      <td>hand</td>\n",
       "    </tr>\n",
       "    <tr>\n",
       "      <th>11</th>\n",
       "      <td>finger_middle_1_r</td>\n",
       "      <td>hand</td>\n",
       "    </tr>\n",
       "    <tr>\n",
       "      <th>12</th>\n",
       "      <td>finger_middle_2_r</td>\n",
       "      <td>hand</td>\n",
       "    </tr>\n",
       "    <tr>\n",
       "      <th>13</th>\n",
       "      <td>finger_pinky_1_r</td>\n",
       "      <td>hand</td>\n",
       "    </tr>\n",
       "    <tr>\n",
       "      <th>14</th>\n",
       "      <td>finger_pinky_2_r</td>\n",
       "      <td>hand</td>\n",
       "    </tr>\n",
       "    <tr>\n",
       "      <th>15</th>\n",
       "      <td>finger_ring_1_r</td>\n",
       "      <td>hand</td>\n",
       "    </tr>\n",
       "    <tr>\n",
       "      <th>16</th>\n",
       "      <td>finger_ring_2_r</td>\n",
       "      <td>hand</td>\n",
       "    </tr>\n",
       "    <tr>\n",
       "      <th>17</th>\n",
       "      <td>thumb_distal</td>\n",
       "      <td>hand</td>\n",
       "    </tr>\n",
       "  </tbody>\n",
       "</table>\n",
       "</div>"
      ],
      "text/plain": [
       "   source_collider_name target_collider_name\n",
       "0    Female_063_NoHands        female_avatar\n",
       "1      Male_074_NoHands          male_avatar\n",
       "2         PhoneCollider                phone\n",
       "3                Sphere                 hand\n",
       "4            Sphere (1)                 hand\n",
       "5            Sphere (2)                 hand\n",
       "6            Sphere (3)                 hand\n",
       "7      finger_index_0_r                 hand\n",
       "8      finger_index_1_r                 hand\n",
       "9      finger_index_2_r                 hand\n",
       "10    finger_middle_0_r                 hand\n",
       "11    finger_middle_1_r                 hand\n",
       "12    finger_middle_2_r                 hand\n",
       "13     finger_pinky_1_r                 hand\n",
       "14     finger_pinky_2_r                 hand\n",
       "15      finger_ring_1_r                 hand\n",
       "16      finger_ring_2_r                 hand\n",
       "17         thumb_distal                 hand"
      ]
     },
     "execution_count": 14,
     "metadata": {},
     "output_type": "execute_result"
    }
   ],
   "source": [
    "# Create dataframe to be saved \n",
    "animate_colliders_df = pd.DataFrame(columns=[\"source_collider_name\",\"target_collider_name\"])\n",
    "for idx, _ in enumerate(animate_colliders):\n",
    "    animate_colliders_df = animate_colliders_df.append({\"source_collider_name\":animate_colliders[idx],\"target_collider_name\":animate_colliders_targets[idx]},ignore_index=True)\n",
    "animate_colliders_df"
   ]
  },
  {
   "cell_type": "code",
   "execution_count": 19,
   "id": "15bcc121",
   "metadata": {},
   "outputs": [],
   "source": [
    "# Save \n",
    "if False:\n",
    "    animate_colliders_df.to_csv(\"./animate_collider_list.csv\",index=False)"
   ]
  },
  {
   "cell_type": "code",
   "execution_count": null,
   "id": "bef3fc5d",
   "metadata": {},
   "outputs": [],
   "source": []
  }
 ],
 "metadata": {
  "kernelspec": {
   "display_name": "Python 3",
   "language": "python",
   "name": "python3"
  },
  "language_info": {
   "codemirror_mode": {
    "name": "ipython",
    "version": 3
   },
   "file_extension": ".py",
   "mimetype": "text/x-python",
   "name": "python",
   "nbconvert_exporter": "python",
   "pygments_lexer": "ipython3",
   "version": "3.6.13"
  }
 },
 "nbformat": 4,
 "nbformat_minor": 5
}
