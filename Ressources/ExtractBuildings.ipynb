{
 "cells": [
  {
   "cell_type": "code",
   "execution_count": 1,
   "id": "e2fad039",
   "metadata": {},
   "outputs": [],
   "source": [
    "import pandas as pd\n",
    "import pickle \n",
    "import json"
   ]
  },
  {
   "cell_type": "code",
   "execution_count": 2,
   "id": "4641ad08",
   "metadata": {},
   "outputs": [],
   "source": [
    "def save_to_disk(data, filepath):\n",
    "    with open(filepath, 'wb') as file:\n",
    "        pickle.dump(data, file)\n",
    "def load_from_disk(filepath):\n",
    "    with open(filepath, 'rb') as file:\n",
    "        data = pickle.load(file)\n",
    "        return data"
   ]
  },
  {
   "cell_type": "code",
   "execution_count": 3,
   "id": "96813a72",
   "metadata": {},
   "outputs": [],
   "source": [
    "# Read Json \n",
    "json_path = \"./AllBuildingList_TaskAssignment.json\"\n",
    "with open(json_path, 'r', encoding=\"utf-8\") as json_file:\n",
    "    buildings_dict = json.load(json_file)"
   ]
  },
  {
   "cell_type": "code",
   "execution_count": 4,
   "id": "7d0f509c",
   "metadata": {},
   "outputs": [
    {
     "name": "stdout",
     "output_type": "stream",
     "text": [
      "All Building names (284, unique names 247): \n",
      " ['Building_92', 'Garage_224', 'Building_226', 'Building_58', 'Building_182', 'Building_101', 'Building_225', 'Building_105', 'Building_139', 'Building_161', 'Garage_185', 'Building_146', 'Building_229', 'Building_86', 'Building_216', 'Building_215', 'Building_175', 'Building_196', 'Building_228', 'Building_124', 'Building_115', 'Building_192', 'Building_174', 'Building_219', 'Building_213', 'Building_192', 'Building_116', 'Building_116', 'Building_115', 'Building_189', 'Building_207', 'Building_193', 'Building_158', 'Building_123', 'Building_154', 'Building_125', 'Building_206', 'Building_191', 'Building_212', 'Building_190', 'Building_151', 'Building_84', 'Building_122', 'Building_106', 'Garage_185', 'Building_198', 'Building_131', 'Building_179', 'Building_201', 'Building_165', 'Building_184', 'Building_171', 'Building_176', 'Building_177', 'Building_208', 'Building_185', 'Building_178', 'Building_121', 'Building_157', 'Building_164', 'Building_135', 'Building_181', 'Garage_86', 'Building_220', 'Building_136', 'House_49', 'Building_143', 'Building_145', 'Building_227', 'Garage_224', 'Garage_235', 'House_10', 'Building_148', 'Building_188', 'Building_200', 'Building_159', 'Building_231', 'Garage_185', 'Garage_235', 'Building_127', 'Building_94', 'Garage_185', 'Garage_185', 'Building_62', 'Building_211', 'Building_233', 'Building_91', 'Building_74', 'Garage_46', 'Building_95', 'Garage_185', 'Garage_98', 'Building_87', 'Building_141', 'Building_197', 'Garage_185', 'Garage_235', 'Garage_46', 'Building_232', 'Building_99', 'Garage_235', 'Garage_98', 'Building_140', 'Building_107', 'Building_68', 'Building_79', 'Garage_185', 'Garage_98', 'Building_89', 'Building_132', 'Building_111', 'Building_98', 'Building_173', 'Building_114', 'Building_137', 'Building_194', 'Garage_86', 'Building_223', 'Garage_185', 'Building_214', 'Building_202', 'Building_149', 'Garage_26', 'Building_222', 'Building_83', 'Garage_71', 'Building_65', 'Building_72', 'Building_187', 'Building_150', 'Building_210', 'Building_126', 'Garage_185', 'Building_138', 'Building_104', 'Building_110', 'Building_77', 'Garage_185', 'Building_153', 'Building_61', 'Building_66', 'Building_183', 'Building_234', 'Building_236', 'Building_108', 'Building_82', 'Building_63', 'Building_69', 'Garage_72', 'Building_57', 'Building_218', 'Building_186', 'Building_129', 'Building_64', 'Building_59', 'Garage_185', 'Building_73', 'Building_155', 'Building_118', 'Building_224', 'Building_119', 'Building_195', 'Building_78', 'Building_209', 'Building_112', 'Building_205', 'Building_93', 'Garage_235', 'Building_162', 'Building_166', 'Garage_46', 'Building_103', 'Building_152', 'Garage_185', 'Building_133', 'Building_142', 'Building_113', 'Garage_235', 'Building_163', 'Building_230', 'Garage_86', 'Building_128', 'Building_67', 'Building_183', 'Building_172', 'Building_81', 'Building_120', 'Building_199', 'Building_147', 'Building_156', 'Building_117', 'Garage_224', 'Building_167', 'Building_204', 'Building_75', 'Building_90', 'Garage_185', 'Building_130', 'Building_88', 'Building_76', 'Garage_185', 'Building_203', 'Building_97', 'Building_168', 'Building_217', 'Building_180', 'Building_169', 'Building_109', 'Garage_98', 'Building_134', 'Building_71', 'Building_144', 'Building_70', 'Building_96', 'Building_221', 'Building_80', 'Garage_185', 'Building_100', 'Building_235', 'Garage_235', 'Building_85', 'Building_60', 'Building_170', 'Building_160', 'Building_102', 'Garage_86', 'Garage_224', 'Garage_235', 'TaskBuilding_29', 'TaskBuilding_38', 'TaskBuilding_40', 'TaskBuilding_11', 'TaskBuilding_8', 'TaskBuilding_19', 'TaskBuilding_54', 'TaskBuilding_35', 'Windmill-TaskBuilding_10_1', 'TaskBuilding_52', 'TaskBuilding_34', 'TaskBuilding_44', 'TaskBuilding_47', 'TaskBuilding_20', 'TaskBuilding_48', 'TaskBuilding_17', 'TaskBuilding_33', 'TaskBuilding_25', 'TaskBuilding_36', 'TaskBuilding_7', 'TaskBuilding_4', 'TaskBuilding_26', 'TaskBuilding_23', 'TaskBuilding_9', 'TaskBuilding_1', 'TaskBuilding_45', 'TaskBuilding_12', 'TaskBuilding_53', 'TaskBuilding_31', 'TaskBuilding_32', 'TaskBuilding_15', 'TaskBuilding_13', 'TaskBuilding_3', 'TaskBuilding_21', 'TaskBuilding_28', 'Castle-TaskBuilding_56', 'HighSilo-TaskBuilding_49', 'TaskBuilding_5', 'TaskBuilding_42', 'TaskBuilding_43', 'TaskBuilding_6', 'TaskBuilding_55', 'TaskBuilding_27', 'TaskBuilding_41', 'TaskBuilding_22', 'TaskBuilding_18', 'TaskBuilding_24', 'Church-TaskBuilding_16', 'TaskBuilding_2', 'TaskBuilding_51', 'TaskBuilding_37', 'TaskBuilding_50', 'TaskBuilding_46', 'TaskBuilding_14', 'TaskBuilding_30', 'TaskBuilding_39']\n"
     ]
    }
   ],
   "source": [
    "# Extract building names \n",
    "all_building_names = []\n",
    "for elem in buildings_dict:\n",
    "    all_building_names.append(elem[\"BuildingName\"])\n",
    "print(\"All Building names (\" + str(len(all_building_names)) + \", unique names \" + str(len(list(set((all_building_names))))) + \"): \\n\", all_building_names)"
   ]
  },
  {
   "cell_type": "code",
   "execution_count": 5,
   "id": "36020bab",
   "metadata": {},
   "outputs": [
    {
     "name": "stdout",
     "output_type": "stream",
     "text": [
      "Filtered names (247): \n",
      " ['Building_172', 'Building_174', 'Building_230', 'Building_95', 'Building_66', 'Building_186', 'TaskBuilding_20', 'Building_138', 'Building_154', 'TaskBuilding_39', 'Building_179', 'Building_198', 'Building_233', 'TaskBuilding_36', 'Building_119', 'Building_204', 'Building_92', 'Building_197', 'Building_93', 'Building_112', 'TaskBuilding_30', 'Building_109', 'Building_202', 'Building_73', 'Building_113', 'Building_167', 'Building_156', 'TaskBuilding_8', 'TaskBuilding_11', 'Building_94', 'Building_70', 'Building_135', 'Building_175', 'Building_220', 'Building_169', 'Building_102', 'TaskBuilding_52', 'Building_114', 'Building_62', 'TaskBuilding_33', 'Building_196', 'Building_203', 'Building_79', 'Building_71', 'TaskBuilding_55', 'Garage_235', 'Building_105', 'Building_98', 'Building_88', 'Building_91', 'Building_162', 'Building_234', 'Building_218', 'Building_96', 'TaskBuilding_25', 'Building_191', 'Building_201', 'Building_124', 'Garage_98', 'Building_149', 'TaskBuilding_29', 'TaskBuilding_43', 'Building_75', 'Building_141', 'TaskBuilding_13', 'Building_65', 'TaskBuilding_40', 'Building_163', 'TaskBuilding_17', 'Building_182', 'Building_101', 'Building_210', 'Building_145', 'TaskBuilding_54', 'Building_120', 'HighSilo-TaskBuilding_49', 'Garage_26', 'Building_129', 'Building_143', 'TaskBuilding_3', 'Building_235', 'TaskBuilding_2', 'Building_217', 'Building_140', 'TaskBuilding_7', 'TaskBuilding_47', 'Building_183', 'Building_85', 'Building_159', 'Garage_86', 'TaskBuilding_32', 'Building_190', 'Building_144', 'Building_232', 'House_10', 'TaskBuilding_38', 'Building_168', 'Building_231', 'Building_81', 'Building_142', 'Building_157', 'Building_189', 'TaskBuilding_34', 'TaskBuilding_31', 'TaskBuilding_18', 'TaskBuilding_12', 'TaskBuilding_6', 'TaskBuilding_51', 'TaskBuilding_1', 'Building_67', 'Building_222', 'Building_108', 'Building_136', 'Building_107', 'Building_125', 'Building_128', 'TaskBuilding_26', 'TaskBuilding_42', 'Garage_46', 'Building_80', 'Building_131', 'Garage_71', 'Building_89', 'Building_72', 'Building_209', 'Building_207', 'Building_60', 'TaskBuilding_44', 'TaskBuilding_4', 'Building_146', 'Building_194', 'Building_76', 'Building_78', 'Building_180', 'Building_166', 'Building_206', 'Building_99', 'Building_117', 'TaskBuilding_9', 'Building_121', 'Building_127', 'Building_170', 'Garage_224', 'Building_155', 'TaskBuilding_48', 'TaskBuilding_21', 'Building_185', 'TaskBuilding_28', 'TaskBuilding_27', 'Building_57', 'Building_133', 'Building_77', 'TaskBuilding_46', 'Building_216', 'Building_130', 'Building_106', 'Building_228', 'Building_214', 'Building_69', 'Building_195', 'Building_205', 'TaskBuilding_53', 'Building_193', 'Building_184', 'Building_111', 'Building_187', 'Garage_72', 'Building_126', 'Building_213', 'Windmill-TaskBuilding_10_1', 'Building_97', 'TaskBuilding_14', 'Building_115', 'Building_208', 'Building_122', 'Building_236', 'TaskBuilding_37', 'TaskBuilding_19', 'TaskBuilding_5', 'TaskBuilding_45', 'Building_63', 'Building_212', 'Building_116', 'TaskBuilding_15', 'Building_164', 'Building_219', 'Building_132', 'Building_211', 'Building_215', 'Building_84', 'Building_86', 'Building_161', 'Building_160', 'Building_83', 'Building_153', 'TaskBuilding_24', 'Building_103', 'Building_165', 'Building_177', 'Building_223', 'Building_151', 'Building_58', 'Building_158', 'Building_152', 'Building_171', 'Building_192', 'Building_173', 'Building_82', 'Castle-TaskBuilding_56', 'Building_87', 'Building_181', 'Building_59', 'Building_137', 'Building_61', 'Building_176', 'TaskBuilding_41', 'Building_199', 'TaskBuilding_23', 'Building_226', 'Building_150', 'TaskBuilding_35', 'Building_229', 'TaskBuilding_50', 'Building_64', 'Building_90', 'House_49', 'Building_68', 'Church-TaskBuilding_16', 'Building_227', 'Building_188', 'Building_200', 'Building_110', 'Building_224', 'Garage_185', 'Building_148', 'Building_74', 'Building_100', 'Building_123', 'Building_178', 'Building_139', 'Building_104', 'Building_225', 'Building_134', 'Building_221', 'Building_118', 'Building_147', 'TaskBuilding_22']\n"
     ]
    }
   ],
   "source": [
    "# Filter buildings\n",
    "exclude_parts = [] # [\"garage\"]\n",
    "filtered_names = []\n",
    "for elem in all_building_names:\n",
    "    for exclude in exclude_parts:\n",
    "        if exclude in elem.lower():\n",
    "            filtered_names.append(elem)\n",
    "filtered_names = list(set(all_building_names) - set(filtered_names))\n",
    "print(\"Filtered names (\" + str(len(filtered_names)) + \"): \\n\", filtered_names)"
   ]
  },
  {
   "cell_type": "code",
   "execution_count": 6,
   "id": "30c0ef31",
   "metadata": {},
   "outputs": [
    {
     "name": "stdout",
     "output_type": "stream",
     "text": [
      "Renamed buildings (247): \n",
      "['Building_172', 'Building_174', 'Building_230', 'Building_95', 'Building_66', 'Building_186', 'TaskBuilding_20', 'Building_138', 'Building_154', 'TaskBuilding_39', 'Building_179', 'Building_198', 'Building_233', 'TaskBuilding_36', 'Building_119', 'Building_204', 'Building_92', 'Building_197', 'Building_93', 'Building_112', 'TaskBuilding_30', 'Building_109', 'Building_202', 'Building_73', 'Building_113', 'Building_167', 'Building_156', 'TaskBuilding_8', 'TaskBuilding_11', 'Building_94', 'Building_70', 'Building_135', 'Building_175', 'Building_220', 'Building_169', 'Building_102', 'TaskBuilding_52', 'Building_114', 'Building_62', 'TaskBuilding_33', 'Building_196', 'Building_203', 'Building_79', 'Building_71', 'TaskBuilding_55', 'Building_235', 'Building_105', 'Building_98', 'Building_88', 'Building_91', 'Building_162', 'Building_234', 'Building_218', 'Building_96', 'TaskBuilding_25', 'Building_191', 'Building_201', 'Building_124', 'Building_98', 'Building_149', 'TaskBuilding_29', 'TaskBuilding_43', 'Building_75', 'Building_141', 'TaskBuilding_13', 'Building_65', 'TaskBuilding_40', 'Building_163', 'TaskBuilding_17', 'Building_182', 'Building_101', 'Building_210', 'Building_145', 'TaskBuilding_54', 'Building_120', 'HighSilo-TaskBuilding_49', 'TaskBuilding_26', 'Building_129', 'Building_143', 'TaskBuilding_3', 'Building_235', 'TaskBuilding_2', 'Building_217', 'Building_140', 'TaskBuilding_7', 'TaskBuilding_47', 'Building_183', 'Building_85', 'Building_159', 'Building_86', 'TaskBuilding_32', 'Building_190', 'Building_144', 'Building_232', 'House_10', 'TaskBuilding_38', 'Building_168', 'Building_231', 'Building_81', 'Building_142', 'Building_157', 'Building_189', 'TaskBuilding_34', 'TaskBuilding_31', 'TaskBuilding_18', 'TaskBuilding_12', 'TaskBuilding_6', 'TaskBuilding_51', 'TaskBuilding_1', 'Building_67', 'Building_222', 'Building_108', 'Building_136', 'Building_107', 'Building_125', 'Building_128', 'TaskBuilding_26', 'TaskBuilding_42', 'TaskBuilding_46', 'Building_80', 'Building_131', 'Building_71', 'Building_89', 'Building_72', 'Building_209', 'Building_207', 'Building_60', 'TaskBuilding_44', 'TaskBuilding_4', 'Building_146', 'Building_194', 'Building_76', 'Building_78', 'Building_180', 'Building_166', 'Building_206', 'Building_99', 'Building_117', 'TaskBuilding_9', 'Building_121', 'Building_127', 'Building_170', 'Building_224', 'Building_155', 'TaskBuilding_48', 'TaskBuilding_21', 'Building_185', 'TaskBuilding_28', 'TaskBuilding_27', 'Building_57', 'Building_133', 'Building_77', 'TaskBuilding_46', 'Building_216', 'Building_130', 'Building_106', 'Building_228', 'Building_214', 'Building_69', 'Building_195', 'Building_205', 'TaskBuilding_53', 'Building_193', 'Building_184', 'Building_111', 'Building_187', 'Building_72', 'Building_126', 'Building_213', 'Windmill-TaskBuilding_10_1', 'Building_97', 'TaskBuilding_14', 'Building_115', 'Building_208', 'Building_122', 'Building_236', 'TaskBuilding_37', 'TaskBuilding_19', 'TaskBuilding_5', 'TaskBuilding_45', 'Building_63', 'Building_212', 'Building_116', 'TaskBuilding_15', 'Building_164', 'Building_219', 'Building_132', 'Building_211', 'Building_215', 'Building_84', 'Building_86', 'Building_161', 'Building_160', 'Building_83', 'Building_153', 'TaskBuilding_24', 'Building_103', 'Building_165', 'Building_177', 'Building_223', 'Building_151', 'Building_58', 'Building_158', 'Building_152', 'Building_171', 'Building_192', 'Building_173', 'Building_82', 'Castle-TaskBuilding_56', 'Building_87', 'Building_181', 'Building_59', 'Building_137', 'Building_61', 'Building_176', 'TaskBuilding_41', 'Building_199', 'TaskBuilding_23', 'Building_226', 'Building_150', 'TaskBuilding_35', 'Building_229', 'TaskBuilding_50', 'Building_64', 'Building_90', 'House_49', 'Building_68', 'Church-TaskBuilding_16', 'Building_227', 'Building_188', 'Building_200', 'Building_110', 'Building_224', 'Building_185', 'Building_148', 'Building_74', 'Building_100', 'Building_123', 'Building_178', 'Building_139', 'Building_104', 'Building_225', 'Building_134', 'Building_221', 'Building_118', 'Building_147', 'TaskBuilding_22']\n"
     ]
    }
   ],
   "source": [
    "# rename buildings\n",
    "rename_dict = {'Garage_235':'Building_235', 'Garage_224':'Building_224', 'Garage_185':'Building_185', \\\n",
    "                'Garage_71':'Building_71', 'Garage_86':'Building_86', 'Garage_98':'Building_98', \\\n",
    "                'Garage_26':'TaskBuilding_26', 'Garage_46':'TaskBuilding_46', 'Garage_72':'Building_72'}\n",
    "\n",
    "renamed_buildings = []\n",
    "for elem in filtered_names:\n",
    "    if elem in [*rename_dict]:\n",
    "        renamed_buildings.append(rename_dict[elem])\n",
    "    else:\n",
    "        renamed_buildings.append(elem)\n",
    "print(\"Renamed buildings (\" + str(len(renamed_buildings)) + \"): \\n\" + str(renamed_buildings))       \n",
    "\n"
   ]
  },
  {
   "cell_type": "code",
   "execution_count": 7,
   "id": "8bf20b5b",
   "metadata": {},
   "outputs": [],
   "source": [
    "# save data\n",
    "renamed_buildings.sort()\n",
    "save_to_disk(renamed_buildings,\"./building_names.pickle\")"
   ]
  },
  {
   "cell_type": "code",
   "execution_count": null,
   "id": "9e06656c",
   "metadata": {},
   "outputs": [],
   "source": []
  }
 ],
 "metadata": {
  "kernelspec": {
   "display_name": "Python 3",
   "language": "python",
   "name": "python3"
  },
  "language_info": {
   "codemirror_mode": {
    "name": "ipython",
    "version": 3
   },
   "file_extension": ".py",
   "mimetype": "text/x-python",
   "name": "python",
   "nbconvert_exporter": "python",
   "pygments_lexer": "ipython3",
   "version": "3.6.13"
  }
 },
 "nbformat": 4,
 "nbformat_minor": 5
}
