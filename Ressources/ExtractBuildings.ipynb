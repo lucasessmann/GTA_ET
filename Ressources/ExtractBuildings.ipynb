{
 "cells": [
  {
   "cell_type": "code",
   "execution_count": 1,
   "id": "e2fad039",
   "metadata": {},
   "outputs": [],
   "source": [
    "import pandas as pd\n",
    "import pickle \n",
    "import json\n",
    "import TransformHelper"
   ]
  },
  {
   "cell_type": "code",
   "execution_count": 2,
   "id": "4641ad08",
   "metadata": {},
   "outputs": [],
   "source": [
    "def save_to_disk(data, filepath):\n",
    "    with open(filepath, 'wb') as file:\n",
    "        pickle.dump(data, file)\n",
    "def load_from_disk(filepath):\n",
    "    with open(filepath, 'rb') as file:\n",
    "        data = pickle.load(file)\n",
    "        return data\n",
    "def read_normalized_json_to_df(filepath):\n",
    "    full_file_df = \"\"\n",
    "    with open(filepath, 'r', encoding=\"utf-8\") as json_file:\n",
    "        json_full = json.load(json_file)\n",
    "    full_file_df = pd.json_normalize(json_full)\n",
    "    return full_file_df"
   ]
  },
  {
   "cell_type": "markdown",
   "id": "4a304e5b",
   "metadata": {},
   "source": [
    "### Building name list"
   ]
  },
  {
   "cell_type": "code",
   "execution_count": 3,
   "id": "96813a72",
   "metadata": {},
   "outputs": [],
   "source": [
    "# Read Json \n",
    "json_path = \"./AllBuildingList_TaskAssignment.json\"\n",
    "with open(json_path, 'r', encoding=\"utf-8\") as json_file:\n",
    "    buildings_dict = json.load(json_file)"
   ]
  },
  {
   "cell_type": "code",
   "execution_count": 4,
   "id": "7d0f509c",
   "metadata": {},
   "outputs": [
    {
     "name": "stdout",
     "output_type": "stream",
     "text": [
      "All Building names (284, unique names 247): \n",
      " ['Building_92', 'Garage_224', 'Building_226', 'Building_58', 'Building_182', 'Building_101', 'Building_225', 'Building_105', 'Building_139', 'Building_161', 'Garage_185', 'Building_146', 'Building_229', 'Building_86', 'Building_216', 'Building_215', 'Building_175', 'Building_196', 'Building_228', 'Building_124', 'Building_115', 'Building_192', 'Building_174', 'Building_219', 'Building_213', 'Building_192', 'Building_116', 'Building_116', 'Building_115', 'Building_189', 'Building_207', 'Building_193', 'Building_158', 'Building_123', 'Building_154', 'Building_125', 'Building_206', 'Building_191', 'Building_212', 'Building_190', 'Building_151', 'Building_84', 'Building_122', 'Building_106', 'Garage_185', 'Building_198', 'Building_131', 'Building_179', 'Building_201', 'Building_165', 'Building_184', 'Building_171', 'Building_176', 'Building_177', 'Building_208', 'Building_185', 'Building_178', 'Building_121', 'Building_157', 'Building_164', 'Building_135', 'Building_181', 'Garage_86', 'Building_220', 'Building_136', 'House_49', 'Building_143', 'Building_145', 'Building_227', 'Garage_224', 'Garage_235', 'House_10', 'Building_148', 'Building_188', 'Building_200', 'Building_159', 'Building_231', 'Garage_185', 'Garage_235', 'Building_127', 'Building_94', 'Garage_185', 'Garage_185', 'Building_62', 'Building_211', 'Building_233', 'Building_91', 'Building_74', 'Garage_46', 'Building_95', 'Garage_185', 'Garage_98', 'Building_87', 'Building_141', 'Building_197', 'Garage_185', 'Garage_235', 'Garage_46', 'Building_232', 'Building_99', 'Garage_235', 'Garage_98', 'Building_140', 'Building_107', 'Building_68', 'Building_79', 'Garage_185', 'Garage_98', 'Building_89', 'Building_132', 'Building_111', 'Building_98', 'Building_173', 'Building_114', 'Building_137', 'Building_194', 'Garage_86', 'Building_223', 'Garage_185', 'Building_214', 'Building_202', 'Building_149', 'Garage_26', 'Building_222', 'Building_83', 'Garage_71', 'Building_65', 'Building_72', 'Building_187', 'Building_150', 'Building_210', 'Building_126', 'Garage_185', 'Building_138', 'Building_104', 'Building_110', 'Building_77', 'Garage_185', 'Building_153', 'Building_61', 'Building_66', 'Building_183', 'Building_234', 'Building_236', 'Building_108', 'Building_82', 'Building_63', 'Building_69', 'Garage_72', 'Building_57', 'Building_218', 'Building_186', 'Building_129', 'Building_64', 'Building_59', 'Garage_185', 'Building_73', 'Building_155', 'Building_118', 'Building_224', 'Building_119', 'Building_195', 'Building_78', 'Building_209', 'Building_112', 'Building_205', 'Building_93', 'Garage_235', 'Building_162', 'Building_166', 'Garage_46', 'Building_103', 'Building_152', 'Garage_185', 'Building_133', 'Building_142', 'Building_113', 'Garage_235', 'Building_163', 'Building_230', 'Garage_86', 'Building_128', 'Building_67', 'Building_183', 'Building_172', 'Building_81', 'Building_120', 'Building_199', 'Building_147', 'Building_156', 'Building_117', 'Garage_224', 'Building_167', 'Building_204', 'Building_75', 'Building_90', 'Garage_185', 'Building_130', 'Building_88', 'Building_76', 'Garage_185', 'Building_203', 'Building_97', 'Building_168', 'Building_217', 'Building_180', 'Building_169', 'Building_109', 'Garage_98', 'Building_134', 'Building_71', 'Building_144', 'Building_70', 'Building_96', 'Building_221', 'Building_80', 'Garage_185', 'Building_100', 'Building_235', 'Garage_235', 'Building_85', 'Building_60', 'Building_170', 'Building_160', 'Building_102', 'Garage_86', 'Garage_224', 'Garage_235', 'TaskBuilding_29', 'TaskBuilding_38', 'TaskBuilding_40', 'TaskBuilding_11', 'TaskBuilding_8', 'TaskBuilding_19', 'TaskBuilding_54', 'TaskBuilding_35', 'Windmill-TaskBuilding_10_1', 'TaskBuilding_52', 'TaskBuilding_34', 'TaskBuilding_44', 'TaskBuilding_47', 'TaskBuilding_20', 'TaskBuilding_48', 'TaskBuilding_17', 'TaskBuilding_33', 'TaskBuilding_25', 'TaskBuilding_36', 'TaskBuilding_7', 'TaskBuilding_4', 'TaskBuilding_26', 'TaskBuilding_23', 'TaskBuilding_9', 'TaskBuilding_1', 'TaskBuilding_45', 'TaskBuilding_12', 'TaskBuilding_53', 'TaskBuilding_31', 'TaskBuilding_32', 'TaskBuilding_15', 'TaskBuilding_13', 'TaskBuilding_3', 'TaskBuilding_21', 'TaskBuilding_28', 'Castle-TaskBuilding_56', 'HighSilo-TaskBuilding_49', 'TaskBuilding_5', 'TaskBuilding_42', 'TaskBuilding_43', 'TaskBuilding_6', 'TaskBuilding_55', 'TaskBuilding_27', 'TaskBuilding_41', 'TaskBuilding_22', 'TaskBuilding_18', 'TaskBuilding_24', 'Church-TaskBuilding_16', 'TaskBuilding_2', 'TaskBuilding_51', 'TaskBuilding_37', 'TaskBuilding_50', 'TaskBuilding_46', 'TaskBuilding_14', 'TaskBuilding_30', 'TaskBuilding_39']\n"
     ]
    }
   ],
   "source": [
    "# Extract building names \n",
    "all_building_names = []\n",
    "for elem in buildings_dict:\n",
    "    all_building_names.append(elem[\"BuildingName\"])\n",
    "print(\"All Building names (\" + str(len(all_building_names)) + \", unique names \" + str(len(list(set((all_building_names))))) + \"): \\n\", all_building_names)"
   ]
  },
  {
   "cell_type": "code",
   "execution_count": 5,
   "id": "36020bab",
   "metadata": {},
   "outputs": [
    {
     "name": "stdout",
     "output_type": "stream",
     "text": [
      "Filtered names (247): \n",
      " ['TaskBuilding_54', 'Building_92', 'TaskBuilding_44', 'Building_89', 'Building_140', 'TaskBuilding_41', 'Building_214', 'Building_62', 'Building_179', 'Building_136', 'Building_101', 'Building_131', 'Building_156', 'Building_151', 'TaskBuilding_36', 'Building_95', 'Building_160', 'Building_127', 'Building_132', 'TaskBuilding_19', 'Building_172', 'TaskBuilding_18', 'Building_176', 'Building_163', 'Building_119', 'Building_170', 'Building_204', 'TaskBuilding_39', 'Building_171', 'Building_159', 'Building_103', 'Building_187', 'TaskBuilding_7', 'Garage_46', 'TaskBuilding_28', 'Building_58', 'Building_169', 'Building_185', 'Building_88', 'Building_94', 'Building_230', 'TaskBuilding_17', 'Building_71', 'TaskBuilding_24', 'Building_198', 'Garage_72', 'TaskBuilding_14', 'Building_126', 'Building_202', 'Building_105', 'Building_83', 'Building_227', 'Building_108', 'Garage_224', 'Building_168', 'Building_216', 'Building_180', 'Building_76', 'TaskBuilding_5', 'Building_57', 'Building_162', 'Building_65', 'TaskBuilding_1', 'TaskBuilding_52', 'Building_211', 'Building_212', 'Building_164', 'Building_210', 'Church-TaskBuilding_16', 'Building_146', 'Building_222', 'Building_107', 'Building_191', 'Building_106', 'Building_111', 'TaskBuilding_6', 'Garage_71', 'Building_118', 'Building_59', 'Building_100', 'Building_102', 'Building_161', 'TaskBuilding_25', 'Building_215', 'Building_166', 'TaskBuilding_45', 'Building_208', 'Building_144', 'Building_70', 'TaskBuilding_37', 'TaskBuilding_40', 'Building_114', 'Building_112', 'Building_79', 'Building_61', 'Building_90', 'Building_130', 'TaskBuilding_30', 'Building_63', 'Building_72', 'Building_123', 'Building_109', 'Building_139', 'Building_194', 'TaskBuilding_22', 'Building_82', 'Building_69', 'Building_135', 'Building_120', 'Building_74', 'Building_174', 'Building_66', 'Building_207', 'Building_201', 'Building_149', 'Building_218', 'Building_133', 'Building_85', 'TaskBuilding_23', 'Building_155', 'Building_93', 'Building_188', 'Building_175', 'TaskBuilding_51', 'Building_124', 'Building_186', 'Building_75', 'TaskBuilding_13', 'Building_148', 'Building_234', 'Building_142', 'Building_209', 'Building_97', 'Building_221', 'Building_196', 'Building_87', 'Building_141', 'Building_197', 'TaskBuilding_8', 'Building_147', 'Building_153', 'Building_219', 'Building_157', 'Building_229', 'TaskBuilding_20', 'TaskBuilding_9', 'TaskBuilding_15', 'Building_190', 'Building_192', 'Garage_98', 'Building_81', 'Building_122', 'TaskBuilding_29', 'Building_232', 'TaskBuilding_11', 'TaskBuilding_21', 'Building_167', 'TaskBuilding_32', 'Building_205', 'Building_137', 'Building_225', 'Building_86', 'Building_129', 'Building_195', 'Building_84', 'TaskBuilding_2', 'Building_235', 'Building_73', 'Building_158', 'TaskBuilding_27', 'Building_145', 'Building_154', 'Building_228', 'Building_67', 'Building_224', 'Building_165', 'Garage_235', 'Building_173', 'Building_116', 'TaskBuilding_47', 'TaskBuilding_46', 'Building_104', 'Building_217', 'Building_189', 'Building_98', 'Building_182', 'Building_138', 'Building_177', 'Building_96', 'Building_80', 'HighSilo-TaskBuilding_49', 'Building_91', 'Garage_185', 'TaskBuilding_4', 'Building_223', 'TaskBuilding_34', 'Building_117', 'Building_178', 'Building_77', 'Building_231', 'Building_213', 'Building_64', 'TaskBuilding_26', 'TaskBuilding_53', 'Building_128', 'Building_99', 'Building_115', 'Building_193', 'TaskBuilding_48', 'Building_134', 'TaskBuilding_12', 'Building_233', 'Building_78', 'Windmill-TaskBuilding_10_1', 'Building_183', 'Building_203', 'House_49', 'Building_121', 'Building_125', 'TaskBuilding_35', 'Castle-TaskBuilding_56', 'TaskBuilding_50', 'Building_220', 'TaskBuilding_42', 'TaskBuilding_38', 'TaskBuilding_43', 'Building_150', 'House_10', 'TaskBuilding_3', 'Garage_26', 'Building_200', 'TaskBuilding_33', 'Building_199', 'Building_143', 'Building_110', 'TaskBuilding_55', 'Building_206', 'Building_226', 'Garage_86', 'Building_184', 'Building_152', 'Building_68', 'TaskBuilding_31', 'Building_236', 'Building_113', 'Building_60', 'Building_181']\n"
     ]
    }
   ],
   "source": [
    "# Filter buildings\n",
    "exclude_parts = [] # [\"garage\"]\n",
    "filtered_names = []\n",
    "for elem in all_building_names:\n",
    "    for exclude in exclude_parts:\n",
    "        if exclude in elem.lower():\n",
    "            filtered_names.append(elem)\n",
    "filtered_names = list(set(all_building_names) - set(filtered_names))\n",
    "print(\"Filtered names (\" + str(len(filtered_names)) + \"): \\n\", filtered_names)"
   ]
  },
  {
   "cell_type": "code",
   "execution_count": 6,
   "id": "30c0ef31",
   "metadata": {},
   "outputs": [
    {
     "name": "stdout",
     "output_type": "stream",
     "text": [
      "Renamed buildings (247): \n",
      "['TaskBuilding_54', 'Building_92', 'TaskBuilding_44', 'Building_89', 'Building_140', 'TaskBuilding_41', 'Building_214', 'Building_62', 'Building_179', 'Building_136', 'Building_101', 'Building_131', 'Building_156', 'Building_151', 'TaskBuilding_36', 'Building_95', 'Building_160', 'Building_127', 'Building_132', 'TaskBuilding_19', 'Building_172', 'TaskBuilding_18', 'Building_176', 'Building_163', 'Building_119', 'Building_170', 'Building_204', 'TaskBuilding_39', 'Building_171', 'Building_159', 'Building_103', 'Building_187', 'TaskBuilding_7', 'TaskBuilding_46', 'TaskBuilding_28', 'Building_58', 'Building_169', 'Building_185', 'Building_88', 'Building_94', 'Building_230', 'TaskBuilding_17', 'Building_71', 'TaskBuilding_24', 'Building_198', 'Building_72', 'TaskBuilding_14', 'Building_126', 'Building_202', 'Building_105', 'Building_83', 'Building_227', 'Building_108', 'Building_224', 'Building_168', 'Building_216', 'Building_180', 'Building_76', 'TaskBuilding_5', 'Building_57', 'Building_162', 'Building_65', 'TaskBuilding_1', 'TaskBuilding_52', 'Building_211', 'Building_212', 'Building_164', 'Building_210', 'Church-TaskBuilding_16', 'Building_146', 'Building_222', 'Building_107', 'Building_191', 'Building_106', 'Building_111', 'TaskBuilding_6', 'Building_71', 'Building_118', 'Building_59', 'Building_100', 'Building_102', 'Building_161', 'TaskBuilding_25', 'Building_215', 'Building_166', 'TaskBuilding_45', 'Building_208', 'Building_144', 'Building_70', 'TaskBuilding_37', 'TaskBuilding_40', 'Building_114', 'Building_112', 'Building_79', 'Building_61', 'Building_90', 'Building_130', 'TaskBuilding_30', 'Building_63', 'Building_72', 'Building_123', 'Building_109', 'Building_139', 'Building_194', 'TaskBuilding_22', 'Building_82', 'Building_69', 'Building_135', 'Building_120', 'Building_74', 'Building_174', 'Building_66', 'Building_207', 'Building_201', 'Building_149', 'Building_218', 'Building_133', 'Building_85', 'TaskBuilding_23', 'Building_155', 'Building_93', 'Building_188', 'Building_175', 'TaskBuilding_51', 'Building_124', 'Building_186', 'Building_75', 'TaskBuilding_13', 'Building_148', 'Building_234', 'Building_142', 'Building_209', 'Building_97', 'Building_221', 'Building_196', 'Building_87', 'Building_141', 'Building_197', 'TaskBuilding_8', 'Building_147', 'Building_153', 'Building_219', 'Building_157', 'Building_229', 'TaskBuilding_20', 'TaskBuilding_9', 'TaskBuilding_15', 'Building_190', 'Building_192', 'Building_98', 'Building_81', 'Building_122', 'TaskBuilding_29', 'Building_232', 'TaskBuilding_11', 'TaskBuilding_21', 'Building_167', 'TaskBuilding_32', 'Building_205', 'Building_137', 'Building_225', 'Building_86', 'Building_129', 'Building_195', 'Building_84', 'TaskBuilding_2', 'Building_235', 'Building_73', 'Building_158', 'TaskBuilding_27', 'Building_145', 'Building_154', 'Building_228', 'Building_67', 'Building_224', 'Building_165', 'Building_235', 'Building_173', 'Building_116', 'TaskBuilding_47', 'TaskBuilding_46', 'Building_104', 'Building_217', 'Building_189', 'Building_98', 'Building_182', 'Building_138', 'Building_177', 'Building_96', 'Building_80', 'HighSilo-TaskBuilding_49', 'Building_91', 'Building_185', 'TaskBuilding_4', 'Building_223', 'TaskBuilding_34', 'Building_117', 'Building_178', 'Building_77', 'Building_231', 'Building_213', 'Building_64', 'TaskBuilding_26', 'TaskBuilding_53', 'Building_128', 'Building_99', 'Building_115', 'Building_193', 'TaskBuilding_48', 'Building_134', 'TaskBuilding_12', 'Building_233', 'Building_78', 'Windmill-TaskBuilding_10_1', 'Building_183', 'Building_203', 'House_49', 'Building_121', 'Building_125', 'TaskBuilding_35', 'Castle-TaskBuilding_56', 'TaskBuilding_50', 'Building_220', 'TaskBuilding_42', 'TaskBuilding_38', 'TaskBuilding_43', 'Building_150', 'House_10', 'TaskBuilding_3', 'TaskBuilding_26', 'Building_200', 'TaskBuilding_33', 'Building_199', 'Building_143', 'Building_110', 'TaskBuilding_55', 'Building_206', 'Building_226', 'Building_86', 'Building_184', 'Building_152', 'Building_68', 'TaskBuilding_31', 'Building_236', 'Building_113', 'Building_60', 'Building_181']\n"
     ]
    }
   ],
   "source": [
    "# rename buildings\n",
    "rename_dict = {'Garage_235':'Building_235', 'Garage_224':'Building_224', 'Garage_185':'Building_185', \\\n",
    "                'Garage_71':'Building_71', 'Garage_86':'Building_86', 'Garage_98':'Building_98', \\\n",
    "                'Garage_26':'TaskBuilding_26', 'Garage_46':'TaskBuilding_46', 'Garage_72':'Building_72'}\n",
    "\n",
    "renamed_buildings = []\n",
    "for elem in filtered_names:\n",
    "    if elem in [*rename_dict]:\n",
    "        renamed_buildings.append(rename_dict[elem])\n",
    "    else:\n",
    "        renamed_buildings.append(elem)\n",
    "print(\"Renamed buildings (\" + str(len(renamed_buildings)) + \"): \\n\" + str(renamed_buildings))       \n",
    "\n"
   ]
  },
  {
   "cell_type": "code",
   "execution_count": 7,
   "id": "8bf20b5b",
   "metadata": {},
   "outputs": [],
   "source": [
    "# save data\n",
    "renamed_buildings.sort()\n",
    "save_to_disk(renamed_buildings,\"./building_names.pickle\")"
   ]
  },
  {
   "cell_type": "code",
   "execution_count": null,
   "id": "9e06656c",
   "metadata": {},
   "outputs": [],
   "source": []
  },
  {
   "cell_type": "markdown",
   "id": "3ec3394e",
   "metadata": {},
   "source": [
    "### Building locations"
   ]
  },
  {
   "cell_type": "code",
   "execution_count": 10,
   "id": "6a02f73d",
   "metadata": {},
   "outputs": [
    {
     "name": "stdout",
     "output_type": "stream",
     "text": [
      "Calculating Perspective Transform...\n"
     ]
    },
    {
     "name": "stderr",
     "output_type": "stream",
     "text": [
      "100%|██████████| 284/284 [00:00<00:00, 5184.35it/s]\n"
     ]
    },
    {
     "data": {
      "text/plain": [
       "'\\n# Group by BuildingName \\nbuilding_cnt = building_df.groupby(\"BuildingName\").count()\\n\\nprint(\"Buildings of the same name with multiple different positions:\")\\nprint(building_cnt.loc[building_cnt[\"BuildingID\"] != 1][\"BuildingID\"])\\nprint()\\n\\n# Extract unique positions (take first, and ignore others)\\nbuildings_unique = building_df.drop_duplicates(subset=\"BuildingName\",keep=\"first\")\\nprint(\"Number of unique building names: \" + str(len(buildings_unique)))\\n'"
      ]
     },
     "execution_count": 10,
     "metadata": {},
     "output_type": "execute_result"
    }
   ],
   "source": [
    "# Read all buildings\n",
    "building_df = read_normalized_json_to_df(json_path)\n",
    "\n",
    "# Load transformation info \n",
    "transform_infos = load_from_disk(\"./map_image_transform_infos.pickle\")\n",
    "transform_matrix = transform_infos[\"perspective_transform_matrix\"]\n",
    "image_size = transform_infos[\"image_size\"]\n",
    "\n",
    "# Apply transformation \n",
    "building_df = TransformHelper.apply_perspective_transform_matrix(transform_matrix,img_size=image_size,dataframe=building_df,df_x_name=\"BuildingPosition.x\",df_y_name=\"BuildingPosition.z\",transform_x_name=\"transformed_buildingposition_x\",transform_y_name=\"transformed_buildingposition_y\")\n",
    "\n",
    "# Save to disk (non-unique)\n",
    "save_to_disk(building_df, \"./buildings_nonunique_positions.pickle\")\n",
    "\n",
    "\n",
    "'''\n",
    "# Group by BuildingName \n",
    "building_cnt = building_df.groupby(\"BuildingName\").count()\n",
    "\n",
    "print(\"Buildings of the same name with multiple different positions:\")\n",
    "print(building_cnt.loc[building_cnt[\"BuildingID\"] != 1][\"BuildingID\"])\n",
    "print()\n",
    "\n",
    "# Extract unique positions (take first, and ignore others)\n",
    "buildings_unique = building_df.drop_duplicates(subset=\"BuildingName\",keep=\"first\")\n",
    "print(\"Number of unique building names: \" + str(len(buildings_unique)))\n",
    "'''\n",
    "\n",
    "\n"
   ]
  },
  {
   "cell_type": "code",
   "execution_count": null,
   "id": "2a7bfe52",
   "metadata": {},
   "outputs": [],
   "source": []
  }
 ],
 "metadata": {
  "kernelspec": {
   "display_name": "Python 3",
   "language": "python",
   "name": "python3"
  },
  "language_info": {
   "codemirror_mode": {
    "name": "ipython",
    "version": 3
   },
   "file_extension": ".py",
   "mimetype": "text/x-python",
   "name": "python",
   "nbconvert_exporter": "python",
   "pygments_lexer": "ipython3",
   "version": "3.6.13"
  }
 },
 "nbformat": 4,
 "nbformat_minor": 5
}
