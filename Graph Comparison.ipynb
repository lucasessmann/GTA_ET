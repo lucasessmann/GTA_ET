{
 "cells": [
  {
   "cell_type": "markdown",
   "metadata": {},
   "source": [
    "# Graph Comparison Script\n",
    "This script aims to compare the exploration graphs with the path graphs.\n",
    "\n",
    "Requirements: \n",
    "   * Exploration \n",
    "       * Centrality_df\n",
    "       * RichClubDoc\n",
    "   * Pathfinding (Single, SingleC, Dyadic)\n",
    "       * Centrality_df of all paths and combined. \n",
    "       \n",
    "   "
   ]
  },
  {
   "cell_type": "markdown",
   "metadata": {},
   "source": [
    "## Creating the required environment (skip if already done)\n",
    "\n",
    "Running the following cell will create a file graphs.yml that can be used to setup a conda environment containing the required packages. If you already downloaded the file from my GitHub, skip the next cell and create the env directly from it."
   ]
  },
  {
   "cell_type": "code",
   "execution_count": null,
   "metadata": {},
   "outputs": [],
   "source": [
    "%%writefile graphs.yml\n",
    "name: graphs\n",
    "channels:\n",
    "  - conda-forge\n",
    "  - defaults\n",
    "dependencies:\n",
    "  - python=3.6\n",
    "  - jupyter\n",
    "  - imageio\n",
    "  - imageio-ffmpeg\n",
    "  - matplotlib\n",
    "  - scikit-image\n",
    "  - opencv\n",
    "  - networkx\n",
    "  - pandas\n",
    "  - statsmodels"
   ]
  },
  {
   "cell_type": "markdown",
   "metadata": {},
   "source": [
    "### Environment Creation\n",
    "To create the environment, open the terminal, go to the directory where you stored the graphs.yml file (the directory of the notebook) and type\n",
    "conda env create -f graphs.yml\n",
    "After running this command you have to activate the environment (Linux/MacOS: conda activate graphs, Windows: activate graphs) and then reopen the notebook in that environment."
   ]
  },
  {
   "cell_type": "code",
   "execution_count": 15,
   "metadata": {},
   "outputs": [],
   "source": [
    "import os\n",
    "import cv2\n",
    "import json\n",
    "import numpy as np\n",
    "import re\n",
    "import matplotlib.pyplot as plt\n",
    "import pandas as pd\n",
    "import networkx as nx\n",
    "import glob\n",
    "import scipy.cluster.vq as clusters\n",
    "import scipy.sparse as sparse\n",
    "import warnings\n",
    "import random_graph\n",
    "warnings.simplefilter(action='ignore', category=FutureWarning)\n",
    "\n",
    "from scipy.special import binom as nchoosek\n",
    "from sklearn.preprocessing import normalize\n",
    "from pandas.plotting import autocorrelation_plot as AC_plot \n",
    "from statsmodels.graphics import tsaplots\n",
    "from statsmodels.tsa.stattools import acf\n",
    "from skimage.filters import gaussian\n",
    "from mpl_toolkits.mplot3d import Axes3D \n",
    "from matplotlib.colors import LinearSegmentedColormap\n",
    "from mpl_toolkits.axes_grid1 import make_axes_locatable, axes_size\n",
    "from matplotlib import gridspec\n",
    "\n",
    "\n",
    "OG_DATA_PATH  = './'\n",
    "GIT_DATA_PATH = './Results/'\n",
    "GIT_GRAPH_PATH   = './Results/Graphs/'\n",
    "GIT_SINGLE_PATH  = './Results/Single/Graphs/'\n",
    "GIT_SINGLEC_PATH = './Results/SingleC/Graphs/'\n",
    "GIT_DYADIC_PATH  = './Results/Dyadic/Graphs/'\n",
    "RESSOURCES_PATH  = './Ressources/'\n",
    "GIT_PROCESSED_DATA_PATH = './Results/Comparison/'\n",
    "\n",
    "# Getting the Folder without hidden files in ascending order \n",
    "GIT_DATA_FOLDER = sorted([f for f in os.listdir(GIT_DATA_PATH) if not f.startswith('.')], key=str.lower)\n",
    "GIT_PROCESSED_DATA_FOLDER = sorted([f for f in os.listdir(GIT_PROCESSED_DATA_PATH) if not f.startswith('.')], key=str.lower)\n",
    "GIT_GRAPH_FOLDER = sorted([f for f in os.listdir(GIT_GRAPH_PATH) if not f.startswith('.')], key=str.lower)\n",
    "GIT_SINGLE_FOLDER = sorted([f for f in os.listdir(GIT_SINGLE_PATH) if not f.startswith('.')], key=str.lower)\n",
    "GIT_SINGLEC_FOLDER = sorted([f for f in os.listdir(GIT_SINGLEC_PATH) if not f.startswith('.')], key=str.lower)\n",
    "GIT_DYADIC_FOLDER = sorted([f for f in os.listdir(GIT_DYADIC_PATH) if not f.startswith('.')], key=str.lower)\n",
    "\n",
    "#houselist \n",
    "house_file = RESSOURCES_PATH + 'building_collider_list.csv'\n",
    "try:\n",
    "    houselist = pd.read_csv(house_file)\n",
    "except:\n",
    "    print('HouseList could not be loaded!')\n",
    "    \n",
    "    \n",
    "fontsize = 20\n",
    "\n",
    "green = [0.40,0.80,0.42]\n",
    "blue = [0.27,0.38,0.99]\n",
    "grey = [0.75,0.75,0.75]\n"
   ]
  },
  {
   "cell_type": "code",
   "execution_count": 16,
   "metadata": {},
   "outputs": [
    {
     "name": "stdout",
     "output_type": "stream",
     "text": [
      "[1005 1008 1010 1011 1013 1017 1021 1023]\n"
     ]
    }
   ],
   "source": [
    "subIDs = []\n",
    "for sub in GIT_DATA_FOLDER:\n",
    "    if sub[0].isdigit():\n",
    "        subIDs.append(int(sub[0:4]))\n",
    "    else:\n",
    "        pass\n",
    "subIDs = np.unique(subIDs)\n",
    "print(subIDs)"
   ]
  },
  {
   "cell_type": "code",
   "execution_count": 18,
   "metadata": {},
   "outputs": [],
   "source": [
    "# custom subID \n",
    "subIDs = [1008]"
   ]
  },
  {
   "cell_type": "code",
   "execution_count": 10,
   "metadata": {},
   "outputs": [
    {
     "name": "stdout",
     "output_type": "stream",
     "text": [
      "A1\n",
      "A2\n",
      "A3\n",
      "A4\n",
      "A5\n",
      "A6\n",
      "A7\n",
      "A8\n",
      "A9\n",
      "B1\n",
      "B2\n",
      "B3\n",
      "B4\n",
      "B5\n",
      "B6\n",
      "B7\n",
      "B8\n",
      "B9\n"
     ]
    }
   ],
   "source": [
    "# stuff\n",
    "path_num = 9\n",
    "\n",
    "\n",
    "# load the data \n",
    "\n",
    "# exploration\n",
    "# open the exploration centrality csv file as dictionary\n",
    "with open(GIT_GRAPH_PATH + 'centrality_df.csv') as f:\n",
    "    try:\n",
    "        centrality_df = pd.read_csv(f)\n",
    "    except:\n",
    "            print(\"\\tCould not load centrality_df!\")\n",
    "            \n",
    "# pathfinding \n",
    "# open the pathfinding centrality csv files as dictionary\n",
    "with open(GIT_GRAPH_PATH + 'A_all_centrality_df.csv') as f:\n",
    "    try:\n",
    "        all_paths_A_centrality_df = pd.read_csv(f)\n",
    "    except:\n",
    "            print(\"\\tCould not load centrality_df!\")           \n",
    "            \n",
    "with open(GIT_GRAPH_PATH + 'B_all_centrality_df.csv') as f:\n",
    "    try:\n",
    "        all_paths_B_centrality_df = pd.read_csv(f)\n",
    "    except:\n",
    "            print(\"\\tCould not load centrality_df!\")\n",
    "            \n",
    "# three for loops\n",
    "# 1. for the condition (A or B)\n",
    "    # 2. for the path\n",
    "# 3. for the subject\n",
    "\n",
    "for condition in ['A', 'B']:\n",
    "\n",
    "    for path in range(1,path_num+1):\n",
    "        print(condition + str(path))\n",
    "        \n",
    "        with open(GIT_SINGLE_PATH + condition + '_' + str(path) + '_centrality_df.csv') as f:\n",
    "            try:\n",
    "                path_centrality = pd.read_csv(f)\n",
    "            except:\n",
    "                    print(\"\\tCould not load centrality_df!\")\n",
    "                    \n",
    "    for sub in subIDs:\n",
    "        "
   ]
  }
 ],
 "metadata": {
  "kernelspec": {
   "display_name": "Python 3",
   "language": "python",
   "name": "python3"
  },
  "language_info": {
   "codemirror_mode": {
    "name": "ipython",
    "version": 3
   },
   "file_extension": ".py",
   "mimetype": "text/x-python",
   "name": "python",
   "nbconvert_exporter": "python",
   "pygments_lexer": "ipython3",
   "version": "3.6.11"
  }
 },
 "nbformat": 4,
 "nbformat_minor": 4
}
