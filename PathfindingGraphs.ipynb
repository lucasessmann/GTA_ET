{
 "cells": [
  {
   "cell_type": "markdown",
   "metadata": {},
   "source": [
    "# PathFinding Graphs\n"
   ]
  },
  {
   "cell_type": "markdown",
   "metadata": {},
   "source": [
    "## Configuration"
   ]
  },
  {
   "cell_type": "code",
   "execution_count": 1,
   "metadata": {},
   "outputs": [],
   "source": [
    "# General configuration\n",
    "import os\n",
    "\n",
    "# data_directory: str\n",
    "#     Path to a directory to store data.\n",
    "data_directory = '.'\n",
    "\n",
    "# install_missing_packages: bool\n",
    "#     A flag indicating if missing packages should be automatically installed\n",
    "install_missing_packages = True\n",
    "\n",
    "# use_conda: bool\n",
    "#     A flag indicating if conda should be used for software installation.\n",
    "#     If False, pip will be used. The default is to use conda if jupyter\n",
    "#     is run in a conda environment.\n",
    "use_conda = 'CONDA_EXE' in os.environ"
   ]
  },
  {
   "cell_type": "markdown",
   "metadata": {},
   "source": [
    "## Checking for missing packages"
   ]
  },
  {
   "cell_type": "code",
   "execution_count": 2,
   "metadata": {},
   "outputs": [],
   "source": [
    "import importlib\n",
    "\n",
    "def check_package(package, pip_pkg: str = None, conda_pkg: str = None):\n",
    "    \"\"\"Check if a given package is installed. If missing install\n",
    "    it (if global flag `install_missing_packages` is True) either with\n",
    "    pip or with conda (depending on `use_conda`).\n",
    "    \"\"\"\n",
    "    if importlib.util.find_spec(package) is not None:\n",
    "        return  # ok, package is already installed\n",
    "\n",
    "    if not install_missing_packages:\n",
    "        raise RuntimeError(f\"{package} is not installed!\")\n",
    "\n",
    "    if use_conda:\n",
    "        import conda.cli\n",
    "        conda.cli.main('conda', 'install',  '-y', conda_pkg or package)\n",
    "    else:\n",
    "        import subprocess\n",
    "        import sys            \n",
    "        subprocess.check_call([sys.executable, '-m', 'pip', 'install', pip_pkg or package])\n",
    "        \n",
    "# This is to exit cells without error tracebacks (cosmetic purpose)\n",
    "class StopExecution(Exception):\n",
    "    def _render_traceback_(self):\n",
    "        pass"
   ]
  },
  {
   "cell_type": "markdown",
   "metadata": {},
   "source": [
    "## Creating the required environment (skip if already done)\n",
    "\n",
    "Running the following cell will create a file graphs.yml that can be used to setup a conda environment containing the required packages. If you already downloaded the file from my GitHub, skip the next cell and create the env directly from it."
   ]
  },
  {
   "cell_type": "code",
   "execution_count": 3,
   "metadata": {},
   "outputs": [
    {
     "name": "stdout",
     "output_type": "stream",
     "text": [
      "Writing graphs.yml\n"
     ]
    }
   ],
   "source": [
    "%%writefile graphs.yml\n",
    "name: graphs\n",
    "channels:\n",
    "  - conda-forge\n",
    "  - defaults\n",
    "dependencies:\n",
    "  - python=3.6\n",
    "  - jupyter\n",
    "  - imageio\n",
    "  - imageio-ffmpeg\n",
    "  - matplotlib\n",
    "  - scikit-image\n",
    "  - opencv\n",
    "  - networkx\n",
    "  - pandas\n",
    "  - statsmodels"
   ]
  },
  {
   "cell_type": "markdown",
   "metadata": {},
   "source": [
    "### Environment Creation\n",
    "To create the environment, open the terminal, go to the directory where you stored the graphs.yml file (the directory of the notebook) and type\n",
    "conda env create -f graphs.yml\n",
    "After running this command you have to activate the environment (Linux/MacOS: conda activate graphs, Windows: activate graphs) and then reopen the notebook in that environment."
   ]
  },
  {
   "cell_type": "markdown",
   "metadata": {},
   "source": [
    "## Main Part"
   ]
  },
  {
   "cell_type": "markdown",
   "metadata": {},
   "source": [
    "### Imports and directory information"
   ]
  },
  {
   "cell_type": "code",
   "execution_count": 1,
   "metadata": {},
   "outputs": [],
   "source": [
    "import os\n",
    "import cv2\n",
    "import json\n",
    "import numpy as np\n",
    "import re\n",
    "import matplotlib.pyplot as plt\n",
    "import pandas as pd\n",
    "import networkx as nx\n",
    "import glob\n",
    "import scipy.cluster.vq as clusters\n",
    "import warnings\n",
    "warnings.simplefilter(action='ignore', category=FutureWarning)\n",
    "\n",
    "#from sklearn.preprocessing import normalize\n",
    "from pandas.plotting import autocorrelation_plot as AC_plot \n",
    "from statsmodels.graphics import tsaplots\n",
    "from statsmodels.tsa.stattools import acf\n",
    "from skimage.filters import gaussian\n",
    "from mpl_toolkits.mplot3d import Axes3D \n",
    "from matplotlib.colors import LinearSegmentedColormap\n",
    "import time"
   ]
  },
  {
   "cell_type": "code",
   "execution_count": 22,
   "metadata": {},
   "outputs": [
    {
     "name": "stdout",
     "output_type": "stream",
     "text": [
      "[1004 1005 1008 1011 1013 1017 1018 1021 1022 1023 1054 1055 1057 1058\n",
      " 1069 1074]\n"
     ]
    }
   ],
   "source": [
    "OG_DATA_PATH = './'\n",
    "\n",
    "condition = 'Dyadic' # Single, Dyadic, SingleC\n",
    "DATA_PATH = './Data {}/'.format(condition)\n",
    "LAB_DATA_PATH = \"D:/StefanSpaRe/DataBackUp/seahavenlab/\"\n",
    "LAB_DATA_PATH += condition.lower() + '/';\n",
    "#DATA_PATH = LAB_DATA_PATH # Comment out when not in lab\n",
    "\n",
    "# print(LAB_DATA_PATH);\n",
    "RESSOURCES_PATH = './Ressources/'\n",
    "#houselist \n",
    "house_file = RESSOURCES_PATH + 'building_collider_list.csv'\n",
    "try:\n",
    "    houselist = pd.read_csv(house_file)\n",
    "except:\n",
    "    print('HouseList could not be loaded!')\n",
    "\n",
    "PROCESSED_DATA_PATH = './Results/' + condition + '/'\n",
    "PROCESSED_DATA_FOLDER = sorted([f for f in os.listdir(PROCESSED_DATA_PATH) if not f.startswith('.')], key=str.lower)\n",
    "\n",
    "PROCESSED_GRAPH_PATH = './Results/' + condition + '/Graphs/'\n",
    "PROCESSED_GRAPH_FOLDER = sorted([f for f in os.listdir(PROCESSED_GRAPH_PATH) if not f.startswith('.')], key=str.lower)\n",
    "\n",
    "# Extracting all subject IDs from the data folder\n",
    "# Getting the Folder without hidden files in ascending order \n",
    "DATA_FOLDER = sorted([f for f in os.listdir(DATA_PATH) if not f.startswith('.')], key=str.lower)\n",
    "\n",
    "subIDs = []\n",
    "for sub in DATA_FOLDER:\n",
    "    if sub[0].isdigit():\n",
    "        subIDs.append(int(sub[0:4]))\n",
    "    else:\n",
    "        pass\n",
    "subIDs = np.unique(subIDs)\n",
    "\n",
    "#subIDs = subIDs[:3]\n",
    "#subIDs = [1023] # remove to do for all subIDs\n",
    "print(subIDs)"
   ]
  },
  {
   "cell_type": "code",
   "execution_count": 28,
   "metadata": {},
   "outputs": [
    {
     "data": {
      "text/plain": [
       "['1010_interpolation_df.csv',\n",
       " '1010_SingleCPathfinding_Final.json',\n",
       " '1019_interpolation_df.csv',\n",
       " '1019_SingleCPathfinding_Final.json',\n",
       " '1056_interpolation_df.csv',\n",
       " '1056_SingleCPathfinding_Final.json',\n",
       " '1068_interpolation_df.csv',\n",
       " '1068_SingleCPathfinding_Final.json',\n",
       " '1072_interpolation_df.csv',\n",
       " '1072_SingleCPathfinding_Final.json',\n",
       " '1073_interpolation_df.csv',\n",
       " '1073_SingleCPathfinding_Final.json',\n",
       " '1075_interpolation_df.csv',\n",
       " '1075_SingleCPathfinding_Final.json',\n",
       " '1077_interpolation_df.csv',\n",
       " '1077_SingleCPathfinding_Final.json',\n",
       " '1079_interpolation_df.csv',\n",
       " '1079_SingleCPathfinding_Final.json',\n",
       " '1080_interpolation_df.csv',\n",
       " '1080_SingleCPathfinding_Final.json',\n",
       " 'A_Path_Stats.csv',\n",
       " 'B_Path_Stats.csv',\n",
       " 'Graphs',\n",
       " 'SingleC_Performance_Analysis.csv',\n",
       " 'Subject_Data.csv']"
      ]
     },
     "execution_count": 28,
     "metadata": {},
     "output_type": "execute_result"
    }
   ],
   "source": [
    "PROCESSED_DATA_FOLDER"
   ]
  },
  {
   "cell_type": "code",
   "execution_count": 5,
   "metadata": {},
   "outputs": [],
   "source": [
    "dests_A = [\"Windmill-TaskBuilding_10_1\", \"TaskBuilding_41\", \"TaskBuilding_39\", \"TaskBuilding_7\", \\\n",
    "          \"Building_186\", \"TaskBuilding_29\", \"TaskBuilding_1\", \"TaskBuilding_9\", \"TaskBuilding_4\", \\\n",
    "          \"TaskBuilding_53\"]\n",
    "dests_B = dests_A.copy()\n",
    "dests_B.reverse()\n"
   ]
  },
  {
   "cell_type": "markdown",
   "metadata": {},
   "source": [
    "## Filtering Subject IDs per condition\n",
    "\n",
    "Graphs to be created:\n",
    "\n",
    "* Conditions: Single, SingleC (26 + 10 subjects)\n",
    "    * 1 per sub - Total graph for each subject <b>(DONE)</b>\n",
    "    * 9 per sub - Graph for each path for each subject (along with indication of failure and success) <b>(DONE)</b>\n",
    "    * 1 per condition - Average total graphs for A <b>(DONE)</b>\n",
    "    * 1 per condition - Average total graphs for B <b>(DONE)</b>\n",
    "    * 9 per condition - Average graphs for each path in both A & B\n",
    "    * 9 per condition - Average graphs for each path in A <b>(DONE)</b>\n",
    "    * 9 per condition - Average graphs for each path in B <b>(DONE)</b>\n",
    "    * 9 per condition - Average graphs for each path in A (only successes) <b>(DONE)</b>\n",
    "    * 9 per condition - Average graphs for each path in B (only successes) <b>(DONE)</b>\n",
    "    \n",
    "\n",
    "* Conditions: Dyadic Follower, Dyadic Leader (8 + 8 subjects)\n",
    "    * 1 per sub - Total graph for each subject (along with indication of follower or leader) <b>(DONE)</b>\n",
    "    * 9 per sub - Graph for each path for each subject (along with indication of failure and success) <b>(DONE*)</b>\n",
    "    * 1 per condition - Average total graphs for A <b>(DONE)</b>\n",
    "    * 1 per condition - Average total graphs for B <b>(DONE)</b>\n",
    "    * 9 per condition - Average graphs for each path in both A & B\n",
    "    * 9 per condition - Average graphs for each path in A <b>(DONE**)</b>\n",
    "    * 9 per condition - Average graphs for each path in B <b>(DONE***)</b>\n",
    "    * 9 per condition - Average graphs for each path in A (only successes) <b>(DONE**)</b>\n",
    "    * 9 per condition - Average graphs for each path in B (only successes) <b>(DONE***)</b>\n",
    "    \n",
    "<b>Total number of graphs created:</b> (26+10+8+8) * (1+9) + 4 * (1+1+9+9+9+9+9) = <b>708</b>\n",
    "\n",
    "\n",
    "<b>\\*</b> <i>Except for Path 1 - 1017, 1057, 1058, Path 3 - 1013, 1022, 1055, 1069 </i>\n",
    "\n",
    "<b>\\**</b> <i>Except for Path 1</i>\n",
    "\n",
    "<b>\\***</b> <i>Except for Path 3</i>"
   ]
  },
  {
   "cell_type": "markdown",
   "metadata": {},
   "source": [
    "## Individual Subject Graphs\n"
   ]
  },
  {
   "cell_type": "code",
   "execution_count": 23,
   "metadata": {},
   "outputs": [],
   "source": [
    "subject_performance = pd.read_csv(PROCESSED_DATA_PATH + condition + '_Performance_Analysis.csv')\n",
    "\n",
    "direction = \"A\" # A or B\n",
    "role = \"F\" # L or F\n",
    "pathnum = \"all\" # all, or 1-9\n",
    "successes = []\n",
    "\n",
    "dests = dests_A if direction == \"A\" else dests_B\n",
    "if direction != \"all\": reduced = subject_performance[subject_performance.Condition == direction];\n",
    "else: reduced = subject_performance\n",
    "    \n",
    "if condition == \"Dyadic\": \n",
    "    check = True if role == \"L\" else False\n",
    "    reduced = reduced[reduced[\"Leader?\"] == check];\n",
    "    \n",
    "subIDs = list(reduced.SubjectID)\n",
    "if pathnum != \"all\": successes = list(reduced[\"P\"+pathnum+\":Success\"])\n"
   ]
  },
  {
   "cell_type": "code",
   "execution_count": 40,
   "metadata": {},
   "outputs": [
    {
     "name": "stdout",
     "output_type": "stream",
     "text": [
      "Starting: Dyadic, A, all, F\n",
      "Subject 1004 started - 1/4\n",
      "\tNo node Hand found!\n",
      "\tNo node Phone found!\n",
      "\tMean/Std Degree: 0.12/0.37\n",
      "\tMaxmimum Degree of 2.00 is 5.12 sigma away from the mean\n",
      "\tEdge list saved\n",
      "\tGraph PNG saved\n",
      "Subject 1017 started - 2/4\n",
      "\tNo node Hand found!\n",
      "\tNo node Phone found!\n",
      "\tMean/Std Degree: 0.39/0.61\n",
      "\tMaxmimum Degree of 2.00 is 2.65 sigma away from the mean\n",
      "\tEdge list saved\n",
      "\tGraph PNG saved\n",
      "Subject 1057 started - 3/4\n",
      "\tNo node Phone found!\n",
      "\tMean/Std Degree: 1.31/1.30\n",
      "\tMaxmimum Degree of 6.00 is 3.60 sigma away from the mean\n",
      "\tEdge list saved\n",
      "\tGraph PNG saved\n",
      "Subject 1058 started - 4/4\n",
      "\tNo node Hand found!\n",
      "\tNo node Phone found!\n",
      "\tMean/Std Degree: 1.75/1.69\n",
      "\tMaxmimum Degree of 8.00 is 3.70 sigma away from the mean\n",
      "\tEdge list saved\n",
      "\tGraph PNG saved\n",
      "\tCentrality Dataframe saved\n",
      "Done\n"
     ]
    }
   ],
   "source": [
    "create_graphs(subIDs, direction, pathnum, role, successes, dests)"
   ]
  },
  {
   "cell_type": "code",
   "execution_count": 41,
   "metadata": {
    "scrolled": true
   },
   "outputs": [
    {
     "name": "stdout",
     "output_type": "stream",
     "text": [
      "Starting: Dyadic, A, 1, L\n",
      "Subject 1008 started - 1/4\n",
      "\tNo node NoHit found!\n",
      "\tNo node Hand found!\n",
      "\tMean/Std Degree: 0.55/0.58\n",
      "\tMaxmimum Degree of 2.00 is 2.50 sigma away from the mean\n",
      "\tEdge list saved\n",
      "\tGraph PNG saved\n",
      "Subject 1011 started - 2/4\n",
      "\tNo node Hand found!\n",
      "\tMean/Std Degree: 1.68/1.69\n",
      "\tMaxmimum Degree of 7.00 is 3.15 sigma away from the mean\n",
      "\tEdge list saved\n",
      "\tGraph PNG saved\n",
      "Subject 1018 started - 3/4\n",
      "\tNo node NoHit found!\n",
      "\tNo node Hand found!\n",
      "\tNo node Avatar found!\n",
      "\tMean/Std Degree: 2.24/1.35\n",
      "\tMaxmimum Degree of 6.00 is 2.78 sigma away from the mean\n",
      "\tEdge list saved\n",
      "\tGraph PNG saved\n",
      "Subject 1054 started - 4/4\n",
      "\tNo node NoHit found!\n",
      "\tNo node Hand found!\n",
      "\tMean/Std Degree: 1.05/0.92\n",
      "\tMaxmimum Degree of 3.00 is 2.13 sigma away from the mean\n",
      "\tEdge list saved\n",
      "\tGraph PNG saved\n",
      "\tCentrality Dataframe saved\n",
      "Done\n",
      "Starting: Dyadic, A, 2, L\n",
      "Subject 1008 started - 1/4\n",
      "\tNo node NoHit found!\n",
      "\tNo node Hand found!\n",
      "\tMean/Std Degree: 0.69/0.78\n",
      "\tMaxmimum Degree of 2.00 is 1.68 sigma away from the mean\n",
      "\tEdge list saved\n",
      "\tGraph PNG saved\n",
      "Subject 1011 started - 2/4\n",
      "\tNo node NoHit found!\n",
      "\tNo node Hand found!\n",
      "\tNo node Avatar found!\n",
      "\tMean/Std Degree: 1.26/1.02\n",
      "\tMaxmimum Degree of 4.00 is 2.69 sigma away from the mean\n",
      "\tEdge list saved\n",
      "\tGraph PNG saved\n",
      "Subject 1018 started - 3/4\n",
      "\tNo node Hand found!\n",
      "\tMean/Std Degree: 1.50/1.07\n",
      "\tMaxmimum Degree of 4.00 is 2.33 sigma away from the mean\n",
      "\tEdge list saved\n",
      "\tGraph PNG saved\n",
      "Subject 1054 started - 4/4\n",
      "\tNo node NoHit found!\n",
      "\tNo node Hand found!\n",
      "\tMean/Std Degree: 0.67/0.62\n",
      "\tMaxmimum Degree of 2.00 is 2.14 sigma away from the mean\n",
      "\tEdge list saved\n",
      "\tGraph PNG saved\n",
      "\tCentrality Dataframe saved\n",
      "Done\n",
      "Starting: Dyadic, A, 3, L\n",
      "Subject 1008 started - 1/4\n",
      "\tNo node Hand found!\n",
      "\tMean/Std Degree: 0.80/0.60\n",
      "\tMaxmimum Degree of 2.00 is 2.00 sigma away from the mean\n",
      "\tEdge list saved\n",
      "\tGraph PNG saved\n",
      "Subject 1011 started - 2/4\n",
      "\tNo node NoHit found!\n",
      "\tNo node Hand found!\n",
      "\tNo node Avatar found!\n",
      "\tMean/Std Degree: 0.89/0.87\n",
      "\tMaxmimum Degree of 2.00 is 1.27 sigma away from the mean\n",
      "\tEdge list saved\n",
      "\tGraph PNG saved\n",
      "Subject 1018 started - 3/4\n",
      "\tNo node Hand found!\n",
      "\tNo node Avatar found!\n",
      "\tMean/Std Degree: 0.91/1.00\n",
      "\tMaxmimum Degree of 3.00 is 2.10 sigma away from the mean\n",
      "\tEdge list saved\n",
      "\tGraph PNG saved\n",
      "Subject 1054 started - 4/4\n",
      "\tNo node NoHit found!\n",
      "\tNo node Hand found!\n",
      "\tMean/Std Degree: 1.64/1.33\n",
      "\tMaxmimum Degree of 5.00 is 2.52 sigma away from the mean\n",
      "\tEdge list saved\n",
      "\tGraph PNG saved\n",
      "\tCentrality Dataframe saved\n",
      "Done\n",
      "Starting: Dyadic, A, 4, L\n",
      "Subject 1008 started - 1/4\n",
      "\tNo node NoHit found!\n",
      "\tNo node Hand found!\n",
      "\tMean/Std Degree: 1.14/0.99\n",
      "\tMaxmimum Degree of 4.00 is 2.89 sigma away from the mean\n",
      "\tEdge list saved\n",
      "\tGraph PNG saved\n",
      "Subject 1011 started - 2/4\n",
      "\tNo node Hand found!\n",
      "\tMean/Std Degree: 1.88/1.45\n",
      "\tMaxmimum Degree of 6.00 is 2.84 sigma away from the mean\n",
      "\tEdge list saved\n",
      "\tGraph PNG saved\n",
      "Subject 1018 started - 3/4\n",
      "\tNo node NoHit found!\n",
      "\tNo node Hand found!\n",
      "\tNo node Avatar found!\n",
      "\tMean/Std Degree: 2.24/1.76\n",
      "\tMaxmimum Degree of 7.00 is 2.71 sigma away from the mean\n",
      "\tEdge list saved\n",
      "\tGraph PNG saved\n",
      "Subject 1054 started - 4/4\n",
      "\tNo node NoHit found!\n",
      "\tMean/Std Degree: 2.02/1.58\n",
      "\tMaxmimum Degree of 9.00 is 4.41 sigma away from the mean\n",
      "\tEdge list saved\n",
      "\tGraph PNG saved\n",
      "\tCentrality Dataframe saved\n",
      "Done\n",
      "Starting: Dyadic, A, 5, L\n",
      "Subject 1008 started - 1/4\n",
      "\tNo node NoHit found!\n",
      "\tNo node Hand found!\n",
      "\tMean/Std Degree: 0.62/0.78\n",
      "\tMaxmimum Degree of 2.00 is 1.76 sigma away from the mean\n",
      "\tEdge list saved\n",
      "\tGraph PNG saved\n",
      "Subject 1011 started - 2/4\n",
      "\tNo node NoHit found!\n",
      "\tNo node Hand found!\n",
      "\tNo node Avatar found!\n",
      "\tMean/Std Degree: 2.13/1.78\n",
      "\tMaxmimum Degree of 9.00 is 3.86 sigma away from the mean\n",
      "\tEdge list saved\n",
      "\tGraph PNG saved\n",
      "Subject 1018 started - 3/4\n",
      "\tNo node NoHit found!\n",
      "\tNo node Hand found!\n",
      "\tMean/Std Degree: 1.43/1.26\n",
      "\tMaxmimum Degree of 6.00 is 3.64 sigma away from the mean\n",
      "\tEdge list saved\n",
      "\tGraph PNG saved\n",
      "Subject 1054 started - 4/4\n",
      "\tNo node NoHit found!\n",
      "\tNo node Hand found!\n",
      "\tMean/Std Degree: 0.57/0.62\n",
      "\tMaxmimum Degree of 2.00 is 2.29 sigma away from the mean\n",
      "\tEdge list saved\n",
      "\tGraph PNG saved\n",
      "\tCentrality Dataframe saved\n",
      "Done\n",
      "Starting: Dyadic, A, 6, L\n",
      "Subject 1008 started - 1/4\n",
      "\tNo node Hand found!\n",
      "\tMean/Std Degree: 1.07/1.01\n",
      "\tMaxmimum Degree of 5.00 is 3.88 sigma away from the mean\n",
      "\tEdge list saved\n",
      "\tGraph PNG saved\n",
      "Subject 1011 started - 2/4\n",
      "\tNo node NoHit found!\n",
      "\tNo node Hand found!\n",
      "\tNo node Avatar found!\n",
      "\tMean/Std Degree: 1.33/0.90\n",
      "\tMaxmimum Degree of 3.00 is 1.86 sigma away from the mean\n",
      "\tEdge list saved\n",
      "\tGraph PNG saved\n",
      "Subject 1018 started - 3/4\n",
      "\tNo node Avatar found!\n",
      "\tMean/Std Degree: 1.41/0.91\n",
      "\tMaxmimum Degree of 4.00 is 2.84 sigma away from the mean\n",
      "\tEdge list saved\n",
      "\tGraph PNG saved\n",
      "Subject 1054 started - 4/4\n",
      "\tNo node NoHit found!\n",
      "\tMean/Std Degree: 1.31/0.97\n",
      "\tMaxmimum Degree of 4.00 is 2.78 sigma away from the mean\n",
      "\tEdge list saved\n",
      "\tGraph PNG saved\n",
      "\tCentrality Dataframe saved\n",
      "Done\n",
      "Starting: Dyadic, A, 7, L\n",
      "Subject 1008 started - 1/4\n",
      "\tNo node Hand found!\n",
      "\tMean/Std Degree: 0.73/0.75\n",
      "\tMaxmimum Degree of 2.00 is 1.70 sigma away from the mean\n",
      "\tEdge list saved\n",
      "\tGraph PNG saved\n",
      "Subject 1011 started - 2/4\n",
      "\tNo node NoHit found!\n",
      "\tNo node Hand found!\n",
      "\tNo node Avatar found!\n",
      "\tMean/Std Degree: 1.54/1.01\n",
      "\tMaxmimum Degree of 3.00 is 1.45 sigma away from the mean\n",
      "\tEdge list saved\n",
      "\tGraph PNG saved\n",
      "Subject 1018 started - 3/4\n",
      "\tNo node NoHit found!\n",
      "\tNo node Hand found!\n",
      "\tNo node Avatar found!\n",
      "\tMean/Std Degree: 1.40/1.28\n",
      "\tMaxmimum Degree of 4.00 is 2.03 sigma away from the mean\n",
      "\tEdge list saved\n",
      "\tGraph PNG saved\n",
      "Subject 1054 started - 4/4\n",
      "\tNo node NoHit found!\n",
      "\tNo node Hand found!\n",
      "\tNo node Avatar found!\n",
      "\tMean/Std Degree: 2.14/1.12\n",
      "\tMaxmimum Degree of 4.00 is 1.65 sigma away from the mean\n",
      "\tEdge list saved\n",
      "\tGraph PNG saved\n",
      "\tCentrality Dataframe saved\n",
      "Done\n",
      "Starting: Dyadic, A, 8, L\n",
      "Subject 1008 started - 1/4\n",
      "\tNo node Hand found!\n",
      "\tMean/Std Degree: 0.75/0.75\n",
      "\tMaxmimum Degree of 2.00 is 1.67 sigma away from the mean\n",
      "\tEdge list saved\n",
      "\tGraph PNG saved\n",
      "Subject 1011 started - 2/4\n",
      "\tNo node NoHit found!\n",
      "\tNo node Hand found!\n",
      "\tMean/Std Degree: 1.29/0.73\n",
      "\tMaxmimum Degree of 3.00 is 2.35 sigma away from the mean\n",
      "\tEdge list saved\n",
      "\tGraph PNG saved\n",
      "Subject 1018 started - 3/4\n",
      "\tNo node Hand found!\n",
      "\tMean/Std Degree: 2.00/1.53\n",
      "\tMaxmimum Degree of 8.00 is 3.92 sigma away from the mean\n",
      "\tEdge list saved\n",
      "\tGraph PNG saved\n",
      "Subject 1054 started - 4/4\n",
      "\tNo node NoHit found!\n",
      "\tNo node Hand found!\n",
      "\tMean/Std Degree: 0.38/0.48\n",
      "\tMaxmimum Degree of 1.00 is 1.29 sigma away from the mean\n",
      "\tEdge list saved\n",
      "\tGraph PNG saved\n",
      "\tCentrality Dataframe saved\n",
      "Done\n",
      "Starting: Dyadic, A, 9, L\n",
      "Subject 1008 started - 1/4\n",
      "\tNo node Hand found!\n",
      "\tNo node Avatar found!\n",
      "\tMean/Std Degree: 0.68/0.76\n",
      "\tMaxmimum Degree of 2.00 is 1.74 sigma away from the mean\n",
      "\tEdge list saved\n",
      "\tGraph PNG saved\n",
      "Subject 1011 started - 2/4\n",
      "\tNo node Avatar found!\n",
      "\tMean/Std Degree: 1.52/1.42\n",
      "\tMaxmimum Degree of 7.00 is 3.87 sigma away from the mean\n",
      "\tEdge list saved\n",
      "\tGraph PNG saved\n",
      "Subject 1018 started - 3/4\n",
      "\tNo node Hand found!\n",
      "\tNo node Avatar found!\n",
      "\tMean/Std Degree: 1.92/1.00\n",
      "\tMaxmimum Degree of 4.00 is 2.08 sigma away from the mean\n",
      "\tEdge list saved\n",
      "\tGraph PNG saved\n",
      "Subject 1054 started - 4/4\n",
      "\tNo node NoHit found!\n",
      "\tNo node Hand found!\n",
      "\tNo node Avatar found!\n",
      "\tMean/Std Degree: 0.96/1.00\n",
      "\tMaxmimum Degree of 4.00 is 3.04 sigma away from the mean\n",
      "\tEdge list saved\n",
      "\tGraph PNG saved\n",
      "\tCentrality Dataframe saved\n",
      "Done\n",
      "Starting: Dyadic, A, 1, F\n",
      "Subject 1004 started - 1/4\n",
      "\tNo node NoHit found!\n",
      "\tNo node Hand found!\n",
      "\tNo node Phone found!\n",
      "\tMean/Std Degree: 0.00/0.00\n",
      "\tMaxmimum Degree of 0.00 is nan sigma away from the mean\n"
     ]
    },
    {
     "name": "stderr",
     "output_type": "stream",
     "text": [
      "C:\\Users\\Srinidhi\\.conda\\envs\\graphs\\lib\\site-packages\\ipykernel_launcher.py:178: RuntimeWarning: invalid value encountered in double_scalars\n"
     ]
    },
    {
     "name": "stdout",
     "output_type": "stream",
     "text": [
      "\tEdge list saved\n",
      "\tGraph PNG saved\n",
      "Subject 1017 started - 2/4\n",
      "\tNo node NoHit found!\n",
      "\tNo node Hand found!\n",
      "\tNo node Phone found!\n",
      "\tMean/Std Degree: 0.00/0.00\n",
      "\tMaxmimum Degree of 0.00 is nan sigma away from the mean\n"
     ]
    },
    {
     "name": "stderr",
     "output_type": "stream",
     "text": [
      "C:\\Users\\Srinidhi\\.conda\\envs\\graphs\\lib\\site-packages\\ipykernel_launcher.py:178: RuntimeWarning: invalid value encountered in double_scalars\n"
     ]
    },
    {
     "name": "stdout",
     "output_type": "stream",
     "text": [
      "\tEdge list saved\n",
      "\tGraph PNG saved\n",
      "Subject 1057 started - 3/4\n",
      "\tNo node Hand found!\n",
      "\tNo node Phone found!\n",
      "\tMean/Std Degree: 0.35/0.48\n",
      "\tMaxmimum Degree of 1.00 is 1.35 sigma away from the mean\n",
      "\tEdge list saved\n",
      "\tGraph PNG saved\n",
      "Subject 1058 started - 4/4\n",
      "\tNo node NoHit found!\n",
      "\tNo node Hand found!\n",
      "\tNo node Phone found!\n",
      "\tMean/Std Degree: 0.44/0.68\n",
      "\tMaxmimum Degree of 2.00 is 2.27 sigma away from the mean\n",
      "\tEdge list saved\n",
      "\tGraph PNG saved\n",
      "\tCentrality Dataframe saved\n",
      "Done\n",
      "Starting: Dyadic, A, 2, F\n",
      "Subject 1004 started - 1/4\n",
      "\tNo node NoHit found!\n",
      "\tNo node Hand found!\n",
      "\tNo node Phone found!\n",
      "\tMean/Std Degree: 0.00/0.00\n",
      "\tMaxmimum Degree of 0.00 is nan sigma away from the mean\n"
     ]
    },
    {
     "name": "stderr",
     "output_type": "stream",
     "text": [
      "C:\\Users\\Srinidhi\\.conda\\envs\\graphs\\lib\\site-packages\\ipykernel_launcher.py:178: RuntimeWarning: invalid value encountered in double_scalars\n"
     ]
    },
    {
     "name": "stdout",
     "output_type": "stream",
     "text": [
      "\tEdge list saved\n",
      "\tGraph PNG saved\n",
      "Subject 1017 started - 2/4\n",
      "\tNo node NoHit found!\n",
      "\tNo node Hand found!\n",
      "\tNo node Phone found!\n",
      "\tMean/Std Degree: 0.00/0.00\n",
      "\tMaxmimum Degree of 0.00 is nan sigma away from the mean\n"
     ]
    },
    {
     "name": "stderr",
     "output_type": "stream",
     "text": [
      "C:\\Users\\Srinidhi\\.conda\\envs\\graphs\\lib\\site-packages\\ipykernel_launcher.py:178: RuntimeWarning: invalid value encountered in double_scalars\n"
     ]
    },
    {
     "name": "stdout",
     "output_type": "stream",
     "text": [
      "\tEdge list saved\n",
      "\tGraph PNG saved\n",
      "Subject 1057 started - 3/4\n",
      "\tNo node Phone found!\n",
      "\tMean/Std Degree: 0.70/0.62\n",
      "\tMaxmimum Degree of 2.00 is 2.10 sigma away from the mean\n",
      "\tEdge list saved\n",
      "\tGraph PNG saved\n",
      "Subject 1058 started - 4/4\n",
      "\tNo node Hand found!\n",
      "\tNo node Phone found!\n",
      "\tMean/Std Degree: 0.89/0.99\n",
      "\tMaxmimum Degree of 4.00 is 3.13 sigma away from the mean\n",
      "\tEdge list saved\n",
      "\tGraph PNG saved\n",
      "\tCentrality Dataframe saved\n",
      "Done\n",
      "Starting: Dyadic, A, 3, F\n",
      "Subject 1004 started - 1/4\n",
      "\tNo node NoHit found!\n",
      "\tNo node Hand found!\n",
      "\tNo node Phone found!\n",
      "\tMean/Std Degree: 0.00/0.00\n",
      "\tMaxmimum Degree of 0.00 is nan sigma away from the mean\n"
     ]
    },
    {
     "name": "stderr",
     "output_type": "stream",
     "text": [
      "C:\\Users\\Srinidhi\\.conda\\envs\\graphs\\lib\\site-packages\\ipykernel_launcher.py:178: RuntimeWarning: invalid value encountered in double_scalars\n"
     ]
    },
    {
     "name": "stdout",
     "output_type": "stream",
     "text": [
      "\tEdge list saved\n",
      "\tGraph PNG saved\n",
      "Subject 1017 started - 2/4\n",
      "\tNo node NoHit found!\n",
      "\tNo node Hand found!\n",
      "\tNo node Phone found!\n",
      "\tMean/Std Degree: 0.00/0.00\n",
      "\tMaxmimum Degree of 0.00 is nan sigma away from the mean\n"
     ]
    },
    {
     "name": "stderr",
     "output_type": "stream",
     "text": [
      "C:\\Users\\Srinidhi\\.conda\\envs\\graphs\\lib\\site-packages\\ipykernel_launcher.py:178: RuntimeWarning: invalid value encountered in double_scalars\n"
     ]
    },
    {
     "name": "stdout",
     "output_type": "stream",
     "text": [
      "\tEdge list saved\n",
      "\tGraph PNG saved\n",
      "Subject 1057 started - 3/4\n",
      "\tNo node NoHit found!\n",
      "\tNo node Hand found!\n",
      "\tNo node Phone found!\n",
      "\tMean/Std Degree: 0.00/0.00\n",
      "\tMaxmimum Degree of 0.00 is nan sigma away from the mean\n"
     ]
    },
    {
     "name": "stderr",
     "output_type": "stream",
     "text": [
      "C:\\Users\\Srinidhi\\.conda\\envs\\graphs\\lib\\site-packages\\ipykernel_launcher.py:178: RuntimeWarning: invalid value encountered in double_scalars\n"
     ]
    },
    {
     "name": "stdout",
     "output_type": "stream",
     "text": [
      "\tEdge list saved\n",
      "\tGraph PNG saved\n",
      "Subject 1058 started - 4/4\n",
      "\tNo node NoHit found!\n",
      "\tNo node Hand found!\n",
      "\tNo node Phone found!\n",
      "\tMean/Std Degree: 0.91/0.79\n",
      "\tMaxmimum Degree of 2.00 is 1.38 sigma away from the mean\n",
      "\tEdge list saved\n",
      "\tGraph PNG saved\n",
      "\tCentrality Dataframe saved\n",
      "Done\n",
      "Starting: Dyadic, A, 4, F\n",
      "Subject 1004 started - 1/4\n",
      "\tNo node Hand found!\n",
      "\tNo node Phone found!\n",
      "\tMean/Std Degree: 0.09/0.28\n",
      "\tMaxmimum Degree of 1.00 is 3.24 sigma away from the mean\n",
      "\tEdge list saved\n",
      "\tGraph PNG saved\n",
      "Subject 1017 started - 2/4\n",
      "\tNo node NoHit found!\n",
      "\tNo node Hand found!\n",
      "\tNo node Phone found!\n",
      "\tMean/Std Degree: 0.33/0.58\n",
      "\tMaxmimum Degree of 2.00 is 2.89 sigma away from the mean\n",
      "\tEdge list saved\n",
      "\tGraph PNG saved\n",
      "Subject 1057 started - 3/4\n",
      "\tNo node Hand found!\n",
      "\tNo node Phone found!\n",
      "\tMean/Std Degree: 0.59/0.60\n",
      "\tMaxmimum Degree of 2.00 is 2.35 sigma away from the mean\n",
      "\tEdge list saved\n",
      "\tGraph PNG saved\n",
      "Subject 1058 started - 4/4\n",
      "\tNo node Hand found!\n",
      "\tNo node Phone found!\n",
      "\tMean/Std Degree: 0.88/0.86\n",
      "\tMaxmimum Degree of 3.00 is 2.46 sigma away from the mean\n",
      "\tEdge list saved\n",
      "\tGraph PNG saved\n",
      "\tCentrality Dataframe saved\n",
      "Done\n",
      "Starting: Dyadic, A, 5, F\n",
      "Subject 1004 started - 1/4\n",
      "\tNo node NoHit found!\n",
      "\tNo node Hand found!\n",
      "\tNo node Phone found!\n",
      "\tMean/Std Degree: 0.00/0.00\n",
      "\tMaxmimum Degree of 0.00 is nan sigma away from the mean\n"
     ]
    },
    {
     "name": "stderr",
     "output_type": "stream",
     "text": [
      "C:\\Users\\Srinidhi\\.conda\\envs\\graphs\\lib\\site-packages\\ipykernel_launcher.py:178: RuntimeWarning: invalid value encountered in double_scalars\n"
     ]
    },
    {
     "name": "stdout",
     "output_type": "stream",
     "text": [
      "\tEdge list saved\n",
      "\tGraph PNG saved\n",
      "Subject 1017 started - 2/4\n",
      "\tNo node Hand found!\n",
      "\tNo node Phone found!\n",
      "\tMean/Std Degree: 0.50/0.71\n",
      "\tMaxmimum Degree of 2.00 is 2.12 sigma away from the mean\n",
      "\tEdge list saved\n",
      "\tGraph PNG saved\n",
      "Subject 1057 started - 3/4\n",
      "\tNo node Hand found!\n",
      "\tNo node Phone found!\n",
      "\tMean/Std Degree: 0.44/0.50\n",
      "\tMaxmimum Degree of 1.00 is 1.12 sigma away from the mean\n",
      "\tEdge list saved\n",
      "\tGraph PNG saved\n",
      "Subject 1058 started - 4/4\n",
      "\tNo node NoHit found!\n",
      "\tNo node Hand found!\n",
      "\tNo node Phone found!\n",
      "\tMean/Std Degree: 0.40/0.61\n",
      "\tMaxmimum Degree of 2.00 is 2.62 sigma away from the mean\n",
      "\tEdge list saved\n",
      "\tGraph PNG saved\n",
      "\tCentrality Dataframe saved\n",
      "Done\n",
      "Starting: Dyadic, A, 6, F\n",
      "Subject 1004 started - 1/4\n",
      "\tNo node NoHit found!\n",
      "\tNo node Hand found!\n",
      "\tNo node Phone found!\n",
      "\tMean/Std Degree: 0.20/0.51\n",
      "\tMaxmimum Degree of 2.00 is 3.53 sigma away from the mean\n",
      "\tEdge list saved\n",
      "\tGraph PNG saved\n",
      "Subject 1017 started - 2/4\n",
      "\tNo node NoHit found!\n",
      "\tNo node Hand found!\n",
      "\tNo node Phone found!\n",
      "\tMean/Std Degree: 0.00/0.00\n",
      "\tMaxmimum Degree of 0.00 is nan sigma away from the mean\n"
     ]
    },
    {
     "name": "stderr",
     "output_type": "stream",
     "text": [
      "C:\\Users\\Srinidhi\\.conda\\envs\\graphs\\lib\\site-packages\\ipykernel_launcher.py:178: RuntimeWarning: invalid value encountered in double_scalars\n"
     ]
    },
    {
     "name": "stdout",
     "output_type": "stream",
     "text": [
      "\tEdge list saved\n",
      "\tGraph PNG saved\n",
      "Subject 1057 started - 3/4\n",
      "\tNo node NoHit found!\n",
      "\tNo node Hand found!\n",
      "\tNo node Phone found!\n",
      "\tMean/Std Degree: 0.21/0.41\n",
      "\tMaxmimum Degree of 1.00 is 1.94 sigma away from the mean\n",
      "\tEdge list saved\n",
      "\tGraph PNG saved\n",
      "Subject 1058 started - 4/4\n",
      "\tNo node Hand found!\n",
      "\tNo node Phone found!\n",
      "\tMean/Std Degree: 1.32/1.25\n",
      "\tMaxmimum Degree of 7.00 is 4.55 sigma away from the mean\n",
      "\tEdge list saved\n",
      "\tGraph PNG saved\n",
      "\tCentrality Dataframe saved\n",
      "Done\n",
      "Starting: Dyadic, A, 7, F\n",
      "Subject 1004 started - 1/4\n",
      "\tNo node NoHit found!\n",
      "\tNo node Hand found!\n",
      "\tNo node Phone found!\n",
      "\tMean/Std Degree: 0.00/0.00\n",
      "\tMaxmimum Degree of 0.00 is nan sigma away from the mean\n"
     ]
    },
    {
     "name": "stderr",
     "output_type": "stream",
     "text": [
      "C:\\Users\\Srinidhi\\.conda\\envs\\graphs\\lib\\site-packages\\ipykernel_launcher.py:178: RuntimeWarning: invalid value encountered in double_scalars\n"
     ]
    },
    {
     "name": "stdout",
     "output_type": "stream",
     "text": [
      "\tEdge list saved\n",
      "\tGraph PNG saved\n",
      "Subject 1017 started - 2/4\n",
      "\tNo node NoHit found!\n",
      "\tNo node Hand found!\n",
      "\tNo node Phone found!\n",
      "\tMean/Std Degree: 0.00/0.00\n",
      "\tMaxmimum Degree of 0.00 is nan sigma away from the mean\n"
     ]
    },
    {
     "name": "stderr",
     "output_type": "stream",
     "text": [
      "C:\\Users\\Srinidhi\\.conda\\envs\\graphs\\lib\\site-packages\\ipykernel_launcher.py:178: RuntimeWarning: invalid value encountered in double_scalars\n"
     ]
    },
    {
     "name": "stdout",
     "output_type": "stream",
     "text": [
      "\tEdge list saved\n",
      "\tGraph PNG saved\n",
      "Subject 1057 started - 3/4\n",
      "\tNo node Hand found!\n",
      "\tNo node Phone found!\n",
      "\tMean/Std Degree: 0.75/0.66\n",
      "\tMaxmimum Degree of 2.00 is 1.89 sigma away from the mean\n",
      "\tEdge list saved\n",
      "\tGraph PNG saved\n",
      "Subject 1058 started - 4/4\n",
      "\tNo node Hand found!\n",
      "\tNo node Phone found!\n",
      "\tMean/Std Degree: 0.89/1.10\n",
      "\tMaxmimum Degree of 3.00 is 1.92 sigma away from the mean\n",
      "\tEdge list saved\n",
      "\tGraph PNG saved\n",
      "\tCentrality Dataframe saved\n",
      "Done\n",
      "Starting: Dyadic, A, 8, F\n",
      "Subject 1004 started - 1/4\n",
      "\tNo node Hand found!\n",
      "\tNo node Phone found!\n",
      "\tMean/Std Degree: 0.18/0.39\n",
      "\tMaxmimum Degree of 1.00 is 2.12 sigma away from the mean\n",
      "\tEdge list saved\n",
      "\tGraph PNG saved\n",
      "Subject 1017 started - 2/4\n",
      "\tNo node NoHit found!\n",
      "\tNo node Hand found!\n",
      "\tNo node Phone found!\n",
      "\tMean/Std Degree: 0.29/0.45\n",
      "\tMaxmimum Degree of 1.00 is 1.58 sigma away from the mean\n",
      "\tEdge list saved\n",
      "\tGraph PNG saved\n",
      "Subject 1057 started - 3/4\n",
      "\tNo node Hand found!\n",
      "\tNo node Phone found!\n",
      "\tMean/Std Degree: 1.40/1.12\n",
      "\tMaxmimum Degree of 4.00 is 2.32 sigma away from the mean\n",
      "\tEdge list saved\n",
      "\tGraph PNG saved\n",
      "Subject 1058 started - 4/4\n",
      "\tNo node Hand found!\n",
      "\tNo node Phone found!\n",
      "\tMean/Std Degree: 0.83/0.99\n",
      "\tMaxmimum Degree of 4.00 is 3.21 sigma away from the mean\n",
      "\tEdge list saved\n",
      "\tGraph PNG saved\n",
      "\tCentrality Dataframe saved\n",
      "Done\n",
      "Starting: Dyadic, A, 9, F\n",
      "Subject 1004 started - 1/4\n",
      "\tNo node NoHit found!\n",
      "\tNo node Hand found!\n",
      "\tNo node Phone found!\n",
      "\tMean/Std Degree: 0.00/0.00\n",
      "\tMaxmimum Degree of 0.00 is nan sigma away from the mean\n"
     ]
    },
    {
     "name": "stderr",
     "output_type": "stream",
     "text": [
      "C:\\Users\\Srinidhi\\.conda\\envs\\graphs\\lib\\site-packages\\ipykernel_launcher.py:178: RuntimeWarning: invalid value encountered in double_scalars\n"
     ]
    },
    {
     "name": "stdout",
     "output_type": "stream",
     "text": [
      "\tEdge list saved\n",
      "\tGraph PNG saved\n",
      "Subject 1017 started - 2/4\n",
      "\tNo node NoHit found!\n",
      "\tNo node Hand found!\n",
      "\tNo node Phone found!\n",
      "\tMean/Std Degree: 0.57/0.49\n",
      "\tMaxmimum Degree of 1.00 is 0.87 sigma away from the mean\n",
      "\tEdge list saved\n",
      "\tGraph PNG saved\n",
      "Subject 1057 started - 3/4\n",
      "\tNo node Hand found!\n",
      "\tNo node Phone found!\n",
      "\tMean/Std Degree: 0.92/1.03\n",
      "\tMaxmimum Degree of 4.00 is 2.97 sigma away from the mean\n",
      "\tEdge list saved\n",
      "\tGraph PNG saved\n",
      "Subject 1058 started - 4/4\n",
      "\tNo node Hand found!\n",
      "\tNo node Phone found!\n",
      "\tMean/Std Degree: 0.84/0.87\n",
      "\tMaxmimum Degree of 3.00 is 2.47 sigma away from the mean\n",
      "\tEdge list saved\n",
      "\tGraph PNG saved\n",
      "\tCentrality Dataframe saved\n",
      "Done\n",
      "Starting: Dyadic, B, 1, L\n",
      "Subject 1005 started - 1/4\n",
      "\tNo node Phone found!\n",
      "\tMean/Std Degree: 0.35/0.68\n",
      "\tMaxmimum Degree of 2.00 is 2.42 sigma away from the mean\n",
      "\tEdge list saved\n",
      "\tGraph PNG saved\n",
      "Subject 1021 started - 2/4\n",
      "\tNo node NoHit found!\n",
      "\tNo node Hand found!\n",
      "\tMean/Std Degree: 0.18/0.39\n",
      "\tMaxmimum Degree of 1.00 is 2.12 sigma away from the mean\n",
      "\tEdge list saved\n",
      "\tGraph PNG saved\n",
      "Subject 1023 started - 3/4\n",
      "\tNo node NoHit found!\n",
      "\tNo node Hand found!\n",
      "\tMean/Std Degree: 0.62/0.60\n",
      "\tMaxmimum Degree of 2.00 is 2.29 sigma away from the mean\n",
      "\tEdge list saved\n",
      "\tGraph PNG saved\n",
      "Subject 1074 started - 4/4\n",
      "\tNo node NoHit found!\n",
      "\tNo node Hand found!\n",
      "\tMean/Std Degree: 1.20/0.87\n",
      "\tMaxmimum Degree of 4.00 is 3.21 sigma away from the mean\n",
      "\tEdge list saved\n",
      "\tGraph PNG saved\n",
      "\tCentrality Dataframe saved\n",
      "Done\n",
      "Starting: Dyadic, B, 2, L\n",
      "Subject 1005 started - 1/4\n",
      "\tNo node Hand found!\n",
      "\tNo node Avatar found!\n",
      "\tNo node Phone found!\n",
      "\tMean/Std Degree: 1.00/1.22\n",
      "\tMaxmimum Degree of 5.00 is 3.27 sigma away from the mean\n",
      "\tEdge list saved\n",
      "\tGraph PNG saved\n",
      "Subject 1021 started - 2/4\n",
      "\tNo node Hand found!\n",
      "\tMean/Std Degree: 1.38/0.62\n",
      "\tMaxmimum Degree of 2.00 is 0.98 sigma away from the mean\n",
      "\tEdge list saved\n",
      "\tGraph PNG saved\n",
      "Subject 1023 started - 3/4\n",
      "\tNo node NoHit found!\n",
      "\tNo node Hand found!\n",
      "\tNo node Avatar found!\n",
      "\tMean/Std Degree: 0.93/0.68\n",
      "\tMaxmimum Degree of 2.00 is 1.57 sigma away from the mean\n",
      "\tEdge list saved\n",
      "\tGraph PNG saved\n",
      "Subject 1074 started - 4/4\n",
      "\tNo node NoHit found!\n",
      "\tNo node Hand found!\n",
      "\tMean/Std Degree: 1.97/1.38\n",
      "\tMaxmimum Degree of 7.00 is 3.64 sigma away from the mean\n",
      "\tEdge list saved\n",
      "\tGraph PNG saved\n",
      "\tCentrality Dataframe saved\n",
      "Done\n",
      "Starting: Dyadic, B, 3, L\n",
      "Subject 1005 started - 1/4\n",
      "\tNo node NoHit found!\n",
      "\tNo node Hand found!\n",
      "\tMean/Std Degree: 0.00/0.00\n",
      "\tMaxmimum Degree of 0.00 is nan sigma away from the mean\n"
     ]
    },
    {
     "name": "stderr",
     "output_type": "stream",
     "text": [
      "C:\\Users\\Srinidhi\\.conda\\envs\\graphs\\lib\\site-packages\\ipykernel_launcher.py:178: RuntimeWarning: invalid value encountered in double_scalars\n"
     ]
    },
    {
     "name": "stdout",
     "output_type": "stream",
     "text": [
      "\tEdge list saved\n",
      "\tGraph PNG saved\n",
      "Subject 1021 started - 2/4\n",
      "\tNo node NoHit found!\n",
      "\tNo node Hand found!\n",
      "\tMean/Std Degree: 1.33/1.11\n",
      "\tMaxmimum Degree of 3.00 is 1.51 sigma away from the mean\n",
      "\tEdge list saved\n",
      "\tGraph PNG saved\n",
      "Subject 1023 started - 3/4\n",
      "\tNo node NoHit found!\n",
      "\tNo node Hand found!\n",
      "\tMean/Std Degree: 0.00/0.00\n",
      "\tMaxmimum Degree of 0.00 is nan sigma away from the mean\n"
     ]
    },
    {
     "name": "stderr",
     "output_type": "stream",
     "text": [
      "C:\\Users\\Srinidhi\\.conda\\envs\\graphs\\lib\\site-packages\\ipykernel_launcher.py:178: RuntimeWarning: invalid value encountered in double_scalars\n"
     ]
    },
    {
     "name": "stdout",
     "output_type": "stream",
     "text": [
      "\tEdge list saved\n",
      "\tGraph PNG saved\n",
      "Subject 1074 started - 4/4\n",
      "\tNo node NoHit found!\n",
      "\tNo node Avatar found!\n",
      "\tMean/Std Degree: 2.11/1.29\n",
      "\tMaxmimum Degree of 5.00 is 2.24 sigma away from the mean\n",
      "\tEdge list saved\n",
      "\tGraph PNG saved\n",
      "\tCentrality Dataframe saved\n",
      "Done\n",
      "Starting: Dyadic, B, 4, L\n",
      "Subject 1005 started - 1/4\n",
      "\tNo node NoHit found!\n",
      "\tMean/Std Degree: 0.62/0.62\n",
      "\tMaxmimum Degree of 2.00 is 2.22 sigma away from the mean\n",
      "\tEdge list saved\n",
      "\tGraph PNG saved\n",
      "Subject 1021 started - 2/4\n",
      "\tNo node NoHit found!\n",
      "\tNo node Hand found!\n",
      "\tNo node Avatar found!\n",
      "\tMean/Std Degree: 1.00/0.94\n",
      "\tMaxmimum Degree of 4.00 is 3.18 sigma away from the mean\n",
      "\tEdge list saved\n",
      "\tGraph PNG saved\n",
      "Subject 1023 started - 3/4\n",
      "\tNo node NoHit found!\n",
      "\tNo node Hand found!\n",
      "\tMean/Std Degree: 1.25/1.09\n",
      "\tMaxmimum Degree of 3.00 is 1.61 sigma away from the mean\n",
      "\tEdge list saved\n",
      "\tGraph PNG saved\n",
      "Subject 1074 started - 4/4\n",
      "\tNo node Hand found!\n",
      "\tMean/Std Degree: 2.55/1.74\n",
      "\tMaxmimum Degree of 7.00 is 2.56 sigma away from the mean\n",
      "\tEdge list saved\n",
      "\tGraph PNG saved\n",
      "\tCentrality Dataframe saved\n",
      "Done\n",
      "Starting: Dyadic, B, 5, L\n",
      "Subject 1005 started - 1/4\n",
      "\tNo node NoHit found!\n",
      "\tNo node Avatar found!\n",
      "\tMean/Std Degree: 1.73/1.53\n",
      "\tMaxmimum Degree of 5.00 is 2.14 sigma away from the mean\n",
      "\tEdge list saved\n",
      "\tGraph PNG saved\n",
      "Subject 1021 started - 2/4\n",
      "\tNo node NoHit found!\n",
      "\tNo node Hand found!\n",
      "\tMean/Std Degree: 0.67/0.47\n",
      "\tMaxmimum Degree of 1.00 is 0.71 sigma away from the mean\n",
      "\tEdge list saved\n",
      "\tGraph PNG saved\n",
      "Subject 1023 started - 3/4\n",
      "\tNo node NoHit found!\n",
      "\tNo node Hand found!\n",
      "\tNo node Avatar found!\n",
      "\tMean/Std Degree: 0.40/0.49\n",
      "\tMaxmimum Degree of 1.00 is 1.22 sigma away from the mean\n",
      "\tEdge list saved\n",
      "\tGraph PNG saved\n",
      "Subject 1074 started - 4/4\n",
      "\tNo node NoHit found!\n",
      "\tNo node Hand found!\n",
      "\tNo node Avatar found!\n",
      "\tMean/Std Degree: 1.53/1.14\n",
      "\tMaxmimum Degree of 3.00 is 1.29 sigma away from the mean\n",
      "\tEdge list saved\n",
      "\tGraph PNG saved\n",
      "\tCentrality Dataframe saved\n",
      "Done\n",
      "Starting: Dyadic, B, 6, L\n",
      "Subject 1005 started - 1/4\n",
      "\tNo node Hand found!\n",
      "\tMean/Std Degree: 1.45/1.56\n",
      "\tMaxmimum Degree of 8.00 is 4.20 sigma away from the mean\n",
      "\tEdge list saved\n",
      "\tGraph PNG saved\n",
      "Subject 1021 started - 2/4\n",
      "\tNo node Hand found!\n",
      "\tMean/Std Degree: 1.05/1.05\n",
      "\tMaxmimum Degree of 4.00 is 2.82 sigma away from the mean\n",
      "\tEdge list saved\n",
      "\tGraph PNG saved\n",
      "Subject 1023 started - 3/4\n",
      "\tNo node NoHit found!\n",
      "\tNo node Hand found!\n",
      "\tMean/Std Degree: 0.94/0.80\n",
      "\tMaxmimum Degree of 2.00 is 1.32 sigma away from the mean\n",
      "\tEdge list saved\n",
      "\tGraph PNG saved\n",
      "Subject 1074 started - 4/4\n",
      "\tNo node Hand found!\n",
      "\tMean/Std Degree: 2.66/1.67\n",
      "\tMaxmimum Degree of 8.00 is 3.21 sigma away from the mean\n",
      "\tEdge list saved\n",
      "\tGraph PNG saved\n",
      "\tCentrality Dataframe saved\n",
      "Done\n",
      "Starting: Dyadic, B, 7, L\n",
      "Subject 1005 started - 1/4\n",
      "\tNo node Hand found!\n",
      "\tMean/Std Degree: 1.78/1.33\n",
      "\tMaxmimum Degree of 5.00 is 2.43 sigma away from the mean\n",
      "\tEdge list saved\n",
      "\tGraph PNG saved\n",
      "Subject 1021 started - 2/4\n",
      "\tNo node NoHit found!\n",
      "\tNo node Hand found!\n",
      "\tMean/Std Degree: 0.57/0.73\n",
      "\tMaxmimum Degree of 2.00 is 1.96 sigma away from the mean\n",
      "\tEdge list saved\n",
      "\tGraph PNG saved\n",
      "Subject 1023 started - 3/4\n",
      "\tNo node NoHit found!\n",
      "\tNo node Hand found!\n",
      "\tNo node Avatar found!\n",
      "\tMean/Std Degree: 0.80/0.75\n",
      "\tMaxmimum Degree of 2.00 is 1.60 sigma away from the mean\n",
      "\tEdge list saved\n",
      "\tGraph PNG saved\n",
      "Subject 1074 started - 4/4\n",
      "\tNo node Hand found!\n",
      "\tMean/Std Degree: 2.55/1.58\n",
      "\tMaxmimum Degree of 7.00 is 2.82 sigma away from the mean\n",
      "\tEdge list saved\n",
      "\tGraph PNG saved\n",
      "\tCentrality Dataframe saved\n",
      "Done\n",
      "Starting: Dyadic, B, 8, L\n",
      "Subject 1005 started - 1/4\n",
      "\tNo node NoHit found!\n",
      "\tNo node Hand found!\n",
      "\tMean/Std Degree: 0.75/0.78\n",
      "\tMaxmimum Degree of 2.00 is 1.61 sigma away from the mean\n",
      "\tEdge list saved\n",
      "\tGraph PNG saved\n",
      "Subject 1021 started - 2/4\n",
      "\tNo node NoHit found!\n",
      "\tNo node Hand found!\n",
      "\tMean/Std Degree: 0.18/0.39\n",
      "\tMaxmimum Degree of 1.00 is 2.12 sigma away from the mean\n",
      "\tEdge list saved\n",
      "\tGraph PNG saved\n",
      "Subject 1023 started - 3/4\n",
      "\tNo node NoHit found!\n",
      "\tNo node Avatar found!\n",
      "\tMean/Std Degree: 1.44/1.10\n",
      "\tMaxmimum Degree of 4.00 is 2.33 sigma away from the mean\n",
      "\tEdge list saved\n",
      "\tGraph PNG saved\n",
      "Subject 1074 started - 4/4\n",
      "\tNo node NoHit found!\n",
      "\tNo node Hand found!\n",
      "\tMean/Std Degree: 2.22/1.59\n",
      "\tMaxmimum Degree of 8.00 is 3.65 sigma away from the mean\n",
      "\tEdge list saved\n",
      "\tGraph PNG saved\n",
      "\tCentrality Dataframe saved\n",
      "Done\n",
      "Starting: Dyadic, B, 9, L\n",
      "Subject 1005 started - 1/4\n",
      "\tNo node NoHit found!\n",
      "\tMean/Std Degree: 0.44/0.50\n",
      "\tMaxmimum Degree of 1.00 is 1.12 sigma away from the mean\n",
      "\tEdge list saved\n",
      "\tGraph PNG saved\n",
      "Subject 1021 started - 2/4\n",
      "\tNo node Hand found!\n",
      "\tMean/Std Degree: 0.50/0.71\n",
      "\tMaxmimum Degree of 2.00 is 2.12 sigma away from the mean\n",
      "\tEdge list saved\n",
      "\tGraph PNG saved\n",
      "Subject 1023 started - 3/4\n",
      "\tNo node NoHit found!\n",
      "\tNo node Avatar found!\n",
      "\tMean/Std Degree: 1.12/0.93\n",
      "\tMaxmimum Degree of 3.00 is 2.02 sigma away from the mean\n",
      "\tEdge list saved\n",
      "\tGraph PNG saved\n",
      "Subject 1074 started - 4/4\n",
      "\tNo node Avatar found!\n",
      "\tMean/Std Degree: 1.64/1.16\n",
      "\tMaxmimum Degree of 5.00 is 2.90 sigma away from the mean\n",
      "\tEdge list saved\n",
      "\tGraph PNG saved\n",
      "\tCentrality Dataframe saved\n",
      "Done\n",
      "Starting: Dyadic, B, 1, F\n",
      "Subject 1013 started - 1/4\n",
      "\tNo node NoHit found!\n",
      "\tNo node Phone found!\n",
      "\tMean/Std Degree: 0.00/0.00\n",
      "\tMaxmimum Degree of 0.00 is nan sigma away from the mean\n"
     ]
    },
    {
     "name": "stderr",
     "output_type": "stream",
     "text": [
      "C:\\Users\\Srinidhi\\.conda\\envs\\graphs\\lib\\site-packages\\ipykernel_launcher.py:178: RuntimeWarning: invalid value encountered in double_scalars\n"
     ]
    },
    {
     "name": "stdout",
     "output_type": "stream",
     "text": [
      "\tEdge list saved\n",
      "\tGraph PNG saved\n",
      "Subject 1022 started - 2/4\n",
      "\tNo node NoHit found!\n",
      "\tNo node Hand found!\n",
      "\tNo node Phone found!\n",
      "\tMean/Std Degree: 0.00/0.00\n",
      "\tMaxmimum Degree of 0.00 is nan sigma away from the mean\n"
     ]
    },
    {
     "name": "stderr",
     "output_type": "stream",
     "text": [
      "C:\\Users\\Srinidhi\\.conda\\envs\\graphs\\lib\\site-packages\\ipykernel_launcher.py:178: RuntimeWarning: invalid value encountered in double_scalars\n"
     ]
    },
    {
     "name": "stdout",
     "output_type": "stream",
     "text": [
      "\tEdge list saved\n",
      "\tGraph PNG saved\n",
      "Subject 1055 started - 3/4\n",
      "\tNo node NoHit found!\n",
      "\tNo node Hand found!\n",
      "\tNo node Phone found!\n",
      "\tMean/Std Degree: 0.00/0.00\n",
      "\tMaxmimum Degree of 0.00 is nan sigma away from the mean\n"
     ]
    },
    {
     "name": "stderr",
     "output_type": "stream",
     "text": [
      "C:\\Users\\Srinidhi\\.conda\\envs\\graphs\\lib\\site-packages\\ipykernel_launcher.py:178: RuntimeWarning: invalid value encountered in double_scalars\n"
     ]
    },
    {
     "name": "stdout",
     "output_type": "stream",
     "text": [
      "\tEdge list saved\n",
      "\tGraph PNG saved\n",
      "Subject 1069 started - 4/4\n",
      "\tNo node Phone found!\n",
      "\tMean/Std Degree: 0.43/0.49\n",
      "\tMaxmimum Degree of 1.00 is 1.15 sigma away from the mean\n",
      "\tEdge list saved\n",
      "\tGraph PNG saved\n",
      "\tCentrality Dataframe saved\n",
      "Done\n",
      "Starting: Dyadic, B, 2, F\n",
      "Subject 1013 started - 1/4\n",
      "\tNo node NoHit found!\n",
      "\tNo node Hand found!\n",
      "\tNo node Phone found!\n",
      "\tMean/Std Degree: 0.44/0.50\n",
      "\tMaxmimum Degree of 1.00 is 1.12 sigma away from the mean\n",
      "\tEdge list saved\n",
      "\tGraph PNG saved\n",
      "Subject 1022 started - 2/4\n",
      "\tNo node Hand found!\n",
      "\tNo node Phone found!\n",
      "\tMean/Std Degree: 0.44/0.68\n",
      "\tMaxmimum Degree of 2.00 is 2.27 sigma away from the mean\n",
      "\tEdge list saved\n",
      "\tGraph PNG saved\n",
      "Subject 1055 started - 3/4\n",
      "\tNo node NoHit found!\n",
      "\tNo node Hand found!\n",
      "\tNo node Phone found!\n",
      "\tMean/Std Degree: 0.62/0.62\n",
      "\tMaxmimum Degree of 2.00 is 2.22 sigma away from the mean\n",
      "\tEdge list saved\n",
      "\tGraph PNG saved\n",
      "Subject 1069 started - 4/4\n",
      "\tNo node Hand found!\n",
      "\tNo node Phone found!\n",
      "\tMean/Std Degree: 1.36/1.02\n",
      "\tMaxmimum Degree of 4.00 is 2.60 sigma away from the mean\n",
      "\tEdge list saved\n",
      "\tGraph PNG saved\n",
      "\tCentrality Dataframe saved\n",
      "Done\n",
      "Starting: Dyadic, B, 3, F\n",
      "Subject 1013 started - 1/4\n",
      "\tNo node NoHit found!\n",
      "\tNo node Hand found!\n",
      "\tNo node Phone found!\n",
      "\tMean/Std Degree: 0.00/0.00\n",
      "\tMaxmimum Degree of 0.00 is nan sigma away from the mean\n"
     ]
    },
    {
     "name": "stderr",
     "output_type": "stream",
     "text": [
      "C:\\Users\\Srinidhi\\.conda\\envs\\graphs\\lib\\site-packages\\ipykernel_launcher.py:178: RuntimeWarning: invalid value encountered in double_scalars\n"
     ]
    },
    {
     "name": "stdout",
     "output_type": "stream",
     "text": [
      "\tEdge list saved\n",
      "\tGraph PNG saved\n",
      "Subject 1022 started - 2/4\n",
      "\tNo node NoHit found!\n",
      "\tNo node Hand found!\n",
      "\tNo node Phone found!\n",
      "\tMean/Std Degree: 1.00/0.00\n",
      "\tMaxmimum Degree of 1.00 is nan sigma away from the mean\n"
     ]
    },
    {
     "name": "stderr",
     "output_type": "stream",
     "text": [
      "C:\\Users\\Srinidhi\\.conda\\envs\\graphs\\lib\\site-packages\\ipykernel_launcher.py:178: RuntimeWarning: invalid value encountered in double_scalars\n"
     ]
    },
    {
     "name": "stdout",
     "output_type": "stream",
     "text": [
      "\tEdge list saved\n",
      "\tGraph PNG saved\n",
      "Subject 1055 started - 3/4\n",
      "\tNo node NoHit found!\n",
      "\tNo node Hand found!\n",
      "\tNo node Phone found!\n",
      "\tMean/Std Degree: 0.33/0.47\n",
      "\tMaxmimum Degree of 1.00 is 1.41 sigma away from the mean\n",
      "\tEdge list saved\n",
      "\tGraph PNG saved\n",
      "Subject 1069 started - 4/4\n",
      "\tNo node NoHit found!\n",
      "\tNo node Hand found!\n",
      "\tNo node Phone found!\n",
      "\tMean/Std Degree: 0.00/0.00\n",
      "\tMaxmimum Degree of 0.00 is nan sigma away from the mean\n"
     ]
    },
    {
     "name": "stderr",
     "output_type": "stream",
     "text": [
      "C:\\Users\\Srinidhi\\.conda\\envs\\graphs\\lib\\site-packages\\ipykernel_launcher.py:178: RuntimeWarning: invalid value encountered in double_scalars\n"
     ]
    },
    {
     "name": "stdout",
     "output_type": "stream",
     "text": [
      "\tEdge list saved\n",
      "\tGraph PNG saved\n",
      "\tCentrality Dataframe saved\n",
      "Done\n",
      "Starting: Dyadic, B, 4, F\n",
      "Subject 1013 started - 1/4\n",
      "\tNo node NoHit found!\n",
      "\tNo node Hand found!\n",
      "\tNo node Phone found!\n",
      "\tMean/Std Degree: 0.36/0.64\n",
      "\tMaxmimum Degree of 2.00 is 2.55 sigma away from the mean\n",
      "\tEdge list saved\n",
      "\tGraph PNG saved\n",
      "Subject 1022 started - 2/4\n",
      "\tNo node NoHit found!\n",
      "\tNo node Hand found!\n",
      "\tNo node Phone found!\n",
      "\tMean/Std Degree: 0.17/0.37\n",
      "\tMaxmimum Degree of 1.00 is 2.24 sigma away from the mean\n",
      "\tEdge list saved\n",
      "\tGraph PNG saved\n",
      "Subject 1055 started - 3/4\n",
      "\tNo node NoHit found!\n",
      "\tNo node Hand found!\n",
      "\tNo node Phone found!\n",
      "\tMean/Std Degree: 1.00/0.77\n",
      "\tMaxmimum Degree of 3.00 is 2.58 sigma away from the mean\n",
      "\tEdge list saved\n",
      "\tGraph PNG saved\n",
      "Subject 1069 started - 4/4\n",
      "\tNo node NoHit found!\n",
      "\tNo node Phone found!\n",
      "\tMean/Std Degree: 0.35/0.59\n",
      "\tMaxmimum Degree of 2.00 is 2.80 sigma away from the mean\n",
      "\tEdge list saved\n",
      "\tGraph PNG saved\n",
      "\tCentrality Dataframe saved\n",
      "Done\n",
      "Starting: Dyadic, B, 5, F\n",
      "Subject 1013 started - 1/4\n",
      "\tNo node NoHit found!\n",
      "\tNo node Phone found!\n",
      "\tMean/Std Degree: 0.40/0.49\n",
      "\tMaxmimum Degree of 1.00 is 1.22 sigma away from the mean\n",
      "\tEdge list saved\n",
      "\tGraph PNG saved\n",
      "Subject 1022 started - 2/4\n",
      "\tNo node NoHit found!\n",
      "\tNo node Hand found!\n",
      "\tNo node Phone found!\n",
      "\tMean/Std Degree: 0.00/0.00\n",
      "\tMaxmimum Degree of 0.00 is nan sigma away from the mean\n"
     ]
    },
    {
     "name": "stderr",
     "output_type": "stream",
     "text": [
      "C:\\Users\\Srinidhi\\.conda\\envs\\graphs\\lib\\site-packages\\ipykernel_launcher.py:178: RuntimeWarning: invalid value encountered in double_scalars\n"
     ]
    },
    {
     "name": "stdout",
     "output_type": "stream",
     "text": [
      "\tEdge list saved\n",
      "\tGraph PNG saved\n",
      "Subject 1055 started - 3/4\n",
      "\tNo node NoHit found!\n",
      "\tNo node Hand found!\n",
      "\tNo node Phone found!\n",
      "\tMean/Std Degree: 0.00/0.00\n",
      "\tMaxmimum Degree of 0.00 is nan sigma away from the mean\n"
     ]
    },
    {
     "name": "stderr",
     "output_type": "stream",
     "text": [
      "C:\\Users\\Srinidhi\\.conda\\envs\\graphs\\lib\\site-packages\\ipykernel_launcher.py:178: RuntimeWarning: invalid value encountered in double_scalars\n"
     ]
    },
    {
     "name": "stdout",
     "output_type": "stream",
     "text": [
      "\tEdge list saved\n",
      "\tGraph PNG saved\n",
      "Subject 1069 started - 4/4\n",
      "\tNo node NoHit found!\n",
      "\tNo node Hand found!\n",
      "\tNo node Phone found!\n",
      "\tMean/Std Degree: 0.25/0.43\n",
      "\tMaxmimum Degree of 1.00 is 1.73 sigma away from the mean\n",
      "\tEdge list saved\n",
      "\tGraph PNG saved\n",
      "\tCentrality Dataframe saved\n",
      "Done\n",
      "Starting: Dyadic, B, 6, F\n",
      "Subject 1013 started - 1/4\n",
      "\tNo node NoHit found!\n",
      "\tNo node Hand found!\n",
      "\tNo node Phone found!\n",
      "\tMean/Std Degree: 0.53/0.81\n",
      "\tMaxmimum Degree of 3.00 is 3.06 sigma away from the mean\n",
      "\tEdge list saved\n",
      "\tGraph PNG saved\n",
      "Subject 1022 started - 2/4\n",
      "\tNo node NoHit found!\n",
      "\tNo node Hand found!\n",
      "\tNo node Phone found!\n",
      "\tMean/Std Degree: 0.00/0.00\n",
      "\tMaxmimum Degree of 0.00 is nan sigma away from the mean\n"
     ]
    },
    {
     "name": "stderr",
     "output_type": "stream",
     "text": [
      "C:\\Users\\Srinidhi\\.conda\\envs\\graphs\\lib\\site-packages\\ipykernel_launcher.py:178: RuntimeWarning: invalid value encountered in double_scalars\n"
     ]
    },
    {
     "name": "stdout",
     "output_type": "stream",
     "text": [
      "\tEdge list saved\n",
      "\tGraph PNG saved\n",
      "Subject 1055 started - 3/4\n",
      "\tNo node NoHit found!\n",
      "\tNo node Hand found!\n",
      "\tNo node Phone found!\n",
      "\tMean/Std Degree: 0.38/0.49\n",
      "\tMaxmimum Degree of 1.00 is 1.27 sigma away from the mean\n",
      "\tEdge list saved\n",
      "\tGraph PNG saved\n",
      "Subject 1069 started - 4/4\n",
      "\tNo node NoHit found!\n",
      "\tNo node Hand found!\n",
      "\tNo node Phone found!\n",
      "\tMean/Std Degree: 0.35/0.63\n",
      "\tMaxmimum Degree of 2.00 is 2.61 sigma away from the mean\n",
      "\tEdge list saved\n",
      "\tGraph PNG saved\n",
      "\tCentrality Dataframe saved\n",
      "Done\n",
      "Starting: Dyadic, B, 7, F\n",
      "Subject 1013 started - 1/4\n",
      "\tNo node NoHit found!\n",
      "\tNo node Hand found!\n",
      "\tNo node Phone found!\n",
      "\tMean/Std Degree: 0.00/0.00\n",
      "\tMaxmimum Degree of 0.00 is nan sigma away from the mean\n"
     ]
    },
    {
     "name": "stderr",
     "output_type": "stream",
     "text": [
      "C:\\Users\\Srinidhi\\.conda\\envs\\graphs\\lib\\site-packages\\ipykernel_launcher.py:178: RuntimeWarning: invalid value encountered in double_scalars\n"
     ]
    },
    {
     "name": "stdout",
     "output_type": "stream",
     "text": [
      "\tEdge list saved\n",
      "\tGraph PNG saved\n",
      "Subject 1022 started - 2/4\n",
      "\tNo node NoHit found!\n",
      "\tNo node Hand found!\n",
      "\tNo node Phone found!\n",
      "\tMean/Std Degree: 0.00/0.00\n",
      "\tMaxmimum Degree of 0.00 is nan sigma away from the mean\n"
     ]
    },
    {
     "name": "stderr",
     "output_type": "stream",
     "text": [
      "C:\\Users\\Srinidhi\\.conda\\envs\\graphs\\lib\\site-packages\\ipykernel_launcher.py:178: RuntimeWarning: invalid value encountered in double_scalars\n"
     ]
    },
    {
     "name": "stdout",
     "output_type": "stream",
     "text": [
      "\tEdge list saved\n",
      "\tGraph PNG saved\n",
      "Subject 1055 started - 3/4\n",
      "\tNo node NoHit found!\n",
      "\tNo node Hand found!\n",
      "\tNo node Phone found!\n",
      "\tMean/Std Degree: 0.50/0.63\n",
      "\tMaxmimum Degree of 2.00 is 2.39 sigma away from the mean\n",
      "\tEdge list saved\n",
      "\tGraph PNG saved\n",
      "Subject 1069 started - 4/4\n",
      "\tNo node NoHit found!\n",
      "\tNo node Hand found!\n",
      "\tNo node Phone found!\n",
      "\tMean/Std Degree: 0.43/0.62\n",
      "\tMaxmimum Degree of 2.00 is 2.52 sigma away from the mean\n",
      "\tEdge list saved\n",
      "\tGraph PNG saved\n",
      "\tCentrality Dataframe saved\n",
      "Done\n",
      "Starting: Dyadic, B, 8, F\n",
      "Subject 1013 started - 1/4\n",
      "\tNo node Hand found!\n",
      "\tNo node Phone found!\n",
      "\tMean/Std Degree: 0.83/0.69\n",
      "\tMaxmimum Degree of 2.00 is 1.70 sigma away from the mean\n",
      "\tEdge list saved\n",
      "\tGraph PNG saved\n",
      "Subject 1022 started - 2/4\n",
      "\tNo node NoHit found!\n",
      "\tNo node Hand found!\n",
      "\tNo node Phone found!\n",
      "\tMean/Std Degree: 0.50/0.50\n",
      "\tMaxmimum Degree of 1.00 is 1.00 sigma away from the mean\n",
      "\tEdge list saved\n",
      "\tGraph PNG saved\n",
      "Subject 1055 started - 3/4\n",
      "\tNo node NoHit found!\n",
      "\tNo node Hand found!\n",
      "\tNo node Phone found!\n",
      "\tMean/Std Degree: 0.60/0.66\n",
      "\tMaxmimum Degree of 2.00 is 2.11 sigma away from the mean\n",
      "\tEdge list saved\n",
      "\tGraph PNG saved\n",
      "Subject 1069 started - 4/4\n",
      "\tNo node NoHit found!\n",
      "\tNo node Hand found!\n",
      "\tNo node Phone found!\n",
      "\tMean/Std Degree: 0.76/0.57\n",
      "\tMaxmimum Degree of 2.00 is 2.19 sigma away from the mean\n",
      "\tEdge list saved\n",
      "\tGraph PNG saved\n",
      "\tCentrality Dataframe saved\n",
      "Done\n",
      "Starting: Dyadic, B, 9, F\n",
      "Subject 1013 started - 1/4\n",
      "\tNo node NoHit found!\n",
      "\tNo node Hand found!\n",
      "\tNo node Phone found!\n",
      "\tMean/Std Degree: 0.00/0.00\n",
      "\tMaxmimum Degree of 0.00 is nan sigma away from the mean\n"
     ]
    },
    {
     "name": "stderr",
     "output_type": "stream",
     "text": [
      "C:\\Users\\Srinidhi\\.conda\\envs\\graphs\\lib\\site-packages\\ipykernel_launcher.py:178: RuntimeWarning: invalid value encountered in double_scalars\n"
     ]
    },
    {
     "name": "stdout",
     "output_type": "stream",
     "text": [
      "\tEdge list saved\n",
      "\tGraph PNG saved\n",
      "Subject 1022 started - 2/4\n",
      "\tNo node Hand found!\n",
      "\tNo node Phone found!\n",
      "\tMean/Std Degree: 0.17/0.37\n",
      "\tMaxmimum Degree of 1.00 is 2.24 sigma away from the mean\n",
      "\tEdge list saved\n",
      "\tGraph PNG saved\n",
      "Subject 1055 started - 3/4\n",
      "\tNo node Hand found!\n",
      "\tNo node Phone found!\n",
      "\tMean/Std Degree: 0.25/0.43\n",
      "\tMaxmimum Degree of 1.00 is 1.73 sigma away from the mean\n",
      "\tEdge list saved\n",
      "\tGraph PNG saved\n",
      "Subject 1069 started - 4/4\n",
      "\tNo node Phone found!\n",
      "\tMean/Std Degree: 0.27/0.44\n",
      "\tMaxmimum Degree of 1.00 is 1.66 sigma away from the mean\n",
      "\tEdge list saved\n",
      "\tGraph PNG saved\n",
      "\tCentrality Dataframe saved\n",
      "Done\n"
     ]
    }
   ],
   "source": [
    "# Individual subject graphs for all conditions\n",
    "# Follower paths with not enough fixations to create a graph:\n",
    "#    1017 path 1 (possibly 1057, 1058)\n",
    "#    1013 path 3 (possibly 1022, 1055, 1069)\n",
    "\n",
    "roles = [\"L\",\"F\"] if condition == \"Dyadic\" else [\"L\"]\n",
    "for direction in [\"A\",\"B\"]:\n",
    "    for role in roles:\n",
    "        for pathnum in range(1,10):\n",
    "            pathnum = str(pathnum)\n",
    "            dests = dests_A if direction == \"A\" else dests_B\n",
    "            if direction != \"all\": reduced = subject_performance[subject_performance.Condition == direction];\n",
    "            else: reduced = subject_performance\n",
    "\n",
    "            if condition == \"Dyadic\": \n",
    "                check = True if role == \"L\" else False\n",
    "                reduced = reduced[reduced[\"Leader?\"] == check];\n",
    "\n",
    "            subIDs = list(reduced.SubjectID)\n",
    "            if pathnum != \"all\": successes = list(reduced[\"P\"+pathnum+\":Success\"])\n",
    "\n",
    "            create_graphs(subIDs, direction, pathnum, role, successes, dests)"
   ]
  },
  {
   "cell_type": "code",
   "execution_count": 4,
   "metadata": {},
   "outputs": [
    {
     "data": {
      "text/html": [
       "<div>\n",
       "<style scoped>\n",
       "    .dataframe tbody tr th:only-of-type {\n",
       "        vertical-align: middle;\n",
       "    }\n",
       "\n",
       "    .dataframe tbody tr th {\n",
       "        vertical-align: top;\n",
       "    }\n",
       "\n",
       "    .dataframe thead th {\n",
       "        text-align: right;\n",
       "    }\n",
       "</style>\n",
       "<table border=\"1\" class=\"dataframe\">\n",
       "  <thead>\n",
       "    <tr style=\"text-align: right;\">\n",
       "      <th></th>\n",
       "      <th>SubjectID</th>\n",
       "      <th>Condition</th>\n",
       "      <th>Dyadic?</th>\n",
       "      <th>Leader?</th>\n",
       "      <th>SessionID</th>\n",
       "      <th>P1:Success</th>\n",
       "      <th>P1:TimeSec</th>\n",
       "      <th>P1:Time After Guide</th>\n",
       "      <th>P1:Distance Covered</th>\n",
       "      <th>P1:Dist After Fail</th>\n",
       "      <th>...</th>\n",
       "      <th>P8:TimeSec</th>\n",
       "      <th>P8:Time After Guide</th>\n",
       "      <th>P8:Distance Covered</th>\n",
       "      <th>P8:Dist After Fail</th>\n",
       "      <th>P9:Success</th>\n",
       "      <th>P9:TimeSec</th>\n",
       "      <th>P9:Time After Guide</th>\n",
       "      <th>P9:Distance Covered</th>\n",
       "      <th>P9:Dist After Fail</th>\n",
       "      <th>#Success</th>\n",
       "    </tr>\n",
       "  </thead>\n",
       "  <tbody>\n",
       "    <tr>\n",
       "      <th>0</th>\n",
       "      <td>1010</td>\n",
       "      <td>A</td>\n",
       "      <td>False</td>\n",
       "      <td>False</td>\n",
       "      <td>NaN</td>\n",
       "      <td>True</td>\n",
       "      <td>103.283452</td>\n",
       "      <td>-196.716548</td>\n",
       "      <td>476.096039</td>\n",
       "      <td>0.000000</td>\n",
       "      <td>...</td>\n",
       "      <td>149.935175</td>\n",
       "      <td>-233.064825</td>\n",
       "      <td>641.026161</td>\n",
       "      <td>0.000000</td>\n",
       "      <td>False</td>\n",
       "      <td>349.954884</td>\n",
       "      <td>17.954884</td>\n",
       "      <td>1619.421569</td>\n",
       "      <td>91.207877</td>\n",
       "      <td>7</td>\n",
       "    </tr>\n",
       "    <tr>\n",
       "      <th>1</th>\n",
       "      <td>1019</td>\n",
       "      <td>B</td>\n",
       "      <td>False</td>\n",
       "      <td>False</td>\n",
       "      <td>NaN</td>\n",
       "      <td>True</td>\n",
       "      <td>121.585427</td>\n",
       "      <td>-210.414573</td>\n",
       "      <td>588.410275</td>\n",
       "      <td>0.000000</td>\n",
       "      <td>...</td>\n",
       "      <td>62.756872</td>\n",
       "      <td>-242.243128</td>\n",
       "      <td>304.284589</td>\n",
       "      <td>0.000000</td>\n",
       "      <td>True</td>\n",
       "      <td>126.389681</td>\n",
       "      <td>-173.610319</td>\n",
       "      <td>626.570717</td>\n",
       "      <td>0.000000</td>\n",
       "      <td>9</td>\n",
       "    </tr>\n",
       "    <tr>\n",
       "      <th>2</th>\n",
       "      <td>1056</td>\n",
       "      <td>B</td>\n",
       "      <td>False</td>\n",
       "      <td>False</td>\n",
       "      <td>NaN</td>\n",
       "      <td>True</td>\n",
       "      <td>99.185621</td>\n",
       "      <td>-232.814379</td>\n",
       "      <td>474.406991</td>\n",
       "      <td>0.000000</td>\n",
       "      <td>...</td>\n",
       "      <td>376.036466</td>\n",
       "      <td>71.036466</td>\n",
       "      <td>1713.066832</td>\n",
       "      <td>356.673271</td>\n",
       "      <td>True</td>\n",
       "      <td>101.787637</td>\n",
       "      <td>-198.212363</td>\n",
       "      <td>490.774520</td>\n",
       "      <td>0.000000</td>\n",
       "      <td>7</td>\n",
       "    </tr>\n",
       "    <tr>\n",
       "      <th>3</th>\n",
       "      <td>1068</td>\n",
       "      <td>A</td>\n",
       "      <td>False</td>\n",
       "      <td>False</td>\n",
       "      <td>NaN</td>\n",
       "      <td>True</td>\n",
       "      <td>129.268349</td>\n",
       "      <td>-170.731651</td>\n",
       "      <td>574.518955</td>\n",
       "      <td>0.000000</td>\n",
       "      <td>...</td>\n",
       "      <td>117.311292</td>\n",
       "      <td>-265.688708</td>\n",
       "      <td>553.495537</td>\n",
       "      <td>0.000000</td>\n",
       "      <td>False</td>\n",
       "      <td>474.197720</td>\n",
       "      <td>142.197720</td>\n",
       "      <td>2198.983763</td>\n",
       "      <td>698.273760</td>\n",
       "      <td>7</td>\n",
       "    </tr>\n",
       "    <tr>\n",
       "      <th>4</th>\n",
       "      <td>1072</td>\n",
       "      <td>A</td>\n",
       "      <td>False</td>\n",
       "      <td>False</td>\n",
       "      <td>NaN</td>\n",
       "      <td>True</td>\n",
       "      <td>106.815908</td>\n",
       "      <td>-193.184092</td>\n",
       "      <td>528.177114</td>\n",
       "      <td>0.000000</td>\n",
       "      <td>...</td>\n",
       "      <td>113.280268</td>\n",
       "      <td>-269.719732</td>\n",
       "      <td>562.248210</td>\n",
       "      <td>0.000000</td>\n",
       "      <td>True</td>\n",
       "      <td>150.568494</td>\n",
       "      <td>-181.431506</td>\n",
       "      <td>670.313338</td>\n",
       "      <td>0.000000</td>\n",
       "      <td>8</td>\n",
       "    </tr>\n",
       "    <tr>\n",
       "      <th>5</th>\n",
       "      <td>1073</td>\n",
       "      <td>A</td>\n",
       "      <td>False</td>\n",
       "      <td>False</td>\n",
       "      <td>NaN</td>\n",
       "      <td>False</td>\n",
       "      <td>352.014228</td>\n",
       "      <td>52.014228</td>\n",
       "      <td>1698.387879</td>\n",
       "      <td>255.775648</td>\n",
       "      <td>...</td>\n",
       "      <td>175.417123</td>\n",
       "      <td>-207.582877</td>\n",
       "      <td>829.897009</td>\n",
       "      <td>0.000000</td>\n",
       "      <td>False</td>\n",
       "      <td>454.078002</td>\n",
       "      <td>122.078002</td>\n",
       "      <td>2196.108475</td>\n",
       "      <td>600.500869</td>\n",
       "      <td>5</td>\n",
       "    </tr>\n",
       "    <tr>\n",
       "      <th>6</th>\n",
       "      <td>1075</td>\n",
       "      <td>B</td>\n",
       "      <td>False</td>\n",
       "      <td>False</td>\n",
       "      <td>NaN</td>\n",
       "      <td>True</td>\n",
       "      <td>96.997154</td>\n",
       "      <td>-235.002846</td>\n",
       "      <td>450.548992</td>\n",
       "      <td>0.000000</td>\n",
       "      <td>...</td>\n",
       "      <td>58.880095</td>\n",
       "      <td>-246.119905</td>\n",
       "      <td>284.709058</td>\n",
       "      <td>0.000000</td>\n",
       "      <td>True</td>\n",
       "      <td>97.315090</td>\n",
       "      <td>-202.684910</td>\n",
       "      <td>476.694398</td>\n",
       "      <td>0.000000</td>\n",
       "      <td>9</td>\n",
       "    </tr>\n",
       "    <tr>\n",
       "      <th>7</th>\n",
       "      <td>1077</td>\n",
       "      <td>A</td>\n",
       "      <td>False</td>\n",
       "      <td>False</td>\n",
       "      <td>NaN</td>\n",
       "      <td>True</td>\n",
       "      <td>102.892725</td>\n",
       "      <td>-197.107275</td>\n",
       "      <td>480.416954</td>\n",
       "      <td>0.000000</td>\n",
       "      <td>...</td>\n",
       "      <td>211.720585</td>\n",
       "      <td>-171.279415</td>\n",
       "      <td>976.365778</td>\n",
       "      <td>0.000000</td>\n",
       "      <td>True</td>\n",
       "      <td>100.524325</td>\n",
       "      <td>-231.475675</td>\n",
       "      <td>467.020851</td>\n",
       "      <td>0.000000</td>\n",
       "      <td>7</td>\n",
       "    </tr>\n",
       "    <tr>\n",
       "      <th>8</th>\n",
       "      <td>1079</td>\n",
       "      <td>B</td>\n",
       "      <td>False</td>\n",
       "      <td>False</td>\n",
       "      <td>NaN</td>\n",
       "      <td>True</td>\n",
       "      <td>294.374525</td>\n",
       "      <td>-37.625475</td>\n",
       "      <td>1409.264233</td>\n",
       "      <td>0.000000</td>\n",
       "      <td>...</td>\n",
       "      <td>345.073664</td>\n",
       "      <td>40.073664</td>\n",
       "      <td>1600.080064</td>\n",
       "      <td>195.790279</td>\n",
       "      <td>True</td>\n",
       "      <td>274.738379</td>\n",
       "      <td>-25.261621</td>\n",
       "      <td>1269.599908</td>\n",
       "      <td>0.000000</td>\n",
       "      <td>7</td>\n",
       "    </tr>\n",
       "    <tr>\n",
       "      <th>9</th>\n",
       "      <td>1080</td>\n",
       "      <td>A</td>\n",
       "      <td>False</td>\n",
       "      <td>False</td>\n",
       "      <td>NaN</td>\n",
       "      <td>True</td>\n",
       "      <td>137.255427</td>\n",
       "      <td>-162.744573</td>\n",
       "      <td>659.431672</td>\n",
       "      <td>0.000000</td>\n",
       "      <td>...</td>\n",
       "      <td>125.162962</td>\n",
       "      <td>-257.837038</td>\n",
       "      <td>555.606218</td>\n",
       "      <td>0.000000</td>\n",
       "      <td>False</td>\n",
       "      <td>432.332893</td>\n",
       "      <td>100.332893</td>\n",
       "      <td>1953.778391</td>\n",
       "      <td>484.897133</td>\n",
       "      <td>6</td>\n",
       "    </tr>\n",
       "  </tbody>\n",
       "</table>\n",
       "<p>10 rows × 51 columns</p>\n",
       "</div>"
      ],
      "text/plain": [
       "   SubjectID Condition  Dyadic?  Leader?  SessionID  P1:Success  P1:TimeSec  \\\n",
       "0       1010         A    False    False        NaN        True  103.283452   \n",
       "1       1019         B    False    False        NaN        True  121.585427   \n",
       "2       1056         B    False    False        NaN        True   99.185621   \n",
       "3       1068         A    False    False        NaN        True  129.268349   \n",
       "4       1072         A    False    False        NaN        True  106.815908   \n",
       "5       1073         A    False    False        NaN       False  352.014228   \n",
       "6       1075         B    False    False        NaN        True   96.997154   \n",
       "7       1077         A    False    False        NaN        True  102.892725   \n",
       "8       1079         B    False    False        NaN        True  294.374525   \n",
       "9       1080         A    False    False        NaN        True  137.255427   \n",
       "\n",
       "   P1:Time After Guide  P1:Distance Covered  P1:Dist After Fail  ...  \\\n",
       "0          -196.716548           476.096039            0.000000  ...   \n",
       "1          -210.414573           588.410275            0.000000  ...   \n",
       "2          -232.814379           474.406991            0.000000  ...   \n",
       "3          -170.731651           574.518955            0.000000  ...   \n",
       "4          -193.184092           528.177114            0.000000  ...   \n",
       "5            52.014228          1698.387879          255.775648  ...   \n",
       "6          -235.002846           450.548992            0.000000  ...   \n",
       "7          -197.107275           480.416954            0.000000  ...   \n",
       "8           -37.625475          1409.264233            0.000000  ...   \n",
       "9          -162.744573           659.431672            0.000000  ...   \n",
       "\n",
       "   P8:TimeSec  P8:Time After Guide  P8:Distance Covered  P8:Dist After Fail  \\\n",
       "0  149.935175          -233.064825           641.026161            0.000000   \n",
       "1   62.756872          -242.243128           304.284589            0.000000   \n",
       "2  376.036466            71.036466          1713.066832          356.673271   \n",
       "3  117.311292          -265.688708           553.495537            0.000000   \n",
       "4  113.280268          -269.719732           562.248210            0.000000   \n",
       "5  175.417123          -207.582877           829.897009            0.000000   \n",
       "6   58.880095          -246.119905           284.709058            0.000000   \n",
       "7  211.720585          -171.279415           976.365778            0.000000   \n",
       "8  345.073664            40.073664          1600.080064          195.790279   \n",
       "9  125.162962          -257.837038           555.606218            0.000000   \n",
       "\n",
       "   P9:Success  P9:TimeSec  P9:Time After Guide  P9:Distance Covered  \\\n",
       "0       False  349.954884            17.954884          1619.421569   \n",
       "1        True  126.389681          -173.610319           626.570717   \n",
       "2        True  101.787637          -198.212363           490.774520   \n",
       "3       False  474.197720           142.197720          2198.983763   \n",
       "4        True  150.568494          -181.431506           670.313338   \n",
       "5       False  454.078002           122.078002          2196.108475   \n",
       "6        True   97.315090          -202.684910           476.694398   \n",
       "7        True  100.524325          -231.475675           467.020851   \n",
       "8        True  274.738379           -25.261621          1269.599908   \n",
       "9       False  432.332893           100.332893          1953.778391   \n",
       "\n",
       "   P9:Dist After Fail  #Success  \n",
       "0           91.207877         7  \n",
       "1            0.000000         9  \n",
       "2            0.000000         7  \n",
       "3          698.273760         7  \n",
       "4            0.000000         8  \n",
       "5          600.500869         5  \n",
       "6            0.000000         9  \n",
       "7            0.000000         7  \n",
       "8            0.000000         7  \n",
       "9          484.897133         6  \n",
       "\n",
       "[10 rows x 51 columns]"
      ]
     },
     "execution_count": 4,
     "metadata": {},
     "output_type": "execute_result"
    }
   ],
   "source": [
    "subject_performance"
   ]
  },
  {
   "cell_type": "code",
   "execution_count": 49,
   "metadata": {},
   "outputs": [
    {
     "data": {
      "text/plain": [
       "['TaskBuilding_53',\n",
       " 'TaskBuilding_4',\n",
       " 'TaskBuilding_9',\n",
       " 'TaskBuilding_1',\n",
       " 'TaskBuilding_29',\n",
       " 'Building_186',\n",
       " 'TaskBuilding_7',\n",
       " 'TaskBuilding_39',\n",
       " 'TaskBuilding_41',\n",
       " 'Windmill-TaskBuilding_10_1']"
      ]
     },
     "execution_count": 49,
     "metadata": {},
     "output_type": "execute_result"
    }
   ],
   "source": [
    "subIDs\n",
    "successes\n",
    "dests"
   ]
  },
  {
   "cell_type": "markdown",
   "metadata": {},
   "source": [
    "## Graph Creation\n",
    "* The graph creation involves the following steps:\n",
    "    * creating the edge list\n",
    "        * Remove non Fixations (SampleSize <= 21) \n",
    "        * Remove all noHouse hits \n",
    "        * Remove all noHit hits \n",
    "        * Remove all self repetitions\n",
    "        * Shift the edgelist by one row and create chronology \n",
    "    * Use NetworkX to build the graph\n",
    "    * Plot the graph onto the city map (using map coordinates)"
   ]
  },
  {
   "cell_type": "markdown",
   "metadata": {},
   "source": []
  },
  {
   "cell_type": "code",
   "execution_count": 11,
   "metadata": {
    "scrolled": false
   },
   "outputs": [],
   "source": [
    "\n",
    "def create_graphs(subIDs, direction, pathnum, role, successes, dests):\n",
    "    print(\"Starting: {}, {}, {}, {}\".format(condition, direction, pathnum, role))\n",
    "    # --------- Preparation ---------\n",
    "    Plotting_bool = True # if you want to plot the graph\n",
    "    EdgeList_save_bool = True # if you want to save the edge list \n",
    "    Graph_save_img_bool = True # if you want to save the graph as an image\n",
    "    plot_edges_bool = True # if you want to plot the graph's edges\n",
    "    save_centrality = True # if you want to save the centrality dataframe (node degree) as csv \n",
    "\n",
    "\n",
    "    fixation_time = 0.2333333\n",
    "\n",
    "    # implement parula color map scheme from matlab \n",
    "    cm_data = [[0.2081, 0.1663, 0.5292], [0.2116238095, 0.1897809524, 0.5776761905], \n",
    "     [0.212252381, 0.2137714286, 0.6269714286], [0.2081, 0.2386, 0.6770857143], \n",
    "     [0.1959047619, 0.2644571429, 0.7279], [0.1707285714, 0.2919380952, \n",
    "      0.779247619], [0.1252714286, 0.3242428571, 0.8302714286], \n",
    "     [0.0591333333, 0.3598333333, 0.8683333333], [0.0116952381, 0.3875095238, \n",
    "      0.8819571429], [0.0059571429, 0.4086142857, 0.8828428571], \n",
    "     [0.0165142857, 0.4266, 0.8786333333], [0.032852381, 0.4430428571, \n",
    "      0.8719571429], [0.0498142857, 0.4585714286, 0.8640571429], \n",
    "     [0.0629333333, 0.4736904762, 0.8554380952], [0.0722666667, 0.4886666667, \n",
    "      0.8467], [0.0779428571, 0.5039857143, 0.8383714286], \n",
    "     [0.079347619, 0.5200238095, 0.8311809524], [0.0749428571, 0.5375428571, \n",
    "      0.8262714286], [0.0640571429, 0.5569857143, 0.8239571429], \n",
    "     [0.0487714286, 0.5772238095, 0.8228285714], [0.0343428571, 0.5965809524, \n",
    "      0.819852381], [0.0265, 0.6137, 0.8135], [0.0238904762, 0.6286619048, \n",
    "      0.8037619048], [0.0230904762, 0.6417857143, 0.7912666667], \n",
    "     [0.0227714286, 0.6534857143, 0.7767571429], [0.0266619048, 0.6641952381, \n",
    "      0.7607190476], [0.0383714286, 0.6742714286, 0.743552381], \n",
    "     [0.0589714286, 0.6837571429, 0.7253857143], \n",
    "     [0.0843, 0.6928333333, 0.7061666667], [0.1132952381, 0.7015, 0.6858571429], \n",
    "     [0.1452714286, 0.7097571429, 0.6646285714], [0.1801333333, 0.7176571429, \n",
    "      0.6424333333], [0.2178285714, 0.7250428571, 0.6192619048], \n",
    "     [0.2586428571, 0.7317142857, 0.5954285714], [0.3021714286, 0.7376047619, \n",
    "      0.5711857143], [0.3481666667, 0.7424333333, 0.5472666667], \n",
    "     [0.3952571429, 0.7459, 0.5244428571], [0.4420095238, 0.7480809524, \n",
    "      0.5033142857], [0.4871238095, 0.7490619048, 0.4839761905], \n",
    "     [0.5300285714, 0.7491142857, 0.4661142857], [0.5708571429, 0.7485190476, \n",
    "      0.4493904762], [0.609852381, 0.7473142857, 0.4336857143], \n",
    "     [0.6473, 0.7456, 0.4188], [0.6834190476, 0.7434761905, 0.4044333333], \n",
    "     [0.7184095238, 0.7411333333, 0.3904761905], \n",
    "     [0.7524857143, 0.7384, 0.3768142857], [0.7858428571, 0.7355666667, \n",
    "      0.3632714286], [0.8185047619, 0.7327333333, 0.3497904762], \n",
    "     [0.8506571429, 0.7299, 0.3360285714], [0.8824333333, 0.7274333333, 0.3217], \n",
    "     [0.9139333333, 0.7257857143, 0.3062761905], [0.9449571429, 0.7261142857, \n",
    "      0.2886428571], [0.9738952381, 0.7313952381, 0.266647619], \n",
    "     [0.9937714286, 0.7454571429, 0.240347619], [0.9990428571, 0.7653142857, \n",
    "      0.2164142857], [0.9955333333, 0.7860571429, 0.196652381], \n",
    "     [0.988, 0.8066, 0.1793666667], [0.9788571429, 0.8271428571, 0.1633142857], \n",
    "     [0.9697, 0.8481380952, 0.147452381], [0.9625857143, 0.8705142857, 0.1309], \n",
    "     [0.9588714286, 0.8949, 0.1132428571], [0.9598238095, 0.9218333333, \n",
    "      0.0948380952], [0.9661, 0.9514428571, 0.0755333333], \n",
    "     [0.9763, 0.9831, 0.0538]]\n",
    "\n",
    "    parula_map = LinearSegmentedColormap.from_list('parula', cm_data)\n",
    "\n",
    "    # load the city map image\n",
    "    white_bg_img = cv2.imread(\"./ressources/map_white.png\")\n",
    "\n",
    "    # Dataframe for degrees with colums = subject + houselist\n",
    "    centrality_df = pd.DataFrame(columns= [*['Subject'], *np.unique(houselist.target_collider_name)])\n",
    "    subcount = 0 # count subjects\n",
    "\n",
    "\n",
    "    # --------- MAIN PART ---------\n",
    "    # load the files \n",
    "    for index, subject in enumerate(subIDs):\n",
    "        subcount +=1\n",
    "        print('Subject ' + str(subject) + ' started - ' + str(subcount) + '/' + str(len(subIDs)))\n",
    "\n",
    "        # get the data files according to the subject\n",
    "        subject_folder = sorted([f for f in PROCESSED_DATA_FOLDER \n",
    "                                 if f.startswith(str(subject)+'_interpolation_df')], key=str.lower)\n",
    "\n",
    "        if len(subject_folder) != 0:\n",
    "\n",
    "            # open the JSON file as dictionary\n",
    "            with open(PROCESSED_DATA_PATH + subject_folder[0]) as f:\n",
    "                try:\n",
    "                    interpolated_data = pd.read_csv(f)\n",
    "                except:\n",
    "                        print(\"\\tCould not load subject \" + str(subject) + \" interpolation dataframe!\")\n",
    "\n",
    "        else:\n",
    "            print('Subject ' + str(subject) + ' has no data file!')\n",
    "            continue \n",
    "\n",
    "        edge_list = pd.DataFrame(columns=['Edge1','Edge2'])\n",
    "\n",
    "\n",
    "        if pathnum != \"all\":\n",
    "            interpolated_data = interpolated_data[interpolated_data.PathNumber == int(pathnum)];\n",
    "\n",
    "        # --------- EDGE LIST CREATION ---------\n",
    "\n",
    "        # filter out Clusters with <=21 hits, 'NoHouse' hits, 'NoHit' hits and self repititions (with unique)\n",
    "        transition = interpolated_data[interpolated_data.timeDiff>fixation_time]\n",
    "        \n",
    "        unique_count = transition.ColliderName.groupby((transition['ColliderName'] \n",
    "                                                != transition['ColliderName'].shift()).cumsum()).cumcount() + 1\n",
    "\n",
    "        \n",
    "        # Assign filtered gaze hits to the edge list \n",
    "        edge_list.Edge1 = transition[unique_count==1].ColliderName\n",
    "        edge_list.reset_index(inplace=True, drop=True)\n",
    "\n",
    "        if(len(edge_list.Edge1) > 1):\n",
    "            # shift the gaze hits by one and add the last entry of Edge1 to the first of Edge 2\n",
    "            edge_list.Edge2[1:len(edge_list)-1] = edge_list.Edge1[0:len(edge_list)-2]\n",
    "            edge_list.loc[0, 'Edge2'] = edge_list.Edge1[len(edge_list)-1]\n",
    "            edge_list.loc[len(edge_list)-1, 'Edge2'] = edge_list.Edge1[0]\n",
    "            # create graph from edgelist\n",
    "            G = nx.Graph()\n",
    "            G = nx.from_pandas_edgelist(edge_list, 'Edge1', 'Edge2')\n",
    "        else:\n",
    "            # create graph from single node\n",
    "            G = nx.Graph()\n",
    "            G.add_node(edge_list.Edge1[0])\n",
    "            \n",
    "        # --------- GRAPH CREATION ---------\n",
    "\n",
    "        # Remove non-building nodes\n",
    "        for node_ in [\"NoHouse\", \"NoHit\", \"Hand\", \"Avatar\", \"Phone\"]:\n",
    "            # Remove the NoHouse Node\n",
    "            try:\n",
    "                G.remove_node(node_)\n",
    "            except:\n",
    "                print(\"\\tNo node \" + node_ + \" found!\")\n",
    "\n",
    "        degree_list = list(dict(G.degree).values())\n",
    "\n",
    "        # Setting the node coordinates of each node of the graph\n",
    "\n",
    "\n",
    "        # node list\n",
    "        nodelist = list(G.nodes)\n",
    "\n",
    "        # create the coordinate dictionary and assign coordinates from the houselist to the graph nodes\n",
    "        node_pos = {}\n",
    "\n",
    "        for node in nodelist:\n",
    "            # assign node coordinates\n",
    "            x = houselist['transformed_collidercenter_x'][houselist.target_collider_name==node].values[0]\n",
    "            y = houselist['transformed_collidercenter_y'][houselist.target_collider_name==node].values[0]\n",
    "            node_pos[node] = (x,y) \n",
    "\n",
    "        # set the graph's node coordinates attribute\n",
    "        nx.set_node_attributes(G, node_pos, 'coord')\n",
    "\n",
    "\n",
    "\n",
    "\n",
    "        # --------- ANALYSIS ---------\n",
    "\n",
    "        # create degree list of the graph \n",
    "        sub_degree = dict(G.degree)\n",
    "\n",
    "\n",
    "        mean_degree = np.nanmean(list(sub_degree.values()))\n",
    "        std_degree = np.nanstd(list(sub_degree.values()))\n",
    "        max_degree = max(list(sub_degree.values()))\n",
    "\n",
    "\n",
    "        # add the subject ID to the dictionary\n",
    "        sub_degree.update({'Subject': str(subject)})  \n",
    "        # append the centrality df by the subjects degree list\n",
    "        centrality_df = centrality_df.append(sub_degree, ignore_index=True)\n",
    "        #centrality_df['betweenness'] = list(nx.betweenness_centrality(G))\n",
    "\n",
    "\n",
    "\n",
    "        print('\\tMean/Std Degree: ' + str(\"{:.2f}\".format(mean_degree)) + '/' + str(\"{:.2f}\".format(std_degree)))\n",
    "        print('\\tMaxmimum Degree of ' \n",
    "              + str(\"{:.2f}\".format(max_degree)) \n",
    "              + ' is ' +\n",
    "              \"{:.2f}\".format((max_degree-mean_degree)/std_degree)\n",
    "              + ' sigma away from the mean')\n",
    "\n",
    "\n",
    "\n",
    "        # --------- PLOTTING ---------    \n",
    "\n",
    "        if Plotting_bool == True:\n",
    "\n",
    "            # plot the map\n",
    "            fig = plt.figure(figsize=(20,15))\n",
    "            ax = plt.subplot2grid((10, 10), (0, 0), colspan=9,rowspan=10)\n",
    "            tit = \"Graph on Map - Subject \" + str(subject) + \", \" + direction + \", \" + str(pathnum)\n",
    "            if pathnum != \"all\" : tit += \", \" + (\"Success\" if successes[index] else \"Fail\")\n",
    "            if condition == \"Dyadic\": tit += \", \" + (\"Leader\" if role == \"L\" else \"Follower\")\n",
    "            plt.title(tit)\n",
    "            plt.xlim(0, 4096)\n",
    "            plt.ylim(0, 4096)\n",
    "            ax.set_frame_on(False)\n",
    "            plt.axis('off')\n",
    "            plt.imshow(white_bg_img,aspect=ax.get_aspect(),\n",
    "                     extent= ax.get_xlim() + ax.get_ylim(),\n",
    "                     zorder=1, alpha=0.8)\n",
    "\n",
    "            # Draw the graph \n",
    "            vmin = np.min(degree_list)\n",
    "            vmax = np.max(degree_list)\n",
    "\n",
    "            nx.draw_networkx_nodes(G,\n",
    "                                   node_pos, \n",
    "                                   alpha = 1, \n",
    "                                   node_size = 100, \n",
    "                                   node_color=degree_list, \n",
    "                                   cmap=parula_map)\n",
    "\n",
    "            if plot_edges_bool == True:\n",
    "                nx.draw_networkx_edges(G, \n",
    "                                       node_pos, \n",
    "                                       edge_color='k', \n",
    "                                       alpha=0.5, \n",
    "                                       width=1,\n",
    "                                       style='dashed')\n",
    "\n",
    "\n",
    "            if pathnum != \"all\":\n",
    "                orig = dests[int(pathnum) - 1]\n",
    "                dest = dests[int(pathnum)]\n",
    "                orig_x = houselist['transformed_collidercenter_x'][houselist.target_collider_name==orig].values[0]\n",
    "                dest_x = houselist['transformed_collidercenter_x'][houselist.target_collider_name==dest].values[0]\n",
    "\n",
    "                orig_y = houselist['transformed_collidercenter_y'][houselist.target_collider_name==orig].values[0]\n",
    "                dest_y = houselist['transformed_collidercenter_y'][houselist.target_collider_name==dest].values[0]\n",
    "\n",
    "                orig_circle = plt.Circle((orig_x, orig_y), 60, color='g', fill=False, linewidth=2.5, alpha=1)\n",
    "                dest_circle = plt.Circle((dest_x, dest_y), 60, color='r', fill=False, linewidth=2.5, alpha=1)\n",
    "                plt.gca().add_patch(orig_circle)\n",
    "                plt.gca().add_patch(dest_circle)\n",
    "\n",
    "            sm = plt.cm.ScalarMappable(cmap=parula_map, norm=plt.Normalize(vmin=vmin, vmax=vmax))\n",
    "            sm.set_array([])\n",
    "            cbar = plt.colorbar(sm)\n",
    "            cbar.ax.tick_params(labelsize=20)\n",
    "            cbar.set_label('Node Degree', size=20)\n",
    "\n",
    "        else:\n",
    "            Graph_save_img_bool = False\n",
    "\n",
    "\n",
    "        # --------- SAVING ---------\n",
    "\n",
    "        # save the edge list \n",
    "        if EdgeList_save_bool == True:\n",
    "            # saving the subject info dataframe\n",
    "            filename = str(subject) + \"_\" + direction + \"_\" + str(pathnum)\n",
    "            if pathnum != \"all\" : filename += \"_\" + (\"Succ\" if successes[index] else \"Fail\")\n",
    "            if condition == \"Dyadic\": filename += \"_\" + role\n",
    "            filename += \"_edgelist.csv\"\n",
    "            try:\n",
    "                edge_list.to_csv(PROCESSED_GRAPH_PATH\n",
    "                                + filename, \n",
    "                                index=False)\n",
    "\n",
    "                print(\"\\tEdge list saved\")\n",
    "            except:\n",
    "                print(\"\\tCould not save subject \" + str(subject) + \" edge list!\")\n",
    "\n",
    "\n",
    "\n",
    "        # save the graph as png \n",
    "        if Graph_save_img_bool == True:\n",
    "            # saving the subject info dataframe\n",
    "            filename = str(subject) + \"_\" + direction + \"_\" + str(pathnum)\n",
    "            if pathnum != \"all\" : filename += \"_\" + (\"Succ\" if successes[index] else \"Fail\")\n",
    "            if condition == \"Dyadic\": filename += \"_\" + role\n",
    "            filename += \"_Graph.png\"\n",
    "            try:\n",
    "                plt.savefig(PROCESSED_GRAPH_PATH + filename,\n",
    "                            format=\"PNG\", \n",
    "                            facecolor='white',\n",
    "                            transparent=False)\n",
    "\n",
    "\n",
    "                print(\"\\tGraph PNG saved\")\n",
    "            except:\n",
    "                print(\"\\tCould not save \" + filename + \" Graph as PNG!\")\n",
    "\n",
    "\n",
    "        plt.close(fig)\n",
    "    # Add the mean over both axes to the centrality df and save it \n",
    "\n",
    "    \n",
    "    house_mean_dict = dict(centrality_df.loc[:,centrality_df.columns[1:]].mean(axis=0))\n",
    "    house_mean_dict.update({'Subject': 'Mean'})  \n",
    "\n",
    "    house_std_dict = dict(centrality_df.loc[:,centrality_df.columns[1:]].std(axis=0))\n",
    "    house_std_dict.update({'Subject': 'STD'})  \n",
    "\n",
    "    centrality_df = centrality_df.append(house_mean_dict, ignore_index=True)\n",
    "    centrality_df = centrality_df.append(house_std_dict, ignore_index=True)\n",
    "\n",
    "    subject_mean = centrality_df.loc[:,centrality_df.columns[1:]].mean(axis=1)\n",
    "    subject_std = centrality_df.loc[:,centrality_df.columns[1:]].std(axis=1)\n",
    "\n",
    "    centrality_df['Mean'] = subject_mean\n",
    "    centrality_df['STD'] = subject_std\n",
    "\n",
    "\n",
    "    if save_centrality == True: \n",
    "        # saving the subject info dataframe\n",
    "        filename = direction + \"_\" + str(pathnum)\n",
    "        if condition == \"Dyadic\": filename += \"_\" + role\n",
    "        filename += \"_centrality_df.csv\"\n",
    "        try:\n",
    "            centrality_df.to_csv(PROCESSED_GRAPH_PATH\n",
    "                            + filename, \n",
    "                            index=False)\n",
    "\n",
    "            print(\"\\tCentrality Dataframe saved\")\n",
    "        except:\n",
    "            print(\"\\tCould not save centrality dataframe!\")\n",
    "\n",
    "\n",
    "\n",
    "\n",
    "    print('Done')\n"
   ]
  },
  {
   "cell_type": "code",
   "execution_count": 27,
   "metadata": {},
   "outputs": [
    {
     "data": {
      "text/plain": [
       "False"
      ]
     },
     "execution_count": 27,
     "metadata": {},
     "output_type": "execute_result"
    }
   ],
   "source": [
    "interpolated_data[interpolated_data.PathNumber == pathnum]"
   ]
  },
  {
   "cell_type": "markdown",
   "metadata": {},
   "source": [
    "## Plotting the average subject graph"
   ]
  },
  {
   "cell_type": "code",
   "execution_count": 24,
   "metadata": {},
   "outputs": [],
   "source": [
    "centralities = [f for f in PROCESSED_GRAPH_FOLDER if f.endswith(\"centrality_df.csv\")]\n",
    "\n",
    "direction = \"A\" # A or B\n",
    "role = \"F\" # L or F\n",
    "pathnum = \"all\" # all, or 1-9\n",
    "successes = []\n",
    "\n",
    "dests = dests_A if direction == \"A\" else dests_B\n",
    "if direction != \"all\": reduced = subject_performance[subject_performance.Condition == direction];\n",
    "else: reduced = subject_performance\n",
    "    \n",
    "if condition == \"Dyadic\": \n",
    "    check = True if role == \"L\" else False\n",
    "    reduced = reduced[reduced[\"Leader?\"] == check];\n",
    "    \n",
    "subIDs = list(reduced.SubjectID)\n",
    "if pathnum != \"all\": successes = list(reduced[\"P\"+pathnum+\":Success\"])\n"
   ]
  },
  {
   "cell_type": "code",
   "execution_count": 25,
   "metadata": {},
   "outputs": [
    {
     "data": {
      "text/plain": [
       "['A_1_F_centrality_df.csv',\n",
       " 'A_1_L_centrality_df.csv',\n",
       " 'A_2_F_centrality_df.csv',\n",
       " 'A_2_L_centrality_df.csv',\n",
       " 'A_3_F_centrality_df.csv',\n",
       " 'A_3_L_centrality_df.csv',\n",
       " 'A_4_F_centrality_df.csv',\n",
       " 'A_4_L_centrality_df.csv',\n",
       " 'A_5_F_centrality_df.csv',\n",
       " 'A_5_L_centrality_df.csv',\n",
       " 'A_6_F_centrality_df.csv',\n",
       " 'A_6_L_centrality_df.csv',\n",
       " 'A_7_F_centrality_df.csv',\n",
       " 'A_7_L_centrality_df.csv',\n",
       " 'A_8_F_centrality_df.csv',\n",
       " 'A_8_L_centrality_df.csv',\n",
       " 'A_9_F_centrality_df.csv',\n",
       " 'A_9_L_centrality_df.csv',\n",
       " 'A_all_F_centrality_df.csv',\n",
       " 'A_all_L_centrality_df.csv',\n",
       " 'B_1_F_centrality_df.csv',\n",
       " 'B_1_L_centrality_df.csv',\n",
       " 'B_2_F_centrality_df.csv',\n",
       " 'B_2_L_centrality_df.csv',\n",
       " 'B_3_F_centrality_df.csv',\n",
       " 'B_3_L_centrality_df.csv',\n",
       " 'B_4_F_centrality_df.csv',\n",
       " 'B_4_L_centrality_df.csv',\n",
       " 'B_5_F_centrality_df.csv',\n",
       " 'B_5_L_centrality_df.csv',\n",
       " 'B_6_F_centrality_df.csv',\n",
       " 'B_6_L_centrality_df.csv',\n",
       " 'B_7_F_centrality_df.csv',\n",
       " 'B_7_L_centrality_df.csv',\n",
       " 'B_8_F_centrality_df.csv',\n",
       " 'B_8_L_centrality_df.csv',\n",
       " 'B_9_F_centrality_df.csv',\n",
       " 'B_9_L_centrality_df.csv',\n",
       " 'B_all_F_centrality_df.csv',\n",
       " 'B_all_L_centrality_df.csv']"
      ]
     },
     "execution_count": 25,
     "metadata": {},
     "output_type": "execute_result"
    }
   ],
   "source": [
    "centralities"
   ]
  },
  {
   "cell_type": "code",
   "execution_count": 18,
   "metadata": {},
   "outputs": [
    {
     "data": {
      "text/plain": [
       "'./Results/SingleC/Graphs/'"
      ]
     },
     "execution_count": 18,
     "metadata": {},
     "output_type": "execute_result"
    }
   ],
   "source": [
    "PROCESSED_GRAPH_PATH"
   ]
  },
  {
   "cell_type": "code",
   "execution_count": 19,
   "metadata": {},
   "outputs": [
    {
     "name": "stdout",
     "output_type": "stream",
     "text": [
      "Starting: SingleC, A_all_centrality_df.csv\n",
      "Average Graph PNG saved\n",
      "Average Graph PNG saved\n",
      "Done\n",
      "Starting: SingleC, B_all_centrality_df.csv\n",
      "Average Graph PNG saved\n",
      "Average Graph PNG saved\n",
      "Done\n"
     ]
    }
   ],
   "source": [
    "# average graph for condition - single and singlec\n",
    "create_avg_graph(\"A_all_centrality_df.csv\")\n",
    "create_avg_graph(\"B_all_centrality_df.csv\")"
   ]
  },
  {
   "cell_type": "code",
   "execution_count": 20,
   "metadata": {
    "scrolled": true
   },
   "outputs": [
    {
     "name": "stdout",
     "output_type": "stream",
     "text": [
      "Starting: SingleC, A_1_centrality_df.csv\n",
      "Average Graph PNG saved\n",
      "Average Graph PNG saved\n",
      "Done\n",
      "Starting: SingleC, A_2_centrality_df.csv\n",
      "Average Graph PNG saved\n",
      "Average Graph PNG saved\n",
      "Done\n",
      "Starting: SingleC, A_3_centrality_df.csv\n",
      "Average Graph PNG saved\n",
      "Average Graph PNG saved\n",
      "Done\n",
      "Starting: SingleC, A_4_centrality_df.csv\n",
      "Average Graph PNG saved\n",
      "Average Graph PNG saved\n",
      "Done\n",
      "Starting: SingleC, A_5_centrality_df.csv\n",
      "Average Graph PNG saved\n",
      "Average Graph PNG saved\n",
      "Done\n",
      "Starting: SingleC, A_6_centrality_df.csv\n",
      "Average Graph PNG saved\n",
      "Average Graph PNG saved\n",
      "Done\n",
      "Starting: SingleC, A_7_centrality_df.csv\n",
      "Average Graph PNG saved\n",
      "Average Graph PNG saved\n",
      "Done\n",
      "Starting: SingleC, A_8_centrality_df.csv\n",
      "Average Graph PNG saved\n",
      "Average Graph PNG saved\n",
      "Done\n",
      "Starting: SingleC, A_9_centrality_df.csv\n",
      "Average Graph PNG saved\n",
      "Average Graph PNG saved\n",
      "Done\n",
      "Starting: SingleC, B_1_centrality_df.csv\n",
      "Average Graph PNG saved\n",
      "Average Graph PNG saved\n",
      "Done\n",
      "Starting: SingleC, B_2_centrality_df.csv\n",
      "Average Graph PNG saved\n",
      "Average Graph PNG saved\n",
      "Done\n",
      "Starting: SingleC, B_3_centrality_df.csv\n",
      "Average Graph PNG saved\n",
      "Average Graph PNG saved\n",
      "Done\n",
      "Starting: SingleC, B_4_centrality_df.csv\n",
      "Average Graph PNG saved\n",
      "Average Graph PNG saved\n",
      "Done\n",
      "Starting: SingleC, B_5_centrality_df.csv\n",
      "Average Graph PNG saved\n",
      "Average Graph PNG saved\n",
      "Done\n",
      "Starting: SingleC, B_6_centrality_df.csv\n",
      "Average Graph PNG saved\n",
      "Average Graph PNG saved\n",
      "Done\n",
      "Starting: SingleC, B_7_centrality_df.csv\n",
      "Average Graph PNG saved\n",
      "Average Graph PNG saved\n",
      "Done\n",
      "Starting: SingleC, B_8_centrality_df.csv\n",
      "Average Graph PNG saved\n",
      "Average Graph PNG saved\n",
      "Done\n",
      "Starting: SingleC, B_9_centrality_df.csv\n",
      "Average Graph PNG saved\n",
      "Average Graph PNG saved\n",
      "Done\n"
     ]
    }
   ],
   "source": [
    "# Average graphs for all paths - single, singlec\n",
    "for direction in [\"A_\", \"B_\"]:\n",
    "    for pathnum in range(1,10):\n",
    "        filename = direction + str(pathnum) + \"_centrality_df.csv\";\n",
    "        create_avg_graph(filename)\n",
    "        "
   ]
  },
  {
   "cell_type": "code",
   "execution_count": 21,
   "metadata": {},
   "outputs": [
    {
     "name": "stdout",
     "output_type": "stream",
     "text": [
      "Starting: SingleC, A_1_centrality_df.csv\n",
      "Average Graph PNG saved\n",
      "Average Graph PNG saved\n",
      "Done\n",
      "Starting: SingleC, A_2_centrality_df.csv\n"
     ]
    },
    {
     "name": "stderr",
     "output_type": "stream",
     "text": [
      "C:\\Users\\Srinidhi\\.conda\\envs\\graphs\\lib\\site-packages\\numpy\\lib\\histograms.py:836: RuntimeWarning: invalid value encountered in greater_equal\n",
      "  keep = (tmp_a >= first_edge)\n",
      "C:\\Users\\Srinidhi\\.conda\\envs\\graphs\\lib\\site-packages\\numpy\\lib\\histograms.py:837: RuntimeWarning: invalid value encountered in less_equal\n",
      "  keep &= (tmp_a <= last_edge)\n"
     ]
    },
    {
     "name": "stdout",
     "output_type": "stream",
     "text": [
      "Average Graph PNG saved\n",
      "Average Graph PNG saved\n",
      "Done\n",
      "Starting: SingleC, A_3_centrality_df.csv\n"
     ]
    },
    {
     "name": "stderr",
     "output_type": "stream",
     "text": [
      "C:\\Users\\Srinidhi\\.conda\\envs\\graphs\\lib\\site-packages\\numpy\\lib\\histograms.py:836: RuntimeWarning: invalid value encountered in greater_equal\n",
      "  keep = (tmp_a >= first_edge)\n",
      "C:\\Users\\Srinidhi\\.conda\\envs\\graphs\\lib\\site-packages\\numpy\\lib\\histograms.py:837: RuntimeWarning: invalid value encountered in less_equal\n",
      "  keep &= (tmp_a <= last_edge)\n"
     ]
    },
    {
     "name": "stdout",
     "output_type": "stream",
     "text": [
      "Average Graph PNG saved\n",
      "Average Graph PNG saved\n",
      "Done\n",
      "Starting: SingleC, A_4_centrality_df.csv\n"
     ]
    },
    {
     "name": "stderr",
     "output_type": "stream",
     "text": [
      "C:\\Users\\Srinidhi\\.conda\\envs\\graphs\\lib\\site-packages\\numpy\\lib\\histograms.py:836: RuntimeWarning: invalid value encountered in greater_equal\n",
      "  keep = (tmp_a >= first_edge)\n",
      "C:\\Users\\Srinidhi\\.conda\\envs\\graphs\\lib\\site-packages\\numpy\\lib\\histograms.py:837: RuntimeWarning: invalid value encountered in less_equal\n",
      "  keep &= (tmp_a <= last_edge)\n"
     ]
    },
    {
     "name": "stdout",
     "output_type": "stream",
     "text": [
      "Average Graph PNG saved\n",
      "Average Graph PNG saved\n",
      "Done\n",
      "Starting: SingleC, A_5_centrality_df.csv\n"
     ]
    },
    {
     "name": "stderr",
     "output_type": "stream",
     "text": [
      "C:\\Users\\Srinidhi\\.conda\\envs\\graphs\\lib\\site-packages\\numpy\\lib\\histograms.py:836: RuntimeWarning: invalid value encountered in greater_equal\n",
      "  keep = (tmp_a >= first_edge)\n",
      "C:\\Users\\Srinidhi\\.conda\\envs\\graphs\\lib\\site-packages\\numpy\\lib\\histograms.py:837: RuntimeWarning: invalid value encountered in less_equal\n",
      "  keep &= (tmp_a <= last_edge)\n"
     ]
    },
    {
     "name": "stdout",
     "output_type": "stream",
     "text": [
      "Average Graph PNG saved\n",
      "Average Graph PNG saved\n",
      "Done\n",
      "Starting: SingleC, A_6_centrality_df.csv\n"
     ]
    },
    {
     "name": "stderr",
     "output_type": "stream",
     "text": [
      "C:\\Users\\Srinidhi\\.conda\\envs\\graphs\\lib\\site-packages\\numpy\\lib\\histograms.py:836: RuntimeWarning: invalid value encountered in greater_equal\n",
      "  keep = (tmp_a >= first_edge)\n",
      "C:\\Users\\Srinidhi\\.conda\\envs\\graphs\\lib\\site-packages\\numpy\\lib\\histograms.py:837: RuntimeWarning: invalid value encountered in less_equal\n",
      "  keep &= (tmp_a <= last_edge)\n"
     ]
    },
    {
     "name": "stdout",
     "output_type": "stream",
     "text": [
      "Average Graph PNG saved\n",
      "Average Graph PNG saved\n",
      "Done\n",
      "Starting: SingleC, A_7_centrality_df.csv\n"
     ]
    },
    {
     "name": "stderr",
     "output_type": "stream",
     "text": [
      "C:\\Users\\Srinidhi\\.conda\\envs\\graphs\\lib\\site-packages\\numpy\\lib\\histograms.py:836: RuntimeWarning: invalid value encountered in greater_equal\n",
      "  keep = (tmp_a >= first_edge)\n",
      "C:\\Users\\Srinidhi\\.conda\\envs\\graphs\\lib\\site-packages\\numpy\\lib\\histograms.py:837: RuntimeWarning: invalid value encountered in less_equal\n",
      "  keep &= (tmp_a <= last_edge)\n"
     ]
    },
    {
     "name": "stdout",
     "output_type": "stream",
     "text": [
      "Average Graph PNG saved\n",
      "Average Graph PNG saved\n",
      "Done\n",
      "Starting: SingleC, A_8_centrality_df.csv\n"
     ]
    },
    {
     "name": "stderr",
     "output_type": "stream",
     "text": [
      "C:\\Users\\Srinidhi\\.conda\\envs\\graphs\\lib\\site-packages\\numpy\\lib\\histograms.py:836: RuntimeWarning: invalid value encountered in greater_equal\n",
      "  keep = (tmp_a >= first_edge)\n",
      "C:\\Users\\Srinidhi\\.conda\\envs\\graphs\\lib\\site-packages\\numpy\\lib\\histograms.py:837: RuntimeWarning: invalid value encountered in less_equal\n",
      "  keep &= (tmp_a <= last_edge)\n"
     ]
    },
    {
     "name": "stdout",
     "output_type": "stream",
     "text": [
      "Average Graph PNG saved\n",
      "Average Graph PNG saved\n",
      "Done\n",
      "Starting: SingleC, A_9_centrality_df.csv\n"
     ]
    },
    {
     "name": "stderr",
     "output_type": "stream",
     "text": [
      "C:\\Users\\Srinidhi\\.conda\\envs\\graphs\\lib\\site-packages\\numpy\\lib\\histograms.py:836: RuntimeWarning: invalid value encountered in greater_equal\n",
      "  keep = (tmp_a >= first_edge)\n",
      "C:\\Users\\Srinidhi\\.conda\\envs\\graphs\\lib\\site-packages\\numpy\\lib\\histograms.py:837: RuntimeWarning: invalid value encountered in less_equal\n",
      "  keep &= (tmp_a <= last_edge)\n"
     ]
    },
    {
     "name": "stdout",
     "output_type": "stream",
     "text": [
      "Average Graph PNG saved\n",
      "Average Graph PNG saved\n",
      "Done\n",
      "Starting: SingleC, B_1_centrality_df.csv\n"
     ]
    },
    {
     "name": "stderr",
     "output_type": "stream",
     "text": [
      "C:\\Users\\Srinidhi\\.conda\\envs\\graphs\\lib\\site-packages\\numpy\\lib\\histograms.py:836: RuntimeWarning: invalid value encountered in greater_equal\n",
      "  keep = (tmp_a >= first_edge)\n",
      "C:\\Users\\Srinidhi\\.conda\\envs\\graphs\\lib\\site-packages\\numpy\\lib\\histograms.py:837: RuntimeWarning: invalid value encountered in less_equal\n",
      "  keep &= (tmp_a <= last_edge)\n"
     ]
    },
    {
     "name": "stdout",
     "output_type": "stream",
     "text": [
      "Average Graph PNG saved\n",
      "Average Graph PNG saved\n",
      "Done\n",
      "Starting: SingleC, B_2_centrality_df.csv\n"
     ]
    },
    {
     "name": "stderr",
     "output_type": "stream",
     "text": [
      "C:\\Users\\Srinidhi\\.conda\\envs\\graphs\\lib\\site-packages\\numpy\\lib\\histograms.py:836: RuntimeWarning: invalid value encountered in greater_equal\n",
      "  keep = (tmp_a >= first_edge)\n",
      "C:\\Users\\Srinidhi\\.conda\\envs\\graphs\\lib\\site-packages\\numpy\\lib\\histograms.py:837: RuntimeWarning: invalid value encountered in less_equal\n",
      "  keep &= (tmp_a <= last_edge)\n"
     ]
    },
    {
     "name": "stdout",
     "output_type": "stream",
     "text": [
      "Average Graph PNG saved\n",
      "Average Graph PNG saved\n",
      "Done\n",
      "Starting: SingleC, B_3_centrality_df.csv\n"
     ]
    },
    {
     "name": "stderr",
     "output_type": "stream",
     "text": [
      "C:\\Users\\Srinidhi\\.conda\\envs\\graphs\\lib\\site-packages\\numpy\\lib\\histograms.py:836: RuntimeWarning: invalid value encountered in greater_equal\n",
      "  keep = (tmp_a >= first_edge)\n",
      "C:\\Users\\Srinidhi\\.conda\\envs\\graphs\\lib\\site-packages\\numpy\\lib\\histograms.py:837: RuntimeWarning: invalid value encountered in less_equal\n",
      "  keep &= (tmp_a <= last_edge)\n"
     ]
    },
    {
     "name": "stdout",
     "output_type": "stream",
     "text": [
      "Average Graph PNG saved\n",
      "Average Graph PNG saved\n",
      "Done\n",
      "Starting: SingleC, B_4_centrality_df.csv\n"
     ]
    },
    {
     "name": "stderr",
     "output_type": "stream",
     "text": [
      "C:\\Users\\Srinidhi\\.conda\\envs\\graphs\\lib\\site-packages\\numpy\\lib\\histograms.py:836: RuntimeWarning: invalid value encountered in greater_equal\n",
      "  keep = (tmp_a >= first_edge)\n",
      "C:\\Users\\Srinidhi\\.conda\\envs\\graphs\\lib\\site-packages\\numpy\\lib\\histograms.py:837: RuntimeWarning: invalid value encountered in less_equal\n",
      "  keep &= (tmp_a <= last_edge)\n"
     ]
    },
    {
     "name": "stdout",
     "output_type": "stream",
     "text": [
      "Average Graph PNG saved\n",
      "Average Graph PNG saved\n",
      "Done\n",
      "Starting: SingleC, B_5_centrality_df.csv\n"
     ]
    },
    {
     "name": "stderr",
     "output_type": "stream",
     "text": [
      "C:\\Users\\Srinidhi\\.conda\\envs\\graphs\\lib\\site-packages\\numpy\\lib\\histograms.py:836: RuntimeWarning: invalid value encountered in greater_equal\n",
      "  keep = (tmp_a >= first_edge)\n",
      "C:\\Users\\Srinidhi\\.conda\\envs\\graphs\\lib\\site-packages\\numpy\\lib\\histograms.py:837: RuntimeWarning: invalid value encountered in less_equal\n",
      "  keep &= (tmp_a <= last_edge)\n"
     ]
    },
    {
     "name": "stdout",
     "output_type": "stream",
     "text": [
      "Average Graph PNG saved\n",
      "Average Graph PNG saved"
     ]
    },
    {
     "name": "stderr",
     "output_type": "stream",
     "text": [
      "C:\\Users\\Srinidhi\\.conda\\envs\\graphs\\lib\\site-packages\\numpy\\lib\\histograms.py:836: RuntimeWarning: invalid value encountered in greater_equal\n",
      "  keep = (tmp_a >= first_edge)\n",
      "C:\\Users\\Srinidhi\\.conda\\envs\\graphs\\lib\\site-packages\\numpy\\lib\\histograms.py:837: RuntimeWarning: invalid value encountered in less_equal\n",
      "  keep &= (tmp_a <= last_edge)\n"
     ]
    },
    {
     "name": "stdout",
     "output_type": "stream",
     "text": [
      "\n",
      "Done\n",
      "Starting: SingleC, B_6_centrality_df.csv\n",
      "Average Graph PNG saved\n",
      "Average Graph PNG saved\n",
      "Done\n",
      "Starting: SingleC, B_7_centrality_df.csv\n"
     ]
    },
    {
     "name": "stderr",
     "output_type": "stream",
     "text": [
      "C:\\Users\\Srinidhi\\.conda\\envs\\graphs\\lib\\site-packages\\numpy\\lib\\histograms.py:836: RuntimeWarning: invalid value encountered in greater_equal\n",
      "  keep = (tmp_a >= first_edge)\n",
      "C:\\Users\\Srinidhi\\.conda\\envs\\graphs\\lib\\site-packages\\numpy\\lib\\histograms.py:837: RuntimeWarning: invalid value encountered in less_equal\n",
      "  keep &= (tmp_a <= last_edge)\n"
     ]
    },
    {
     "name": "stdout",
     "output_type": "stream",
     "text": [
      "Average Graph PNG saved\n",
      "Average Graph PNG saved\n",
      "Done\n",
      "Starting: SingleC, B_8_centrality_df.csv\n"
     ]
    },
    {
     "name": "stderr",
     "output_type": "stream",
     "text": [
      "C:\\Users\\Srinidhi\\.conda\\envs\\graphs\\lib\\site-packages\\numpy\\lib\\histograms.py:836: RuntimeWarning: invalid value encountered in greater_equal\n",
      "  keep = (tmp_a >= first_edge)\n",
      "C:\\Users\\Srinidhi\\.conda\\envs\\graphs\\lib\\site-packages\\numpy\\lib\\histograms.py:837: RuntimeWarning: invalid value encountered in less_equal\n",
      "  keep &= (tmp_a <= last_edge)\n"
     ]
    },
    {
     "name": "stdout",
     "output_type": "stream",
     "text": [
      "Average Graph PNG saved\n"
     ]
    },
    {
     "name": "stderr",
     "output_type": "stream",
     "text": [
      "C:\\Users\\Srinidhi\\.conda\\envs\\graphs\\lib\\site-packages\\numpy\\lib\\histograms.py:836: RuntimeWarning: invalid value encountered in greater_equal\n",
      "  keep = (tmp_a >= first_edge)\n",
      "C:\\Users\\Srinidhi\\.conda\\envs\\graphs\\lib\\site-packages\\numpy\\lib\\histograms.py:837: RuntimeWarning: invalid value encountered in less_equal\n",
      "  keep &= (tmp_a <= last_edge)\n"
     ]
    },
    {
     "name": "stdout",
     "output_type": "stream",
     "text": [
      "Average Graph PNG saved\n",
      "Done\n",
      "Starting: SingleC, B_9_centrality_df.csv\n",
      "Average Graph PNG saved\n",
      "Average Graph PNG saved\n",
      "Done\n"
     ]
    },
    {
     "name": "stderr",
     "output_type": "stream",
     "text": [
      "C:\\Users\\Srinidhi\\.conda\\envs\\graphs\\lib\\site-packages\\numpy\\lib\\histograms.py:836: RuntimeWarning: invalid value encountered in greater_equal\n",
      "  keep = (tmp_a >= first_edge)\n",
      "C:\\Users\\Srinidhi\\.conda\\envs\\graphs\\lib\\site-packages\\numpy\\lib\\histograms.py:837: RuntimeWarning: invalid value encountered in less_equal\n",
      "  keep &= (tmp_a <= last_edge)\n"
     ]
    }
   ],
   "source": [
    "# Average graph for success only - single, singlec\n",
    "subject_performance = pd.read_csv(PROCESSED_DATA_PATH + condition + '_Performance_Analysis.csv')\n",
    "\n",
    "for direction in [\"A\", \"B\"]:\n",
    "    for pathnum in range(1,10):\n",
    "        pathnum = str(pathnum)\n",
    "        dests = dests_A if direction == \"A\" else dests_B\n",
    "        if direction != \"all\": reduced = subject_performance[subject_performance.Condition == direction];\n",
    "        else: reduced = subject_performance\n",
    "\n",
    "        if condition == \"Dyadic\": \n",
    "            check = True if role == \"L\" else False\n",
    "            reduced = reduced[reduced[\"Leader?\"] == check];\n",
    "\n",
    "        subIDs = list(reduced.SubjectID)\n",
    "        if pathnum != \"all\": \n",
    "            successes = list(reduced[reduced[\"P\"+pathnum+\":Success\"] == True].SubjectID)\n",
    "            successes = [str(s) for s in successes]\n",
    "        \n",
    "        filename = direction + \"_\" + str(pathnum) + \"_centrality_df.csv\";\n",
    "        \n",
    "        create_avg_graph(filename, successes)"
   ]
  },
  {
   "cell_type": "code",
   "execution_count": 31,
   "metadata": {},
   "outputs": [
    {
     "name": "stdout",
     "output_type": "stream",
     "text": [
      "Starting: Dyadic, A_all_F_centrality_df.csv\n",
      "Average Graph PNG saved\n",
      "Average Graph PNG saved\n",
      "Done\n",
      "Starting: Dyadic, B_all_F_centrality_df.csv\n",
      "Average Graph PNG saved\n",
      "Average Graph PNG saved\n",
      "Done\n"
     ]
    }
   ],
   "source": [
    "# total average graphs - dyadic\n",
    "# [A/B]_all_[L/F]\n",
    "create_avg_graph(\"A_all_F_centrality_df.csv\")\n",
    "create_avg_graph(\"B_all_F_centrality_df.csv\")"
   ]
  },
  {
   "cell_type": "code",
   "execution_count": 27,
   "metadata": {
    "scrolled": true
   },
   "outputs": [
    {
     "name": "stdout",
     "output_type": "stream",
     "text": [
      "Starting: Dyadic, A_1_L_centrality_df.csv\n",
      "Average Graph PNG saved\n",
      "Average Graph PNG saved\n",
      "Done\n",
      "Starting: Dyadic, A_1_F_centrality_df.csv\n",
      "Average Graph PNG saved\n",
      "Average Graph PNG saved\n",
      "Done\n",
      "Starting: Dyadic, A_2_L_centrality_df.csv\n",
      "Average Graph PNG saved\n",
      "Average Graph PNG saved\n",
      "Done\n",
      "Starting: Dyadic, A_2_F_centrality_df.csv\n",
      "Average Graph PNG saved\n",
      "Average Graph PNG saved\n",
      "Done\n",
      "Starting: Dyadic, A_3_L_centrality_df.csv\n",
      "Average Graph PNG saved\n",
      "Average Graph PNG saved\n",
      "Done\n",
      "Starting: Dyadic, A_3_F_centrality_df.csv\n",
      "Average Graph PNG saved\n",
      "Average Graph PNG saved\n",
      "Done\n",
      "Starting: Dyadic, A_4_L_centrality_df.csv\n",
      "Average Graph PNG saved\n",
      "Average Graph PNG saved\n",
      "Done\n",
      "Starting: Dyadic, A_4_F_centrality_df.csv\n",
      "Average Graph PNG saved\n",
      "Average Graph PNG saved\n",
      "Done\n",
      "Starting: Dyadic, A_5_L_centrality_df.csv\n",
      "Average Graph PNG saved\n",
      "Average Graph PNG saved\n",
      "Done\n",
      "Starting: Dyadic, A_5_F_centrality_df.csv\n",
      "Average Graph PNG saved\n",
      "Average Graph PNG saved\n",
      "Done\n",
      "Starting: Dyadic, A_6_L_centrality_df.csv\n",
      "Average Graph PNG saved\n",
      "Average Graph PNG saved\n",
      "Done\n",
      "Starting: Dyadic, A_6_F_centrality_df.csv\n",
      "Average Graph PNG saved\n",
      "Average Graph PNG saved\n",
      "Done\n",
      "Starting: Dyadic, A_7_L_centrality_df.csv\n",
      "Average Graph PNG saved\n",
      "Average Graph PNG saved\n",
      "Done\n",
      "Starting: Dyadic, A_7_F_centrality_df.csv\n",
      "Average Graph PNG saved\n",
      "Average Graph PNG saved\n",
      "Done\n",
      "Starting: Dyadic, A_8_L_centrality_df.csv\n",
      "Average Graph PNG saved\n",
      "Average Graph PNG saved\n",
      "Done\n",
      "Starting: Dyadic, A_8_F_centrality_df.csv\n",
      "Average Graph PNG saved\n",
      "Average Graph PNG saved\n",
      "Done\n",
      "Starting: Dyadic, A_9_L_centrality_df.csv\n",
      "Average Graph PNG saved\n",
      "Average Graph PNG saved\n",
      "Done\n",
      "Starting: Dyadic, A_9_F_centrality_df.csv\n",
      "Average Graph PNG saved\n",
      "Average Graph PNG saved\n",
      "Done\n",
      "Starting: Dyadic, B_1_L_centrality_df.csv\n",
      "Average Graph PNG saved\n",
      "Average Graph PNG saved\n",
      "Done\n",
      "Starting: Dyadic, B_1_F_centrality_df.csv\n",
      "Average Graph PNG saved\n",
      "Average Graph PNG saved\n",
      "Done\n",
      "Starting: Dyadic, B_2_L_centrality_df.csv\n",
      "Average Graph PNG saved\n",
      "Average Graph PNG saved\n",
      "Done\n",
      "Starting: Dyadic, B_2_F_centrality_df.csv\n",
      "Average Graph PNG saved\n",
      "Average Graph PNG saved\n",
      "Done\n",
      "Starting: Dyadic, B_3_L_centrality_df.csv\n",
      "Average Graph PNG saved\n",
      "Average Graph PNG saved\n",
      "Done\n",
      "Starting: Dyadic, B_3_F_centrality_df.csv\n",
      "Average Graph PNG saved\n",
      "Average Graph PNG saved\n",
      "Done\n",
      "Starting: Dyadic, B_4_L_centrality_df.csv\n",
      "Average Graph PNG saved\n",
      "Average Graph PNG saved\n",
      "Done\n",
      "Starting: Dyadic, B_4_F_centrality_df.csv\n",
      "Average Graph PNG saved\n",
      "Average Graph PNG saved\n",
      "Done\n",
      "Starting: Dyadic, B_5_L_centrality_df.csv\n",
      "Average Graph PNG saved\n",
      "Average Graph PNG saved\n",
      "Done\n",
      "Starting: Dyadic, B_5_F_centrality_df.csv\n",
      "Average Graph PNG saved\n",
      "Average Graph PNG saved\n",
      "Done\n",
      "Starting: Dyadic, B_6_L_centrality_df.csv\n",
      "Average Graph PNG saved\n",
      "Average Graph PNG saved\n",
      "Done\n",
      "Starting: Dyadic, B_6_F_centrality_df.csv\n",
      "Average Graph PNG saved\n",
      "Average Graph PNG saved\n",
      "Done\n",
      "Starting: Dyadic, B_7_L_centrality_df.csv\n",
      "Average Graph PNG saved\n",
      "Average Graph PNG saved\n",
      "Done\n",
      "Starting: Dyadic, B_7_F_centrality_df.csv\n",
      "Average Graph PNG saved\n",
      "Average Graph PNG saved\n",
      "Done\n",
      "Starting: Dyadic, B_8_L_centrality_df.csv\n",
      "Average Graph PNG saved\n",
      "Average Graph PNG saved\n",
      "Done\n",
      "Starting: Dyadic, B_8_F_centrality_df.csv\n",
      "Average Graph PNG saved\n",
      "Average Graph PNG saved\n",
      "Done\n",
      "Starting: Dyadic, B_9_L_centrality_df.csv\n",
      "Average Graph PNG saved\n",
      "Average Graph PNG saved\n",
      "Done\n",
      "Starting: Dyadic, B_9_F_centrality_df.csv\n",
      "Average Graph PNG saved\n",
      "Average Graph PNG saved\n",
      "Done\n"
     ]
    }
   ],
   "source": [
    "# Average graphs for all paths - dyadic\n",
    "for direction in [\"A_\", \"B_\"]:\n",
    "    for pathnum in range(1,10):\n",
    "        \n",
    "        for role in [\"_L\",\"_F\"]:\n",
    "            filename = direction + str(pathnum) + role + \"_centrality_df.csv\";\n",
    "            create_avg_graph(filename)\n",
    "        "
   ]
  },
  {
   "cell_type": "code",
   "execution_count": 30,
   "metadata": {},
   "outputs": [
    {
     "name": "stdout",
     "output_type": "stream",
     "text": [
      "Starting: Dyadic, A_1_L_centrality_df.csv\n",
      "Average Graph PNG saved\n",
      "Average Graph PNG saved\n",
      "Done\n",
      "Starting: Dyadic, A_2_L_centrality_df.csv\n"
     ]
    },
    {
     "name": "stderr",
     "output_type": "stream",
     "text": [
      "C:\\Users\\Srinidhi\\.conda\\envs\\graphs\\lib\\site-packages\\numpy\\lib\\histograms.py:836: RuntimeWarning: invalid value encountered in greater_equal\n",
      "  keep = (tmp_a >= first_edge)\n",
      "C:\\Users\\Srinidhi\\.conda\\envs\\graphs\\lib\\site-packages\\numpy\\lib\\histograms.py:837: RuntimeWarning: invalid value encountered in less_equal\n",
      "  keep &= (tmp_a <= last_edge)\n"
     ]
    },
    {
     "name": "stdout",
     "output_type": "stream",
     "text": [
      "Average Graph PNG saved\n",
      "Average Graph PNG saved\n",
      "Done\n",
      "Starting: Dyadic, A_3_L_centrality_df.csv\n"
     ]
    },
    {
     "name": "stderr",
     "output_type": "stream",
     "text": [
      "C:\\Users\\Srinidhi\\.conda\\envs\\graphs\\lib\\site-packages\\numpy\\lib\\histograms.py:836: RuntimeWarning: invalid value encountered in greater_equal\n",
      "  keep = (tmp_a >= first_edge)\n",
      "C:\\Users\\Srinidhi\\.conda\\envs\\graphs\\lib\\site-packages\\numpy\\lib\\histograms.py:837: RuntimeWarning: invalid value encountered in less_equal\n",
      "  keep &= (tmp_a <= last_edge)\n"
     ]
    },
    {
     "name": "stdout",
     "output_type": "stream",
     "text": [
      "Average Graph PNG saved\n",
      "Average Graph PNG saved\n",
      "Done\n",
      "Starting: Dyadic, A_4_L_centrality_df.csv\n"
     ]
    },
    {
     "name": "stderr",
     "output_type": "stream",
     "text": [
      "C:\\Users\\Srinidhi\\.conda\\envs\\graphs\\lib\\site-packages\\numpy\\lib\\histograms.py:836: RuntimeWarning: invalid value encountered in greater_equal\n",
      "  keep = (tmp_a >= first_edge)\n",
      "C:\\Users\\Srinidhi\\.conda\\envs\\graphs\\lib\\site-packages\\numpy\\lib\\histograms.py:837: RuntimeWarning: invalid value encountered in less_equal\n",
      "  keep &= (tmp_a <= last_edge)\n"
     ]
    },
    {
     "name": "stdout",
     "output_type": "stream",
     "text": [
      "Average Graph PNG saved\n",
      "Average Graph PNG saved\n",
      "Done\n",
      "Starting: Dyadic, A_5_L_centrality_df.csv\n"
     ]
    },
    {
     "name": "stderr",
     "output_type": "stream",
     "text": [
      "C:\\Users\\Srinidhi\\.conda\\envs\\graphs\\lib\\site-packages\\numpy\\lib\\histograms.py:836: RuntimeWarning: invalid value encountered in greater_equal\n",
      "  keep = (tmp_a >= first_edge)\n",
      "C:\\Users\\Srinidhi\\.conda\\envs\\graphs\\lib\\site-packages\\numpy\\lib\\histograms.py:837: RuntimeWarning: invalid value encountered in less_equal\n",
      "  keep &= (tmp_a <= last_edge)\n"
     ]
    },
    {
     "name": "stdout",
     "output_type": "stream",
     "text": [
      "Average Graph PNG saved\n",
      "Average Graph PNG saved\n",
      "Done\n",
      "Starting: Dyadic, A_6_L_centrality_df.csv\n"
     ]
    },
    {
     "name": "stderr",
     "output_type": "stream",
     "text": [
      "C:\\Users\\Srinidhi\\.conda\\envs\\graphs\\lib\\site-packages\\numpy\\lib\\histograms.py:836: RuntimeWarning: invalid value encountered in greater_equal\n",
      "  keep = (tmp_a >= first_edge)\n",
      "C:\\Users\\Srinidhi\\.conda\\envs\\graphs\\lib\\site-packages\\numpy\\lib\\histograms.py:837: RuntimeWarning: invalid value encountered in less_equal\n",
      "  keep &= (tmp_a <= last_edge)\n"
     ]
    },
    {
     "name": "stdout",
     "output_type": "stream",
     "text": [
      "Average Graph PNG saved\n",
      "Average Graph PNG saved\n",
      "Done\n",
      "Starting: Dyadic, A_7_L_centrality_df.csv\n"
     ]
    },
    {
     "name": "stderr",
     "output_type": "stream",
     "text": [
      "C:\\Users\\Srinidhi\\.conda\\envs\\graphs\\lib\\site-packages\\numpy\\lib\\histograms.py:836: RuntimeWarning: invalid value encountered in greater_equal\n",
      "  keep = (tmp_a >= first_edge)\n",
      "C:\\Users\\Srinidhi\\.conda\\envs\\graphs\\lib\\site-packages\\numpy\\lib\\histograms.py:837: RuntimeWarning: invalid value encountered in less_equal\n",
      "  keep &= (tmp_a <= last_edge)\n"
     ]
    },
    {
     "name": "stdout",
     "output_type": "stream",
     "text": [
      "Average Graph PNG saved\n",
      "Average Graph PNG saved\n",
      "Done\n",
      "Starting: Dyadic, A_8_L_centrality_df.csv\n"
     ]
    },
    {
     "name": "stderr",
     "output_type": "stream",
     "text": [
      "C:\\Users\\Srinidhi\\.conda\\envs\\graphs\\lib\\site-packages\\numpy\\lib\\histograms.py:836: RuntimeWarning: invalid value encountered in greater_equal\n",
      "  keep = (tmp_a >= first_edge)\n",
      "C:\\Users\\Srinidhi\\.conda\\envs\\graphs\\lib\\site-packages\\numpy\\lib\\histograms.py:837: RuntimeWarning: invalid value encountered in less_equal\n",
      "  keep &= (tmp_a <= last_edge)\n"
     ]
    },
    {
     "name": "stdout",
     "output_type": "stream",
     "text": [
      "Average Graph PNG saved\n"
     ]
    },
    {
     "name": "stderr",
     "output_type": "stream",
     "text": [
      "C:\\Users\\Srinidhi\\.conda\\envs\\graphs\\lib\\site-packages\\numpy\\lib\\histograms.py:836: RuntimeWarning: invalid value encountered in greater_equal\n",
      "  keep = (tmp_a >= first_edge)\n",
      "C:\\Users\\Srinidhi\\.conda\\envs\\graphs\\lib\\site-packages\\numpy\\lib\\histograms.py:837: RuntimeWarning: invalid value encountered in less_equal\n",
      "  keep &= (tmp_a <= last_edge)\n"
     ]
    },
    {
     "name": "stdout",
     "output_type": "stream",
     "text": [
      "Average Graph PNG saved\n",
      "Done\n",
      "Starting: Dyadic, A_9_L_centrality_df.csv\n",
      "Average Graph PNG saved\n",
      "Average Graph PNG saved\n",
      "Done\n",
      "Starting: Dyadic, A_1_F_centrality_df.csv\n"
     ]
    },
    {
     "name": "stderr",
     "output_type": "stream",
     "text": [
      "C:\\Users\\Srinidhi\\.conda\\envs\\graphs\\lib\\site-packages\\numpy\\lib\\histograms.py:836: RuntimeWarning: invalid value encountered in greater_equal\n",
      "  keep = (tmp_a >= first_edge)\n",
      "C:\\Users\\Srinidhi\\.conda\\envs\\graphs\\lib\\site-packages\\numpy\\lib\\histograms.py:837: RuntimeWarning: invalid value encountered in less_equal\n",
      "  keep &= (tmp_a <= last_edge)\n"
     ]
    },
    {
     "name": "stdout",
     "output_type": "stream",
     "text": [
      "Average Graph PNG saved\n",
      "Average Graph PNG saved\n",
      "Done\n",
      "Starting: Dyadic, A_2_F_centrality_df.csv\n"
     ]
    },
    {
     "name": "stderr",
     "output_type": "stream",
     "text": [
      "C:\\Users\\Srinidhi\\.conda\\envs\\graphs\\lib\\site-packages\\numpy\\lib\\histograms.py:836: RuntimeWarning: invalid value encountered in greater_equal\n",
      "  keep = (tmp_a >= first_edge)\n",
      "C:\\Users\\Srinidhi\\.conda\\envs\\graphs\\lib\\site-packages\\numpy\\lib\\histograms.py:837: RuntimeWarning: invalid value encountered in less_equal\n",
      "  keep &= (tmp_a <= last_edge)\n"
     ]
    },
    {
     "name": "stdout",
     "output_type": "stream",
     "text": [
      "Average Graph PNG saved\n",
      "Average Graph PNG saved\n",
      "Done\n",
      "Starting: Dyadic, A_3_F_centrality_df.csv\n"
     ]
    },
    {
     "name": "stderr",
     "output_type": "stream",
     "text": [
      "C:\\Users\\Srinidhi\\.conda\\envs\\graphs\\lib\\site-packages\\numpy\\lib\\histograms.py:836: RuntimeWarning: invalid value encountered in greater_equal\n",
      "  keep = (tmp_a >= first_edge)\n",
      "C:\\Users\\Srinidhi\\.conda\\envs\\graphs\\lib\\site-packages\\numpy\\lib\\histograms.py:837: RuntimeWarning: invalid value encountered in less_equal\n",
      "  keep &= (tmp_a <= last_edge)\n"
     ]
    },
    {
     "name": "stdout",
     "output_type": "stream",
     "text": [
      "Average Graph PNG saved\n",
      "Average Graph PNG saved\n",
      "Done\n",
      "Starting: Dyadic, A_4_F_centrality_df.csv\n"
     ]
    },
    {
     "name": "stderr",
     "output_type": "stream",
     "text": [
      "C:\\Users\\Srinidhi\\.conda\\envs\\graphs\\lib\\site-packages\\numpy\\lib\\histograms.py:836: RuntimeWarning: invalid value encountered in greater_equal\n",
      "  keep = (tmp_a >= first_edge)\n",
      "C:\\Users\\Srinidhi\\.conda\\envs\\graphs\\lib\\site-packages\\numpy\\lib\\histograms.py:837: RuntimeWarning: invalid value encountered in less_equal\n",
      "  keep &= (tmp_a <= last_edge)\n"
     ]
    },
    {
     "name": "stdout",
     "output_type": "stream",
     "text": [
      "Average Graph PNG saved\n",
      "Average Graph PNG saved\n",
      "Done\n",
      "Starting: Dyadic, A_5_F_centrality_df.csv\n"
     ]
    },
    {
     "name": "stderr",
     "output_type": "stream",
     "text": [
      "C:\\Users\\Srinidhi\\.conda\\envs\\graphs\\lib\\site-packages\\numpy\\lib\\histograms.py:836: RuntimeWarning: invalid value encountered in greater_equal\n",
      "  keep = (tmp_a >= first_edge)\n",
      "C:\\Users\\Srinidhi\\.conda\\envs\\graphs\\lib\\site-packages\\numpy\\lib\\histograms.py:837: RuntimeWarning: invalid value encountered in less_equal\n",
      "  keep &= (tmp_a <= last_edge)\n"
     ]
    },
    {
     "name": "stdout",
     "output_type": "stream",
     "text": [
      "Average Graph PNG saved\n",
      "Average Graph PNG saved\n",
      "Done\n",
      "Starting: Dyadic, A_6_F_centrality_df.csv\n"
     ]
    },
    {
     "name": "stderr",
     "output_type": "stream",
     "text": [
      "C:\\Users\\Srinidhi\\.conda\\envs\\graphs\\lib\\site-packages\\numpy\\lib\\histograms.py:836: RuntimeWarning: invalid value encountered in greater_equal\n",
      "  keep = (tmp_a >= first_edge)\n",
      "C:\\Users\\Srinidhi\\.conda\\envs\\graphs\\lib\\site-packages\\numpy\\lib\\histograms.py:837: RuntimeWarning: invalid value encountered in less_equal\n",
      "  keep &= (tmp_a <= last_edge)\n"
     ]
    },
    {
     "name": "stdout",
     "output_type": "stream",
     "text": [
      "Average Graph PNG saved\n",
      "Average Graph PNG saved\n",
      "Done\n",
      "Starting: Dyadic, A_7_F_centrality_df.csv\n"
     ]
    },
    {
     "name": "stderr",
     "output_type": "stream",
     "text": [
      "C:\\Users\\Srinidhi\\.conda\\envs\\graphs\\lib\\site-packages\\numpy\\lib\\histograms.py:836: RuntimeWarning: invalid value encountered in greater_equal\n",
      "  keep = (tmp_a >= first_edge)\n",
      "C:\\Users\\Srinidhi\\.conda\\envs\\graphs\\lib\\site-packages\\numpy\\lib\\histograms.py:837: RuntimeWarning: invalid value encountered in less_equal\n",
      "  keep &= (tmp_a <= last_edge)\n"
     ]
    },
    {
     "name": "stdout",
     "output_type": "stream",
     "text": [
      "Average Graph PNG saved\n",
      "Average Graph PNG saved\n",
      "Done\n",
      "Starting: Dyadic, A_8_F_centrality_df.csv\n"
     ]
    },
    {
     "name": "stderr",
     "output_type": "stream",
     "text": [
      "C:\\Users\\Srinidhi\\.conda\\envs\\graphs\\lib\\site-packages\\numpy\\lib\\histograms.py:836: RuntimeWarning: invalid value encountered in greater_equal\n",
      "  keep = (tmp_a >= first_edge)\n",
      "C:\\Users\\Srinidhi\\.conda\\envs\\graphs\\lib\\site-packages\\numpy\\lib\\histograms.py:837: RuntimeWarning: invalid value encountered in less_equal\n",
      "  keep &= (tmp_a <= last_edge)\n"
     ]
    },
    {
     "name": "stdout",
     "output_type": "stream",
     "text": [
      "Average Graph PNG saved\n",
      "Average Graph PNG saved\n",
      "Done\n",
      "Starting: Dyadic, A_9_F_centrality_df.csv\n"
     ]
    },
    {
     "name": "stderr",
     "output_type": "stream",
     "text": [
      "C:\\Users\\Srinidhi\\.conda\\envs\\graphs\\lib\\site-packages\\numpy\\lib\\histograms.py:836: RuntimeWarning: invalid value encountered in greater_equal\n",
      "  keep = (tmp_a >= first_edge)\n",
      "C:\\Users\\Srinidhi\\.conda\\envs\\graphs\\lib\\site-packages\\numpy\\lib\\histograms.py:837: RuntimeWarning: invalid value encountered in less_equal\n",
      "  keep &= (tmp_a <= last_edge)\n"
     ]
    },
    {
     "name": "stdout",
     "output_type": "stream",
     "text": [
      "Average Graph PNG saved\n",
      "Average Graph PNG saved\n",
      "Done\n",
      "Starting: Dyadic, B_1_L_centrality_df.csv\n"
     ]
    },
    {
     "name": "stderr",
     "output_type": "stream",
     "text": [
      "C:\\Users\\Srinidhi\\.conda\\envs\\graphs\\lib\\site-packages\\numpy\\lib\\histograms.py:836: RuntimeWarning: invalid value encountered in greater_equal\n",
      "  keep = (tmp_a >= first_edge)\n",
      "C:\\Users\\Srinidhi\\.conda\\envs\\graphs\\lib\\site-packages\\numpy\\lib\\histograms.py:837: RuntimeWarning: invalid value encountered in less_equal\n",
      "  keep &= (tmp_a <= last_edge)\n"
     ]
    },
    {
     "name": "stdout",
     "output_type": "stream",
     "text": [
      "Average Graph PNG saved\n",
      "Average Graph PNG saved\n",
      "Done\n",
      "Starting: Dyadic, B_2_L_centrality_df.csv\n"
     ]
    },
    {
     "name": "stderr",
     "output_type": "stream",
     "text": [
      "C:\\Users\\Srinidhi\\.conda\\envs\\graphs\\lib\\site-packages\\numpy\\lib\\histograms.py:836: RuntimeWarning: invalid value encountered in greater_equal\n",
      "  keep = (tmp_a >= first_edge)\n",
      "C:\\Users\\Srinidhi\\.conda\\envs\\graphs\\lib\\site-packages\\numpy\\lib\\histograms.py:837: RuntimeWarning: invalid value encountered in less_equal\n",
      "  keep &= (tmp_a <= last_edge)\n"
     ]
    },
    {
     "name": "stdout",
     "output_type": "stream",
     "text": [
      "Average Graph PNG saved\n",
      "Average Graph PNG saved\n",
      "Done\n",
      "Starting: Dyadic, B_3_L_centrality_df.csv\n"
     ]
    },
    {
     "name": "stderr",
     "output_type": "stream",
     "text": [
      "C:\\Users\\Srinidhi\\.conda\\envs\\graphs\\lib\\site-packages\\numpy\\lib\\histograms.py:836: RuntimeWarning: invalid value encountered in greater_equal\n",
      "  keep = (tmp_a >= first_edge)\n",
      "C:\\Users\\Srinidhi\\.conda\\envs\\graphs\\lib\\site-packages\\numpy\\lib\\histograms.py:837: RuntimeWarning: invalid value encountered in less_equal\n",
      "  keep &= (tmp_a <= last_edge)\n"
     ]
    },
    {
     "name": "stdout",
     "output_type": "stream",
     "text": [
      "Average Graph PNG saved\n",
      "Average Graph PNG saved\n",
      "Done\n",
      "Starting: Dyadic, B_4_L_centrality_df.csv\n"
     ]
    },
    {
     "name": "stderr",
     "output_type": "stream",
     "text": [
      "C:\\Users\\Srinidhi\\.conda\\envs\\graphs\\lib\\site-packages\\numpy\\lib\\histograms.py:836: RuntimeWarning: invalid value encountered in greater_equal\n",
      "  keep = (tmp_a >= first_edge)\n",
      "C:\\Users\\Srinidhi\\.conda\\envs\\graphs\\lib\\site-packages\\numpy\\lib\\histograms.py:837: RuntimeWarning: invalid value encountered in less_equal\n",
      "  keep &= (tmp_a <= last_edge)\n"
     ]
    },
    {
     "name": "stdout",
     "output_type": "stream",
     "text": [
      "Average Graph PNG saved\n",
      "Average Graph PNG saved\n",
      "Done\n",
      "Starting: Dyadic, B_5_L_centrality_df.csv\n"
     ]
    },
    {
     "name": "stderr",
     "output_type": "stream",
     "text": [
      "C:\\Users\\Srinidhi\\.conda\\envs\\graphs\\lib\\site-packages\\numpy\\lib\\histograms.py:836: RuntimeWarning: invalid value encountered in greater_equal\n",
      "  keep = (tmp_a >= first_edge)\n",
      "C:\\Users\\Srinidhi\\.conda\\envs\\graphs\\lib\\site-packages\\numpy\\lib\\histograms.py:837: RuntimeWarning: invalid value encountered in less_equal\n",
      "  keep &= (tmp_a <= last_edge)\n"
     ]
    },
    {
     "name": "stdout",
     "output_type": "stream",
     "text": [
      "Average Graph PNG saved\n",
      "Average Graph PNG saved\n",
      "Done\n",
      "Starting: Dyadic, B_6_L_centrality_df.csv\n"
     ]
    },
    {
     "name": "stderr",
     "output_type": "stream",
     "text": [
      "C:\\Users\\Srinidhi\\.conda\\envs\\graphs\\lib\\site-packages\\numpy\\lib\\histograms.py:836: RuntimeWarning: invalid value encountered in greater_equal\n",
      "  keep = (tmp_a >= first_edge)\n",
      "C:\\Users\\Srinidhi\\.conda\\envs\\graphs\\lib\\site-packages\\numpy\\lib\\histograms.py:837: RuntimeWarning: invalid value encountered in less_equal\n",
      "  keep &= (tmp_a <= last_edge)\n"
     ]
    },
    {
     "name": "stdout",
     "output_type": "stream",
     "text": [
      "Average Graph PNG saved\n",
      "Average Graph PNG saved\n",
      "Done\n",
      "Starting: Dyadic, B_7_L_centrality_df.csv\n"
     ]
    },
    {
     "name": "stderr",
     "output_type": "stream",
     "text": [
      "C:\\Users\\Srinidhi\\.conda\\envs\\graphs\\lib\\site-packages\\numpy\\lib\\histograms.py:836: RuntimeWarning: invalid value encountered in greater_equal\n",
      "  keep = (tmp_a >= first_edge)\n",
      "C:\\Users\\Srinidhi\\.conda\\envs\\graphs\\lib\\site-packages\\numpy\\lib\\histograms.py:837: RuntimeWarning: invalid value encountered in less_equal\n",
      "  keep &= (tmp_a <= last_edge)\n"
     ]
    },
    {
     "name": "stdout",
     "output_type": "stream",
     "text": [
      "Average Graph PNG saved\n",
      "Average Graph PNG saved\n",
      "Done\n",
      "Starting: Dyadic, B_8_L_centrality_df.csv\n"
     ]
    },
    {
     "name": "stderr",
     "output_type": "stream",
     "text": [
      "C:\\Users\\Srinidhi\\.conda\\envs\\graphs\\lib\\site-packages\\numpy\\lib\\histograms.py:836: RuntimeWarning: invalid value encountered in greater_equal\n",
      "  keep = (tmp_a >= first_edge)\n",
      "C:\\Users\\Srinidhi\\.conda\\envs\\graphs\\lib\\site-packages\\numpy\\lib\\histograms.py:837: RuntimeWarning: invalid value encountered in less_equal\n",
      "  keep &= (tmp_a <= last_edge)\n"
     ]
    },
    {
     "name": "stdout",
     "output_type": "stream",
     "text": [
      "Average Graph PNG saved\n",
      "Average Graph PNG saved\n",
      "Done\n",
      "Starting: Dyadic, B_9_L_centrality_df.csv\n"
     ]
    },
    {
     "name": "stderr",
     "output_type": "stream",
     "text": [
      "C:\\Users\\Srinidhi\\.conda\\envs\\graphs\\lib\\site-packages\\numpy\\lib\\histograms.py:836: RuntimeWarning: invalid value encountered in greater_equal\n",
      "  keep = (tmp_a >= first_edge)\n",
      "C:\\Users\\Srinidhi\\.conda\\envs\\graphs\\lib\\site-packages\\numpy\\lib\\histograms.py:837: RuntimeWarning: invalid value encountered in less_equal\n",
      "  keep &= (tmp_a <= last_edge)\n"
     ]
    },
    {
     "name": "stdout",
     "output_type": "stream",
     "text": [
      "Average Graph PNG saved\n",
      "Average Graph PNG saved\n",
      "Done\n",
      "Starting: Dyadic, B_1_F_centrality_df.csv\n"
     ]
    },
    {
     "name": "stderr",
     "output_type": "stream",
     "text": [
      "C:\\Users\\Srinidhi\\.conda\\envs\\graphs\\lib\\site-packages\\numpy\\lib\\histograms.py:836: RuntimeWarning: invalid value encountered in greater_equal\n",
      "  keep = (tmp_a >= first_edge)\n",
      "C:\\Users\\Srinidhi\\.conda\\envs\\graphs\\lib\\site-packages\\numpy\\lib\\histograms.py:837: RuntimeWarning: invalid value encountered in less_equal\n",
      "  keep &= (tmp_a <= last_edge)\n"
     ]
    },
    {
     "name": "stdout",
     "output_type": "stream",
     "text": [
      "Average Graph PNG saved\n",
      "Average Graph PNG saved\n",
      "Done\n",
      "Starting: Dyadic, B_2_F_centrality_df.csv\n"
     ]
    },
    {
     "name": "stderr",
     "output_type": "stream",
     "text": [
      "C:\\Users\\Srinidhi\\.conda\\envs\\graphs\\lib\\site-packages\\numpy\\lib\\histograms.py:836: RuntimeWarning: invalid value encountered in greater_equal\n",
      "  keep = (tmp_a >= first_edge)\n",
      "C:\\Users\\Srinidhi\\.conda\\envs\\graphs\\lib\\site-packages\\numpy\\lib\\histograms.py:837: RuntimeWarning: invalid value encountered in less_equal\n",
      "  keep &= (tmp_a <= last_edge)\n"
     ]
    },
    {
     "name": "stdout",
     "output_type": "stream",
     "text": [
      "Average Graph PNG saved\n",
      "Average Graph PNG saved\n",
      "Done\n",
      "Starting: Dyadic, B_3_F_centrality_df.csv\n"
     ]
    },
    {
     "name": "stderr",
     "output_type": "stream",
     "text": [
      "C:\\Users\\Srinidhi\\.conda\\envs\\graphs\\lib\\site-packages\\numpy\\lib\\histograms.py:836: RuntimeWarning: invalid value encountered in greater_equal\n",
      "  keep = (tmp_a >= first_edge)\n",
      "C:\\Users\\Srinidhi\\.conda\\envs\\graphs\\lib\\site-packages\\numpy\\lib\\histograms.py:837: RuntimeWarning: invalid value encountered in less_equal\n",
      "  keep &= (tmp_a <= last_edge)\n"
     ]
    },
    {
     "name": "stdout",
     "output_type": "stream",
     "text": [
      "Average Graph PNG saved\n",
      "Average Graph PNG saved\n",
      "Done\n",
      "Starting: Dyadic, B_4_F_centrality_df.csv\n"
     ]
    },
    {
     "name": "stderr",
     "output_type": "stream",
     "text": [
      "C:\\Users\\Srinidhi\\.conda\\envs\\graphs\\lib\\site-packages\\numpy\\lib\\histograms.py:836: RuntimeWarning: invalid value encountered in greater_equal\n",
      "  keep = (tmp_a >= first_edge)\n",
      "C:\\Users\\Srinidhi\\.conda\\envs\\graphs\\lib\\site-packages\\numpy\\lib\\histograms.py:837: RuntimeWarning: invalid value encountered in less_equal\n",
      "  keep &= (tmp_a <= last_edge)\n"
     ]
    },
    {
     "name": "stdout",
     "output_type": "stream",
     "text": [
      "Average Graph PNG saved\n",
      "Average Graph PNG saved\n",
      "Done\n",
      "Starting: Dyadic, B_5_F_centrality_df.csv\n"
     ]
    },
    {
     "name": "stderr",
     "output_type": "stream",
     "text": [
      "C:\\Users\\Srinidhi\\.conda\\envs\\graphs\\lib\\site-packages\\numpy\\lib\\histograms.py:836: RuntimeWarning: invalid value encountered in greater_equal\n",
      "  keep = (tmp_a >= first_edge)\n",
      "C:\\Users\\Srinidhi\\.conda\\envs\\graphs\\lib\\site-packages\\numpy\\lib\\histograms.py:837: RuntimeWarning: invalid value encountered in less_equal\n",
      "  keep &= (tmp_a <= last_edge)\n"
     ]
    },
    {
     "name": "stdout",
     "output_type": "stream",
     "text": [
      "Average Graph PNG saved\n",
      "Average Graph PNG saved\n",
      "Done\n"
     ]
    },
    {
     "name": "stderr",
     "output_type": "stream",
     "text": [
      "C:\\Users\\Srinidhi\\.conda\\envs\\graphs\\lib\\site-packages\\numpy\\lib\\histograms.py:836: RuntimeWarning: invalid value encountered in greater_equal\n",
      "  keep = (tmp_a >= first_edge)\n",
      "C:\\Users\\Srinidhi\\.conda\\envs\\graphs\\lib\\site-packages\\numpy\\lib\\histograms.py:837: RuntimeWarning: invalid value encountered in less_equal\n",
      "  keep &= (tmp_a <= last_edge)\n"
     ]
    },
    {
     "name": "stdout",
     "output_type": "stream",
     "text": [
      "Starting: Dyadic, B_6_F_centrality_df.csv\n",
      "Average Graph PNG saved\n",
      "Average Graph PNG saved\n",
      "Done\n",
      "Starting: Dyadic, B_7_F_centrality_df.csv\n"
     ]
    },
    {
     "name": "stderr",
     "output_type": "stream",
     "text": [
      "C:\\Users\\Srinidhi\\.conda\\envs\\graphs\\lib\\site-packages\\numpy\\lib\\histograms.py:836: RuntimeWarning: invalid value encountered in greater_equal\n",
      "  keep = (tmp_a >= first_edge)\n",
      "C:\\Users\\Srinidhi\\.conda\\envs\\graphs\\lib\\site-packages\\numpy\\lib\\histograms.py:837: RuntimeWarning: invalid value encountered in less_equal\n",
      "  keep &= (tmp_a <= last_edge)\n"
     ]
    },
    {
     "name": "stdout",
     "output_type": "stream",
     "text": [
      "Average Graph PNG saved\n",
      "Average Graph PNG saved\n",
      "Done\n",
      "Starting: Dyadic, B_8_F_centrality_df.csv\n"
     ]
    },
    {
     "name": "stderr",
     "output_type": "stream",
     "text": [
      "C:\\Users\\Srinidhi\\.conda\\envs\\graphs\\lib\\site-packages\\numpy\\lib\\histograms.py:836: RuntimeWarning: invalid value encountered in greater_equal\n",
      "  keep = (tmp_a >= first_edge)\n",
      "C:\\Users\\Srinidhi\\.conda\\envs\\graphs\\lib\\site-packages\\numpy\\lib\\histograms.py:837: RuntimeWarning: invalid value encountered in less_equal\n",
      "  keep &= (tmp_a <= last_edge)\n"
     ]
    },
    {
     "name": "stdout",
     "output_type": "stream",
     "text": [
      "Average Graph PNG saved\n"
     ]
    },
    {
     "name": "stderr",
     "output_type": "stream",
     "text": [
      "C:\\Users\\Srinidhi\\.conda\\envs\\graphs\\lib\\site-packages\\numpy\\lib\\histograms.py:836: RuntimeWarning: invalid value encountered in greater_equal\n",
      "  keep = (tmp_a >= first_edge)\n",
      "C:\\Users\\Srinidhi\\.conda\\envs\\graphs\\lib\\site-packages\\numpy\\lib\\histograms.py:837: RuntimeWarning: invalid value encountered in less_equal\n",
      "  keep &= (tmp_a <= last_edge)\n"
     ]
    },
    {
     "name": "stdout",
     "output_type": "stream",
     "text": [
      "Average Graph PNG saved\n",
      "Done\n",
      "Starting: Dyadic, B_9_F_centrality_df.csv\n",
      "Average Graph PNG saved\n",
      "Average Graph PNG saved\n",
      "Done\n"
     ]
    },
    {
     "name": "stderr",
     "output_type": "stream",
     "text": [
      "C:\\Users\\Srinidhi\\.conda\\envs\\graphs\\lib\\site-packages\\numpy\\lib\\histograms.py:836: RuntimeWarning: invalid value encountered in greater_equal\n",
      "  keep = (tmp_a >= first_edge)\n",
      "C:\\Users\\Srinidhi\\.conda\\envs\\graphs\\lib\\site-packages\\numpy\\lib\\histograms.py:837: RuntimeWarning: invalid value encountered in less_equal\n",
      "  keep &= (tmp_a <= last_edge)\n"
     ]
    }
   ],
   "source": [
    "# Average graph for success only - dyadic\n",
    "subject_performance = pd.read_csv(PROCESSED_DATA_PATH + condition + '_Performance_Analysis.csv')\n",
    "\n",
    "for direction in [\"A\", \"B\"]:\n",
    "    for role in [\"L\",\"F\"]:\n",
    "        for pathnum in range(1,10):\n",
    "            \n",
    "            pathnum = str(pathnum)\n",
    "            dests = dests_A if direction == \"A\" else dests_B\n",
    "            if direction != \"all\": reduced = subject_performance[subject_performance.Condition == direction];\n",
    "            else: reduced = subject_performance\n",
    "\n",
    "            if condition == \"Dyadic\": \n",
    "                check = True if role == \"L\" else False\n",
    "                reduced = reduced[reduced[\"Leader?\"] == check];\n",
    "\n",
    "            subIDs = list(reduced.SubjectID)\n",
    "            if pathnum != \"all\": \n",
    "                successes = list(reduced[reduced[\"P\"+pathnum+\":Success\"] == True].SubjectID)\n",
    "                successes = [str(s) for s in successes]\n",
    "\n",
    "            filename = direction + \"_\" + str(pathnum) + \"_\" + role + \"_centrality_df.csv\";\n",
    "\n",
    "            create_avg_graph(filename, successes)"
   ]
  },
  {
   "cell_type": "code",
   "execution_count": null,
   "metadata": {},
   "outputs": [],
   "source": []
  },
  {
   "cell_type": "code",
   "execution_count": 69,
   "metadata": {},
   "outputs": [
    {
     "data": {
      "text/plain": [
       "['A_1_centrality_df.csv',\n",
       " 'A_2_centrality_df.csv',\n",
       " 'A_3_centrality_df.csv',\n",
       " 'A_4_centrality_df.csv',\n",
       " 'A_5_centrality_df.csv',\n",
       " 'A_6_centrality_df.csv',\n",
       " 'A_7_centrality_df.csv',\n",
       " 'A_8_centrality_df.csv',\n",
       " 'A_9_centrality_df.csv',\n",
       " 'A_all_centrality_df.csv',\n",
       " 'B_1_centrality_df.csv',\n",
       " 'B_2_centrality_df.csv',\n",
       " 'B_3_centrality_df.csv',\n",
       " 'B_4_centrality_df.csv',\n",
       " 'B_5_centrality_df.csv',\n",
       " 'B_6_centrality_df.csv',\n",
       " 'B_7_centrality_df.csv',\n",
       " 'B_8_centrality_df.csv',\n",
       " 'B_9_centrality_df.csv',\n",
       " 'B_all_centrality_df.csv']"
      ]
     },
     "execution_count": 69,
     "metadata": {},
     "output_type": "execute_result"
    }
   ],
   "source": [
    "centralities"
   ]
  },
  {
   "cell_type": "code",
   "execution_count": 11,
   "metadata": {},
   "outputs": [],
   "source": [
    "def create_avg_graph(cent_filename, successes = None):\n",
    "    print(\"Starting: \" + condition + \", \" + cent_filename)\n",
    "    # --------- Preparation ---------\n",
    "    save_bool = True # if you want to save the graph as an image\n",
    "    plot_edges_bool = False # if you want to plot the graph's edges\n",
    "    # implement parula color map scheme from matlab \n",
    "    cm_data = [[0.2081, 0.1663, 0.5292], [0.2116238095, 0.1897809524, 0.5776761905], \n",
    "     [0.212252381, 0.2137714286, 0.6269714286], [0.2081, 0.2386, 0.6770857143], \n",
    "     [0.1959047619, 0.2644571429, 0.7279], [0.1707285714, 0.2919380952, \n",
    "      0.779247619], [0.1252714286, 0.3242428571, 0.8302714286], \n",
    "     [0.0591333333, 0.3598333333, 0.8683333333], [0.0116952381, 0.3875095238, \n",
    "      0.8819571429], [0.0059571429, 0.4086142857, 0.8828428571], \n",
    "     [0.0165142857, 0.4266, 0.8786333333], [0.032852381, 0.4430428571, \n",
    "      0.8719571429], [0.0498142857, 0.4585714286, 0.8640571429], \n",
    "     [0.0629333333, 0.4736904762, 0.8554380952], [0.0722666667, 0.4886666667, \n",
    "      0.8467], [0.0779428571, 0.5039857143, 0.8383714286], \n",
    "     [0.079347619, 0.5200238095, 0.8311809524], [0.0749428571, 0.5375428571, \n",
    "      0.8262714286], [0.0640571429, 0.5569857143, 0.8239571429], \n",
    "     [0.0487714286, 0.5772238095, 0.8228285714], [0.0343428571, 0.5965809524, \n",
    "      0.819852381], [0.0265, 0.6137, 0.8135], [0.0238904762, 0.6286619048, \n",
    "      0.8037619048], [0.0230904762, 0.6417857143, 0.7912666667], \n",
    "     [0.0227714286, 0.6534857143, 0.7767571429], [0.0266619048, 0.6641952381, \n",
    "      0.7607190476], [0.0383714286, 0.6742714286, 0.743552381], \n",
    "     [0.0589714286, 0.6837571429, 0.7253857143], \n",
    "     [0.0843, 0.6928333333, 0.7061666667], [0.1132952381, 0.7015, 0.6858571429], \n",
    "     [0.1452714286, 0.7097571429, 0.6646285714], [0.1801333333, 0.7176571429, \n",
    "      0.6424333333], [0.2178285714, 0.7250428571, 0.6192619048], \n",
    "     [0.2586428571, 0.7317142857, 0.5954285714], [0.3021714286, 0.7376047619, \n",
    "      0.5711857143], [0.3481666667, 0.7424333333, 0.5472666667], \n",
    "     [0.3952571429, 0.7459, 0.5244428571], [0.4420095238, 0.7480809524, \n",
    "      0.5033142857], [0.4871238095, 0.7490619048, 0.4839761905], \n",
    "     [0.5300285714, 0.7491142857, 0.4661142857], [0.5708571429, 0.7485190476, \n",
    "      0.4493904762], [0.609852381, 0.7473142857, 0.4336857143], \n",
    "     [0.6473, 0.7456, 0.4188], [0.6834190476, 0.7434761905, 0.4044333333], \n",
    "     [0.7184095238, 0.7411333333, 0.3904761905], \n",
    "     [0.7524857143, 0.7384, 0.3768142857], [0.7858428571, 0.7355666667, \n",
    "      0.3632714286], [0.8185047619, 0.7327333333, 0.3497904762], \n",
    "     [0.8506571429, 0.7299, 0.3360285714], [0.8824333333, 0.7274333333, 0.3217], \n",
    "     [0.9139333333, 0.7257857143, 0.3062761905], [0.9449571429, 0.7261142857, \n",
    "      0.2886428571], [0.9738952381, 0.7313952381, 0.266647619], \n",
    "     [0.9937714286, 0.7454571429, 0.240347619], [0.9990428571, 0.7653142857, \n",
    "      0.2164142857], [0.9955333333, 0.7860571429, 0.196652381], \n",
    "     [0.988, 0.8066, 0.1793666667], [0.9788571429, 0.8271428571, 0.1633142857], \n",
    "     [0.9697, 0.8481380952, 0.147452381], [0.9625857143, 0.8705142857, 0.1309], \n",
    "     [0.9588714286, 0.8949, 0.1132428571], [0.9598238095, 0.9218333333, \n",
    "      0.0948380952], [0.9661, 0.9514428571, 0.0755333333], \n",
    "     [0.9763, 0.9831, 0.0538]]\n",
    "\n",
    "    parula_map = LinearSegmentedColormap.from_list('parula', cm_data)\n",
    "    # load the city map image\n",
    "    white_bg_img = cv2.imread(\"./ressources/map_white.png\")\n",
    "\n",
    "    # 1008 has seen all the buildings during exploration so load edge list for nodes\n",
    "\n",
    "    with open(\"./Results/Graphs/1008_edgelist.csv\") as f:\n",
    "        try:\n",
    "            edge_list = pd.read_csv(f)\n",
    "        except:\n",
    "            print(\"\\tCould not load 1008 edgelist!\")\n",
    "\n",
    "    centrality_df = pd.read_csv(PROCESSED_GRAPH_PATH + cent_filename);\n",
    "    \n",
    "    if successes is not None:\n",
    "        centrality_df = centrality_df.loc[centrality_df['Subject'].isin(successes)]\n",
    "        house_mean_dict = dict(centrality_df.loc[:,centrality_df.columns[1:]].mean(axis=0))\n",
    "        house_mean_dict.update({'Subject': 'Mean'})  \n",
    "\n",
    "        house_std_dict = dict(centrality_df.loc[:,centrality_df.columns[1:]].std(axis=0))\n",
    "        house_std_dict.update({'Subject': 'STD'})  \n",
    "\n",
    "        centrality_df = centrality_df.append(house_mean_dict, ignore_index=True)\n",
    "        centrality_df = centrality_df.append(house_std_dict, ignore_index=True)\n",
    "\n",
    "        subject_mean = centrality_df.loc[:,centrality_df.columns[1:]].mean(axis=1)\n",
    "        subject_std = centrality_df.loc[:,centrality_df.columns[1:]].std(axis=1)\n",
    "\n",
    "        centrality_df['Mean'] = subject_mean\n",
    "        centrality_df['STD'] = subject_std\n",
    "    \n",
    "\n",
    "    # --------- GRAPH CREATION ---------\n",
    "\n",
    "    # create graph from edgelist\n",
    "    G = nx.Graph()\n",
    "    G = nx.from_pandas_edgelist(edge_list, 'Edge1', 'Edge2')\n",
    "    # Remove the NoHit and NoHouse Node\n",
    "    G.remove_node('NoHit')\n",
    "    G.remove_node('NoHouse')\n",
    "\n",
    "    # Setting the node coordinates of each node of the graph\n",
    "    # node list\n",
    "    nodelist = list(G.nodes)\n",
    "    nodearray = np.array(G.nodes)\n",
    "\n",
    "\n",
    "    # get the average degree over subjects and sort them according to the node order of the donor subject\n",
    "    mean_dict = centrality_df[centrality_df['Subject'] == 'Mean'].to_dict('records')[0]\n",
    "    mean_dict.pop('Mean')\n",
    "    mean_dict.pop('STD')\n",
    "    mean_dict.pop('Subject')\n",
    "\n",
    "    sorted_mean_degrees_dict = dict()\n",
    "    for node in nodelist:\n",
    "        sorted_mean_degrees_dict[node] = mean_dict[node]\n",
    "\n",
    "    sorted_mean_degrees = list(sorted_mean_degrees_dict.values())\n",
    "\n",
    "    # create the coordinate dictionary and assign coordinates from the houselist to the graph nodes\n",
    "    node_pos = {}\n",
    "\n",
    "    for node in nodelist:\n",
    "        # assign node coordinates\n",
    "        x = houselist['transformed_collidercenter_x'][houselist.target_collider_name==node].values[0]\n",
    "        y = houselist['transformed_collidercenter_y'][houselist.target_collider_name==node].values[0]\n",
    "        node_pos[node] = (x,y) \n",
    "\n",
    "    # set the graph's node coordinates attribute\n",
    "    nx.set_node_attributes(G, node_pos, 'coord')\n",
    "\n",
    "\n",
    "    file_prefix = \"_\".join(cent_filename.split(\"_\")[0:-2])\n",
    "    if successes is not None: file_prefix += \"_onlysucc\"\n",
    "    # plot the map\n",
    "    fig = plt.figure(figsize=(20,15))\n",
    "    ax = plt.subplot2grid((10, 10), (0, 0), colspan=9,rowspan=10)\n",
    "    plt.title(\"Graph on Map - Average Degree - \" + file_prefix)\n",
    "    plt.xlim(0, 4096)\n",
    "    plt.ylim(0, 4096)\n",
    "    ax.set_frame_on(False)\n",
    "    plt.axis('off')\n",
    "    plt.imshow(white_bg_img,aspect=ax.get_aspect(),\n",
    "             extent= ax.get_xlim() + ax.get_ylim(),\n",
    "             zorder=1, alpha=0.8)\n",
    "\n",
    "    # Draw the graph \n",
    "    vmin = np.nanmin(sorted_mean_degrees)\n",
    "    vmax = np.nanmax(sorted_mean_degrees)\n",
    "\n",
    "    nx.draw_networkx_nodes(G,\n",
    "                           node_pos, \n",
    "                           alpha = 1, \n",
    "                           node_size = 100, \n",
    "                           node_color=sorted_mean_degrees, \n",
    "                           cmap=parula_map)\n",
    "\n",
    "    if plot_edges_bool == True:\n",
    "        nx.draw_networkx_edges(G, \n",
    "                               node_pos, \n",
    "                               edge_color='k', \n",
    "                               alpha=0.5, \n",
    "                               width=1,\n",
    "                               style='dashed')\n",
    "\n",
    "    sm = plt.cm.ScalarMappable(cmap=parula_map, norm=plt.Normalize(vmin=vmin, vmax=vmax))\n",
    "    sm.set_array([])\n",
    "    cbar = plt.colorbar(sm)\n",
    "    cbar.ax.tick_params(labelsize=20)\n",
    "    cbar.set_label('Node Degree', size=20)\n",
    "\n",
    "\n",
    "    # ------- SAVING ---------\n",
    "    \n",
    "\n",
    "    # save the graph as png \n",
    "    if save_bool == True:\n",
    "        # saving the subject info dataframe\n",
    "        try:\n",
    "            plt.savefig(PROCESSED_GRAPH_PATH + file_prefix + \"_AverageDegree_Graph.png\",\n",
    "                        format=\"PNG\", \n",
    "                        facecolor='white',\n",
    "                        transparent=False)\n",
    "\n",
    "\n",
    "            print(\"Average Graph PNG saved\")\n",
    "        except:\n",
    "            print(\"Could not save average Graph as PNG!\")\n",
    "    plt.close(fig)\n",
    "    \n",
    "    fig = plt.figure(figsize=(16,8))\n",
    "    plt.title(\"Node Degree Distribution - \" + file_prefix)\n",
    "    if(len(centrality_df) > 2): plt.hist(centrality_df.loc[len(centrality_df)-2][1:], bins=15, ec='black')\n",
    "    plt.xlabel(\"Node Degree\", fontsize=30)\n",
    "    plt.ylabel(\"Frequency\", fontsize=30)\n",
    "    \n",
    "    # saving the subject info dataframe\n",
    "    try:\n",
    "        plt.savefig(PROCESSED_GRAPH_PATH + file_prefix + \"_Degree_Distribution.png\",\n",
    "                    format=\"PNG\", \n",
    "                    facecolor='white',\n",
    "                    transparent=False)\n",
    "\n",
    "\n",
    "        print(\"Average Graph PNG saved\")\n",
    "    except:\n",
    "        print(\"Could not save average Graph as PNG!\")\n",
    "    plt.close(fig)\n",
    "    print('Done')\n",
    "    "
   ]
  },
  {
   "cell_type": "code",
   "execution_count": 77,
   "metadata": {},
   "outputs": [
    {
     "ename": "NameError",
     "evalue": "name 'centrality_df' is not defined",
     "output_type": "error",
     "traceback": [
      "\u001b[1;31m---------------------------------------------------------------------------\u001b[0m",
      "\u001b[1;31mNameError\u001b[0m                                 Traceback (most recent call last)",
      "\u001b[1;32m<ipython-input-77-69587c118b06>\u001b[0m in \u001b[0;36m<module>\u001b[1;34m\u001b[0m\n\u001b[1;32m----> 1\u001b[1;33m \u001b[0mcentrality_df\u001b[0m\u001b[1;33m\u001b[0m\u001b[1;33m\u001b[0m\u001b[0m\n\u001b[0m",
      "\u001b[1;31mNameError\u001b[0m: name 'centrality_df' is not defined"
     ]
    }
   ],
   "source": [
    "centrality_df"
   ]
  },
  {
   "cell_type": "code",
   "execution_count": 100,
   "metadata": {},
   "outputs": [],
   "source": [
    "mean_dict = centrality_df[centrality_df['Subject'] == 'Mean'].to_dict('records')[0]\n",
    "mean_dict.pop('Mean')\n",
    "mean_dict.pop('STD')\n",
    "mean_dict.pop('Subject')\n",
    "\n",
    "sorted_mean_degrees = np.array(list(mean_dict.values()))[np.argsort(list(dict(G.nodes).keys()))]\n"
   ]
  },
  {
   "cell_type": "code",
   "execution_count": 91,
   "metadata": {},
   "outputs": [
    {
     "data": {
      "text/html": [
       "<div>\n",
       "<style scoped>\n",
       "    .dataframe tbody tr th:only-of-type {\n",
       "        vertical-align: middle;\n",
       "    }\n",
       "\n",
       "    .dataframe tbody tr th {\n",
       "        vertical-align: top;\n",
       "    }\n",
       "\n",
       "    .dataframe thead th {\n",
       "        text-align: right;\n",
       "    }\n",
       "</style>\n",
       "<table border=\"1\" class=\"dataframe\">\n",
       "  <thead>\n",
       "    <tr style=\"text-align: right;\">\n",
       "      <th></th>\n",
       "      <th>Subject</th>\n",
       "      <th>Building_100</th>\n",
       "      <th>Building_101</th>\n",
       "      <th>Building_102</th>\n",
       "      <th>Building_103</th>\n",
       "      <th>Building_104</th>\n",
       "      <th>Building_105</th>\n",
       "      <th>Building_106</th>\n",
       "      <th>Building_107</th>\n",
       "      <th>Building_108</th>\n",
       "      <th>...</th>\n",
       "      <th>TaskBuilding_55</th>\n",
       "      <th>TaskBuilding_6</th>\n",
       "      <th>TaskBuilding_7</th>\n",
       "      <th>TaskBuilding_8</th>\n",
       "      <th>TaskBuilding_9</th>\n",
       "      <th>Windmill-TaskBuilding_10_1</th>\n",
       "      <th>crane_1</th>\n",
       "      <th>crane_2</th>\n",
       "      <th>Mean</th>\n",
       "      <th>STD</th>\n",
       "    </tr>\n",
       "  </thead>\n",
       "  <tbody>\n",
       "    <tr>\n",
       "      <th>0</th>\n",
       "      <td>1023</td>\n",
       "      <td>2</td>\n",
       "      <td>2</td>\n",
       "      <td>3</td>\n",
       "      <td>NaN</td>\n",
       "      <td>2</td>\n",
       "      <td>NaN</td>\n",
       "      <td>NaN</td>\n",
       "      <td>NaN</td>\n",
       "      <td>3</td>\n",
       "      <td>...</td>\n",
       "      <td>NaN</td>\n",
       "      <td>3</td>\n",
       "      <td>2</td>\n",
       "      <td>NaN</td>\n",
       "      <td>4</td>\n",
       "      <td>2</td>\n",
       "      <td>NaN</td>\n",
       "      <td>NaN</td>\n",
       "      <td>3.355705</td>\n",
       "      <td>2.010358</td>\n",
       "    </tr>\n",
       "    <tr>\n",
       "      <th>1</th>\n",
       "      <td>Mean</td>\n",
       "      <td>2</td>\n",
       "      <td>2</td>\n",
       "      <td>3</td>\n",
       "      <td>NaN</td>\n",
       "      <td>2</td>\n",
       "      <td>NaN</td>\n",
       "      <td>NaN</td>\n",
       "      <td>NaN</td>\n",
       "      <td>3</td>\n",
       "      <td>...</td>\n",
       "      <td>NaN</td>\n",
       "      <td>3</td>\n",
       "      <td>2</td>\n",
       "      <td>NaN</td>\n",
       "      <td>4</td>\n",
       "      <td>2</td>\n",
       "      <td>NaN</td>\n",
       "      <td>NaN</td>\n",
       "      <td>3.355705</td>\n",
       "      <td>2.010358</td>\n",
       "    </tr>\n",
       "    <tr>\n",
       "      <th>2</th>\n",
       "      <td>STD</td>\n",
       "      <td>NaN</td>\n",
       "      <td>NaN</td>\n",
       "      <td>NaN</td>\n",
       "      <td>NaN</td>\n",
       "      <td>NaN</td>\n",
       "      <td>NaN</td>\n",
       "      <td>NaN</td>\n",
       "      <td>NaN</td>\n",
       "      <td>NaN</td>\n",
       "      <td>...</td>\n",
       "      <td>NaN</td>\n",
       "      <td>NaN</td>\n",
       "      <td>NaN</td>\n",
       "      <td>NaN</td>\n",
       "      <td>NaN</td>\n",
       "      <td>NaN</td>\n",
       "      <td>NaN</td>\n",
       "      <td>NaN</td>\n",
       "      <td>NaN</td>\n",
       "      <td>NaN</td>\n",
       "    </tr>\n",
       "  </tbody>\n",
       "</table>\n",
       "<p>3 rows × 247 columns</p>\n",
       "</div>"
      ],
      "text/plain": [
       "  Subject Building_100 Building_101 Building_102 Building_103 Building_104  \\\n",
       "0    1023            2            2            3          NaN            2   \n",
       "1    Mean            2            2            3          NaN            2   \n",
       "2     STD          NaN          NaN          NaN          NaN          NaN   \n",
       "\n",
       "  Building_105 Building_106 Building_107 Building_108  ... TaskBuilding_55  \\\n",
       "0          NaN          NaN          NaN            3  ...             NaN   \n",
       "1          NaN          NaN          NaN            3  ...             NaN   \n",
       "2          NaN          NaN          NaN          NaN  ...             NaN   \n",
       "\n",
       "  TaskBuilding_6 TaskBuilding_7 TaskBuilding_8 TaskBuilding_9  \\\n",
       "0              3              2            NaN              4   \n",
       "1              3              2            NaN              4   \n",
       "2            NaN            NaN            NaN            NaN   \n",
       "\n",
       "  Windmill-TaskBuilding_10_1 crane_1 crane_2      Mean       STD  \n",
       "0                          2     NaN     NaN  3.355705  2.010358  \n",
       "1                          2     NaN     NaN  3.355705  2.010358  \n",
       "2                        NaN     NaN     NaN       NaN       NaN  \n",
       "\n",
       "[3 rows x 247 columns]"
      ]
     },
     "execution_count": 91,
     "metadata": {},
     "output_type": "execute_result"
    }
   ],
   "source": [
    "centrality_df"
   ]
  },
  {
   "cell_type": "markdown",
   "metadata": {},
   "source": [
    "## Plotting the average node degree distribution"
   ]
  },
  {
   "cell_type": "code",
   "execution_count": 101,
   "metadata": {},
   "outputs": [
    {
     "name": "stderr",
     "output_type": "stream",
     "text": [
      "C:\\Users\\experiment\\.conda\\envs\\graphs\\lib\\site-packages\\numpy\\lib\\histograms.py:836: RuntimeWarning: invalid value encountered in greater_equal\n",
      "  keep = (tmp_a >= first_edge)\n",
      "C:\\Users\\experiment\\.conda\\envs\\graphs\\lib\\site-packages\\numpy\\lib\\histograms.py:837: RuntimeWarning: invalid value encountered in less_equal\n",
      "  keep &= (tmp_a <= last_edge)\n"
     ]
    },
    {
     "data": {
      "text/plain": [
       "Text(0, 0.5, 'Frequency')"
      ]
     },
     "execution_count": 101,
     "metadata": {},
     "output_type": "execute_result"
    },
    {
     "data": {
      "image/png": "[encoded data removed]",
      "text/plain": [
       "<Figure size 1152x576 with 1 Axes>"
      ]
     },
     "metadata": {
      "needs_background": "light"
     },
     "output_type": "display_data"
    }
   ],
   "source": [
    "plt.figure(figsize=(16,8))\n",
    "plt.hist(centrality_df.loc[len(centrality_df)-2][1:], bins=15, ec='black')\n",
    "plt.xlabel(\"Node Degree\", fontsize=30)\n",
    "plt.ylabel(\"Frequency\", fontsize=30)\n"
   ]
  },
  {
   "cell_type": "code",
   "execution_count": 102,
   "metadata": {},
   "outputs": [
    {
     "name": "stdout",
     "output_type": "stream",
     "text": [
      "Mean/Std Degree: 4.40/2.69\n",
      "Maxmimum Degree of 12.00 is 2.83 sigma away from the mean\n"
     ]
    }
   ],
   "source": [
    "mean_degree = centrality_df.loc[centrality_df[centrality_df.Subject == 'Mean'].index[0], 'Mean']\n",
    "std_degree = centrality_df.loc[centrality_df[centrality_df.Subject == 'Mean'].index[0], 'STD']\n",
    "max_degree = max(centrality_df[centrality_df.Subject == 'Mean'].iloc[0, 1:-2])\n",
    "\n",
    "print('Mean/Std Degree: ' + str(\"{:.2f}\".format(mean_degree)) + '/' + str(\"{:.2f}\".format(std_degree)))\n",
    "print('Maxmimum Degree of ' \n",
    "      + str(\"{:.2f}\".format(max_degree)) \n",
    "      + ' is ' +\n",
    "      \"{:.2f}\".format((max_degree-mean_degree)/std_degree)\n",
    "      + ' sigma away from the mean')\n",
    "\n"
   ]
  },
  {
   "cell_type": "markdown",
   "metadata": {},
   "source": [
    "# Paths Which Cross Triangulated Regions"
   ]
  },
  {
   "cell_type": "code",
   "execution_count": 3,
   "metadata": {},
   "outputs": [],
   "source": [
    "import Ressources.TransformHelper as TransformHelper\n",
    "import pickle\n",
    "from matplotlib.colors import ListedColormap\n",
    "from skimage.transform.pyramids import pyramid_expand as expand\n",
    "\n",
    "green = [0.40,0.80,0.42]\n",
    "blue = [0.27,0.38,0.99]\n",
    "yellow = [0.96,0.73,0.23]\n",
    "darkblue = [0.18, 0.19, 0.69]\n",
    "lightyellow = [0.9763, 0.9831, 0.0538] \n",
    "grey = [0.75,0.75,0.75]\n",
    "white = [1,1,1]\n",
    "\n",
    "def save_to_disk(data, filepath):\n",
    "    with open(filepath, 'wb') as file:\n",
    "        pickle.dump(data, file)\n",
    "def load_from_disk(filepath):\n",
    "    with open(filepath, 'rb') as file:\n",
    "        data = pickle.load(file)\n",
    "        return data\n",
    "# External data for mapping \n",
    "transform_infos = load_from_disk(\"./Ressources/map_image_transform_infos.pickle\")\n",
    "transform_matrix = transform_infos[\"perspective_transform_matrix\"]\n",
    "\n",
    "white_bg_img = cv2.imread(\"./ressources/map_white.png\")\n"
   ]
  },
  {
   "cell_type": "code",
   "execution_count": 4,
   "metadata": {},
   "outputs": [],
   "source": [
    "def path_crossed_triangulation(path_df):\n",
    "    \n",
    "    crossed = False\n",
    "    # transform coordinates from path_df\n",
    "    gazes = TransformHelper.apply_perspective_transform_matrix(transform_matrix,\n",
    "                                                                img_size=(4096,4096),\n",
    "                                                                dataframe=path_df,\n",
    "                                                                df_x_name=\"HMD_x\",\n",
    "                                                                df_y_name=\"HMD_z\",\n",
    "                                                                transform_x_name=\"transformed_HMD_x\",\n",
    "                                                                transform_y_name=\"transformed_HMD_y\")\n",
    "    \n",
    "    hmdPositions = list(zip(path_df['HMD_x'], path_df['HMD_z']));\n",
    "    \n",
    "    # Round up each of hmdPositions\n",
    "\n",
    "    hmdPositions = [(round(x), round(z)) for (x,z) in hmdPositions];\n",
    "    \n",
    "    Locations = np.load(\"./Results/Graphs/TriangulationLocations.npy\")\n",
    "    \n",
    "    # Assume grid is 2x2 matrix\n",
    "    triang_coeffs = []\n",
    "    for gaze_idx in range(len(gazes)-1):\n",
    "        x = round(gazes.transformed_HMD_x[gaze_idx]/16)\n",
    "        y = round(gazes.transformed_HMD_y[gaze_idx]/16)\n",
    "\n",
    "        triang_coeffs.append(Locations[y,x]);\n",
    "    \n",
    "    crossed = True if sum(t >=2 for t in triang_coeffs) / len(triang_coeffs) >= 0.50 else False;\n",
    "    \n",
    "    return crossed, gazes"
   ]
  },
  {
   "cell_type": "code",
   "execution_count": 5,
   "metadata": {},
   "outputs": [
    {
     "name": "stdout",
     "output_type": "stream",
     "text": [
      "Calculating Perspective Transform for DataFrame...\n"
     ]
    },
    {
     "name": "stderr",
     "output_type": "stream",
     "text": [
      "100%|████████████████████████████████████████████████████████████████████████████| 2341/2341 [00:00<00:00, 2903.10it/s]\n"
     ]
    },
    {
     "name": "stdout",
     "output_type": "stream",
     "text": [
      "Calculating Perspective Transform for DataFrame...\n"
     ]
    },
    {
     "name": "stderr",
     "output_type": "stream",
     "text": [
      "100%|██████████████████████████████████████████████████████████████████████████████| 436/436 [00:00<00:00, 2456.00it/s]\n"
     ]
    },
    {
     "name": "stdout",
     "output_type": "stream",
     "text": [
      "Calculating Perspective Transform for DataFrame...\n"
     ]
    },
    {
     "name": "stderr",
     "output_type": "stream",
     "text": [
      "100%|██████████████████████████████████████████████████████████████████████████████| 196/196 [00:00<00:00, 1309.15it/s]\n"
     ]
    },
    {
     "name": "stdout",
     "output_type": "stream",
     "text": [
      "Calculating Perspective Transform for DataFrame...\n"
     ]
    },
    {
     "name": "stderr",
     "output_type": "stream",
     "text": [
      "100%|████████████████████████████████████████████████████████████████████████████| 3028/3028 [00:01<00:00, 2344.52it/s]\n"
     ]
    },
    {
     "name": "stdout",
     "output_type": "stream",
     "text": [
      "Calculating Perspective Transform for DataFrame...\n"
     ]
    },
    {
     "name": "stderr",
     "output_type": "stream",
     "text": [
      "100%|██████████████████████████████████████████████████████████████████████████████| 388/388 [00:00<00:00, 1005.26it/s]\n"
     ]
    },
    {
     "name": "stdout",
     "output_type": "stream",
     "text": [
      "Calculating Perspective Transform for DataFrame...\n"
     ]
    },
    {
     "name": "stderr",
     "output_type": "stream",
     "text": [
      "100%|██████████████████████████████████████████████████████████████████████████████| 503/503 [00:00<00:00, 2345.79it/s]\n"
     ]
    },
    {
     "name": "stdout",
     "output_type": "stream",
     "text": [
      "Calculating Perspective Transform for DataFrame...\n"
     ]
    },
    {
     "name": "stderr",
     "output_type": "stream",
     "text": [
      "100%|██████████████████████████████████████████████████████████████████████████████| 173/173 [00:00<00:00, 2550.90it/s]\n"
     ]
    },
    {
     "name": "stdout",
     "output_type": "stream",
     "text": [
      "Calculating Perspective Transform for DataFrame...\n"
     ]
    },
    {
     "name": "stderr",
     "output_type": "stream",
     "text": [
      "100%|██████████████████████████████████████████████████████████████████████████████| 596/596 [00:00<00:00, 2078.48it/s]\n"
     ]
    },
    {
     "name": "stdout",
     "output_type": "stream",
     "text": [
      "Calculating Perspective Transform for DataFrame...\n"
     ]
    },
    {
     "name": "stderr",
     "output_type": "stream",
     "text": [
      "100%|██████████████████████████████████████████████████████████████████████████████| 405/405 [00:00<00:00, 2339.95it/s]\n"
     ]
    }
   ],
   "source": [
    "perf_df = pd.read_csv(PROCESSED_DATA_PATH + condition + '_Performance_Analysis.csv');\n",
    "paths_crossed = pd.DataFrame(columns=['SubjectID', 'PathNum', 'Crossed', 'Success']);\n",
    "\n",
    "gazes = []\n",
    "for subject in subIDs:\n",
    "    try:\n",
    "        int_df = pd.read_csv(PROCESSED_DATA_PATH + str(subject) + '_interpolation_df.csv');\n",
    "    except:\n",
    "        print('Interpolation df for subject ' + str(subject) + ' not found');\n",
    "        \n",
    "    subject_perf = perf_df.loc[perf_df.SubjectID == subject]\n",
    "    \n",
    "    for i in range(1,10):\n",
    "        path_df = int_df[int_df.PathNumber == i].reset_index(drop=True);\n",
    "        \n",
    "        crossed, gazes_i = path_crossed_triangulation(path_df);\n",
    "        gazes.append(gazes_i)\n",
    "        success = list(subject_perf[\"P\"+str(i)+\":Success\"])[0];\n",
    "        \n",
    "        paths_crossed = paths_crossed.append({\n",
    "            'SubjectID' : subject,\n",
    "            'PathNum' : i,\n",
    "            'Crossed' : crossed,\n",
    "            'Success' : success\n",
    "        }, ignore_index = True)\n",
    "        \n"
   ]
  },
  {
   "cell_type": "code",
   "execution_count": 6,
   "metadata": {},
   "outputs": [
    {
     "data": {
      "text/html": [
       "<div>\n",
       "<style scoped>\n",
       "    .dataframe tbody tr th:only-of-type {\n",
       "        vertical-align: middle;\n",
       "    }\n",
       "\n",
       "    .dataframe tbody tr th {\n",
       "        vertical-align: top;\n",
       "    }\n",
       "\n",
       "    .dataframe thead th {\n",
       "        text-align: right;\n",
       "    }\n",
       "</style>\n",
       "<table border=\"1\" class=\"dataframe\">\n",
       "  <thead>\n",
       "    <tr style=\"text-align: right;\">\n",
       "      <th></th>\n",
       "      <th>SubjectID</th>\n",
       "      <th>PathNum</th>\n",
       "      <th>Crossed</th>\n",
       "      <th>Success</th>\n",
       "    </tr>\n",
       "  </thead>\n",
       "  <tbody>\n",
       "    <tr>\n",
       "      <th>0</th>\n",
       "      <td>1023</td>\n",
       "      <td>1</td>\n",
       "      <td>True</td>\n",
       "      <td>True</td>\n",
       "    </tr>\n",
       "    <tr>\n",
       "      <th>1</th>\n",
       "      <td>1023</td>\n",
       "      <td>2</td>\n",
       "      <td>True</td>\n",
       "      <td>True</td>\n",
       "    </tr>\n",
       "    <tr>\n",
       "      <th>2</th>\n",
       "      <td>1023</td>\n",
       "      <td>3</td>\n",
       "      <td>True</td>\n",
       "      <td>True</td>\n",
       "    </tr>\n",
       "    <tr>\n",
       "      <th>3</th>\n",
       "      <td>1023</td>\n",
       "      <td>4</td>\n",
       "      <td>False</td>\n",
       "      <td>False</td>\n",
       "    </tr>\n",
       "    <tr>\n",
       "      <th>4</th>\n",
       "      <td>1023</td>\n",
       "      <td>5</td>\n",
       "      <td>True</td>\n",
       "      <td>True</td>\n",
       "    </tr>\n",
       "    <tr>\n",
       "      <th>5</th>\n",
       "      <td>1023</td>\n",
       "      <td>6</td>\n",
       "      <td>False</td>\n",
       "      <td>True</td>\n",
       "    </tr>\n",
       "    <tr>\n",
       "      <th>6</th>\n",
       "      <td>1023</td>\n",
       "      <td>7</td>\n",
       "      <td>False</td>\n",
       "      <td>True</td>\n",
       "    </tr>\n",
       "    <tr>\n",
       "      <th>7</th>\n",
       "      <td>1023</td>\n",
       "      <td>8</td>\n",
       "      <td>False</td>\n",
       "      <td>True</td>\n",
       "    </tr>\n",
       "    <tr>\n",
       "      <th>8</th>\n",
       "      <td>1023</td>\n",
       "      <td>9</td>\n",
       "      <td>False</td>\n",
       "      <td>True</td>\n",
       "    </tr>\n",
       "  </tbody>\n",
       "</table>\n",
       "</div>"
      ],
      "text/plain": [
       "  SubjectID PathNum Crossed Success\n",
       "0      1023       1    True    True\n",
       "1      1023       2    True    True\n",
       "2      1023       3    True    True\n",
       "3      1023       4   False   False\n",
       "4      1023       5    True    True\n",
       "5      1023       6   False    True\n",
       "6      1023       7   False    True\n",
       "7      1023       8   False    True\n",
       "8      1023       9   False    True"
      ]
     },
     "execution_count": 6,
     "metadata": {},
     "output_type": "execute_result"
    }
   ],
   "source": [
    "paths_crossed"
   ]
  },
  {
   "cell_type": "code",
   "execution_count": 11,
   "metadata": {
    "scrolled": false
   },
   "outputs": [
    {
     "data": {
      "image/png": "[encoded data removed]",
      "text/plain": [
       "<Figure size 1440x1080 with 1 Axes>"
      ]
     },
     "metadata": {
      "needs_background": "light"
     },
     "output_type": "display_data"
    }
   ],
   "source": [
    "Locations = np.zeros((256,256))\n",
    "#RichLocations = np.load('./Results/Graphs/TriangulationLocations.npy')\n",
    "\n",
    "for i in range(len(gazes)):\n",
    "    current_gaze = gazes[i]\n",
    "    # loop to check which location has been visited\n",
    "    for gaze_idx in range(len(current_gaze)-1):\n",
    "\n",
    "        x = round(current_gaze.transformed_HMD_x[gaze_idx]/16)\n",
    "        y = round(current_gaze.transformed_HMD_y[gaze_idx]/16)\n",
    "\n",
    "        if Locations[y,x] == 0:\n",
    "            Locations[y,x] = 1.2 ** i\n",
    "            Locations[y,x] = int(Locations[y,x])\n",
    "\n",
    "Locations = expand(Locations, upscale=16)\n",
    "#RichLocations = expand(RichLocations, upscale=16)\n",
    "\n",
    "# ---------- PLOTTING ---------   \n",
    "\n",
    "#discrete color scheme\n",
    "cMap = ListedColormap([darkblue, green, lightyellow])\n",
    "\n",
    "\n",
    "fig = plt.figure(figsize=(20,15))\n",
    "    \n",
    "ax = plt.subplot2grid((10, 10), (0, 0), colspan=9,rowspan=10)\n",
    "plt.xlim(0, 4096)\n",
    "plt.ylim(0, 4096)\n",
    "ax.set_frame_on(False)\n",
    "plt.axis('off')\n",
    "\n",
    "\n",
    "# Here, for plot visibility, I am doing a inverse Canny Edge Detection \n",
    "# to only plot the binary edge image of the map\n",
    "plt.imshow(cv2.bitwise_not(cv2.Canny(white_bg_img, threshold1=30, threshold2=100)),\n",
    "         aspect=ax.get_aspect(),\n",
    "         extent= ax.get_xlim() + ax.get_ylim(),\n",
    "         zorder=1, alpha=0.3)\n",
    "\n",
    "plt.gray()\n",
    "\n",
    "\n",
    "\n",
    "triang = plt.imshow(np.ceil(Locations.max())-Locations)\n",
    "\n",
    "\n",
    "# triang2 = plt.imshow(RichLocations,\n",
    "#            alpha = 1,\n",
    "#            cmap=cMap)\n",
    "\n",
    "# cbar = plt.colorbar(triang2)\n",
    "# cbar.ax.get_yaxis().set_ticks([])\n",
    "\n",
    "# for j, lab in enumerate(['0','1','>2']):\n",
    "#     cbar.ax.text(1,\n",
    "#                  (2 * j + 1)/2.0 ,\n",
    "#                  lab,\n",
    "#                  ha='center',\n",
    "#                  va='center',\n",
    "#                  fontsize=fontsize)\n",
    "    \n",
    "# cbar.set_label('Visible Rich CLub Houses', size=fontsize+5, labelpad=20)\n",
    "    \n",
    "\n",
    "\n",
    "   \n"
   ]
  },
  {
   "cell_type": "code",
   "execution_count": 56,
   "metadata": {},
   "outputs": [
    {
     "data": {
      "text/plain": [
       "0.0"
      ]
     },
     "execution_count": 56,
     "metadata": {},
     "output_type": "execute_result"
    }
   ],
   "source": [
    "Locations.min()"
   ]
  },
  {
   "cell_type": "code",
   "execution_count": 8,
   "metadata": {},
   "outputs": [],
   "source": [
    "# TODO : Cross correlation\n",
    "\n",
    "# Available centrality DFs\n",
    "\n",
    "\"\"\"\n",
    "Single:\n",
    "\n",
    "A_1_centrality_df.csv  A_8_centrality_df.csv    B_5_centrality_df.csv\n",
    "A_2_centrality_df.csv  A_9_centrality_df.csv    B_6_centrality_df.csv\n",
    "A_3_centrality_df.csv  A_all_centrality_df.csv  B_7_centrality_df.csv\n",
    "A_4_centrality_df.csv  B_1_centrality_df.csv    B_8_centrality_df.csv\n",
    "A_5_centrality_df.csv  B_2_centrality_df.csv    B_9_centrality_df.csv\n",
    "A_6_centrality_df.csv  B_3_centrality_df.csv    B_all_centrality_df.csv\n",
    "A_7_centrality_df.csv  B_4_centrality_df.csv\n",
    "\n",
    "SingleC:\n",
    "\n",
    "A_1_centrality_df.csv  A_8_centrality_df.csv    B_5_centrality_df.csv\n",
    "A_2_centrality_df.csv  A_9_centrality_df.csv    B_6_centrality_df.csv\n",
    "A_3_centrality_df.csv  A_all_centrality_df.csv  B_7_centrality_df.csv\n",
    "A_4_centrality_df.csv  B_1_centrality_df.csv    B_8_centrality_df.csv\n",
    "A_5_centrality_df.csv  B_2_centrality_df.csv    B_9_centrality_df.csv\n",
    "A_6_centrality_df.csv  B_3_centrality_df.csv    B_all_centrality_df.csv\n",
    "A_7_centrality_df.csv  B_4_centrality_df.csv\n",
    "\n",
    "Dyadic:\n",
    "\n",
    "A_1_F_centrality_df.csv  A_8_F_centrality_df.csv    B_5_F_centrality_df.csv\n",
    "A_1_L_centrality_df.csv  A_8_L_centrality_df.csv    B_5_L_centrality_df.csv\n",
    "A_2_F_centrality_df.csv  A_9_F_centrality_df.csv    B_6_F_centrality_df.csv\n",
    "A_2_L_centrality_df.csv  A_9_L_centrality_df.csv    B_6_L_centrality_df.csv\n",
    "A_3_F_centrality_df.csv  A_all_F_centrality_df.csv  B_7_F_centrality_df.csv\n",
    "A_3_L_centrality_df.csv  A_all_L_centrality_df.csv  B_7_L_centrality_df.csv\n",
    "A_4_F_centrality_df.csv  B_1_F_centrality_df.csv    B_8_F_centrality_df.csv\n",
    "A_4_L_centrality_df.csv  B_1_L_centrality_df.csv    B_8_L_centrality_df.csv\n",
    "A_5_F_centrality_df.csv  B_2_F_centrality_df.csv    B_9_F_centrality_df.csv\n",
    "A_5_L_centrality_df.csv  B_2_L_centrality_df.csv    B_9_L_centrality_df.csv\n",
    "A_6_F_centrality_df.csv  B_3_F_centrality_df.csv    B_all_F_centrality_df.csv\n",
    "A_6_L_centrality_df.csv  B_3_L_centrality_df.csv    B_all_L_centrality_df.csv\n",
    "A_7_F_centrality_df.csv  B_4_F_centrality_df.csv\n",
    "A_7_L_centrality_df.csv  B_4_L_centrality_df.csv\n",
    "\n",
    "\n",
    "\"\"\""
   ]
  },
  {
   "cell_type": "code",
   "execution_count": null,
   "metadata": {},
   "outputs": [],
   "source": []
  }
 ],
 "metadata": {
  "kernelspec": {
   "display_name": "Python 3",
   "language": "python",
   "name": "python3"
  },
  "language_info": {
   "codemirror_mode": {
    "name": "ipython",
    "version": 3
   },
   "file_extension": ".py",
   "mimetype": "text/x-python",
   "name": "python",
   "nbconvert_exporter": "python",
   "pygments_lexer": "ipython3",
   "version": "3.6.13"
  }
 },
 "nbformat": 4,
 "nbformat_minor": 4
}
